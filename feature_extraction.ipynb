{
 "cells": [
  {
   "cell_type": "markdown",
   "metadata": {},
   "source": [
    "### Slideflow Tutorial Notebook: Feature Extraction, UMAP Visualization, MIL Classifier\n",
    "This notebook is designed to take users through:<br>\n",
    "1. [Importing a Slideflow Project](#import)\n",
    "    - [Tile Extraction](#tile)<br>\n",
    "2. [Feature Extraction](#fe)\n",
    "    - [Pre-Trained Feature Extraction](#pre-fe)<br>\n",
    "3. [Feature Visualization](#feature_viz)\n",
    "    - [UMAP Visualization](#umap_viz)<br>\n",
    "4. [Training an SSL model Feature Extraction](#ssl-fe)<br><br>\n",
    "5. [Training an MIL Model](#mil) *Not done* <br><br>\n",
    "6. [Classifier Result Visualization](#class_viz) *Not done* \n",
    "    - [Custom AUROC](#auroc)\n",
    "    - [Confusion Matrix](#cmat)"
   ]
  },
  {
   "cell_type": "markdown",
   "metadata": {},
   "source": [
    "<a id='import'></a>\n",
    "### Import libraries"
   ]
  },
  {
   "cell_type": "markdown",
   "metadata": {},
   "source": [
    "Always the first step."
   ]
  },
  {
   "cell_type": "code",
   "execution_count": 1,
   "metadata": {},
   "outputs": [
    {
     "name": "stdout",
     "output_type": "stream",
     "text": [
      "GPU available:  True\n",
      "GPU count:  1\n",
      "GPU current:  0\n",
      "GPU name:  NVIDIA A100-PCIE-40GB\n"
     ]
    },
    {
     "data": {
      "text/html": [
       "<pre style=\"white-space:pre;overflow-x:auto;line-height:normal;font-family:Menlo,'DejaVu Sans Mono',consolas,'Courier New',monospace\"><span style=\"color: #af00ff; text-decoration-color: #af00ff\">╭───────────────────────╮</span>                                                                                          \n",
       "<span style=\"color: #af00ff; text-decoration-color: #af00ff\">│</span> <span style=\"color: #c0c0c0; text-decoration-color: #c0c0c0; font-weight: bold\">Slideflow</span>             <span style=\"color: #af00ff; text-decoration-color: #af00ff\">│</span>                                                                                          \n",
       "<span style=\"color: #af00ff; text-decoration-color: #af00ff\">│</span> Version: 3.0.1        <span style=\"color: #af00ff; text-decoration-color: #af00ff\">│</span>                                                                                          \n",
       "<span style=\"color: #af00ff; text-decoration-color: #af00ff\">│</span> Backend: <span style=\"color: #af00ff; text-decoration-color: #af00ff\">torch</span>        <span style=\"color: #af00ff; text-decoration-color: #af00ff\">│</span>                                                                                          \n",
       "<span style=\"color: #af00ff; text-decoration-color: #af00ff\">│</span> Slide Backend: <span style=\"color: #008000; text-decoration-color: #008000\">cucim</span>  <span style=\"color: #af00ff; text-decoration-color: #af00ff\">│</span>                                                                                          \n",
       "<span style=\"color: #af00ff; text-decoration-color: #af00ff\">│</span> <span style=\"color: #000080; text-decoration-color: #000080\">https://slideflow.dev</span> <span style=\"color: #af00ff; text-decoration-color: #af00ff\">│</span>                                                                                          \n",
       "<span style=\"color: #af00ff; text-decoration-color: #af00ff\">╰───────────────────────╯</span>                                                                                          \n",
       "</pre>\n"
      ],
      "text/plain": [
       "\u001b[38;5;129m╭───────────────────────╮\u001b[0m                                                                                          \n",
       "\u001b[38;5;129m│\u001b[0m \u001b[1;37mSlideflow\u001b[0m             \u001b[38;5;129m│\u001b[0m                                                                                          \n",
       "\u001b[38;5;129m│\u001b[0m Version: 3.0.1        \u001b[38;5;129m│\u001b[0m                                                                                          \n",
       "\u001b[38;5;129m│\u001b[0m Backend: \u001b[38;5;129mtorch\u001b[0m        \u001b[38;5;129m│\u001b[0m                                                                                          \n",
       "\u001b[38;5;129m│\u001b[0m Slide Backend: \u001b[32mcucim\u001b[0m  \u001b[38;5;129m│\u001b[0m                                                                                          \n",
       "\u001b[38;5;129m│\u001b[0m \u001b[34mhttps://slideflow.dev\u001b[0m \u001b[38;5;129m│\u001b[0m                                                                                          \n",
       "\u001b[38;5;129m╰───────────────────────╯\u001b[0m                                                                                          \n"
      ]
     },
     "metadata": {},
     "output_type": "display_data"
    }
   ],
   "source": [
    "# Set environment variables with os package\n",
    "import os\n",
    "os.environ['SF_BACKEND'] = 'torch' # Alternative is 'tensorflow'\n",
    "os.environ['SF_SLIDE_BACKEND'] = 'cucim' # Alternative is 'libvips'\n",
    "os.environ['CUDA_VISIBLE_DEVICES'] = '0' # Set which GPU(s) to use \n",
    "\n",
    "# Check if GPU is available\n",
    "if os.environ['SF_BACKEND']=='torch':\n",
    "    import torch\n",
    "    print('GPU available: ', torch.cuda.is_available())\n",
    "    print('GPU count: ', torch.cuda.device_count())\n",
    "    print('GPU current: ', torch.cuda.current_device())\n",
    "    print('GPU name: ', torch.cuda.get_device_name(torch.cuda.current_device()))\n",
    "elif os.environ['SF_BACKEND']=='tensorflow':\n",
    "    import tensorflow as tf\n",
    "    print(\"GPU: \", len(tf.config.list_physical_devices('GPU')))\n",
    "\n",
    "# import slideflow\n",
    "import slideflow as sf\n",
    "\n",
    "# Set verbose logging\n",
    "import logging\n",
    "logging.getLogger('slideflow').setLevel(logging.INFO)\n",
    "os.environ['TF_CPP_MIN_LOG_LEVEL'] = '10'\n",
    "import sys\n",
    "sys.stderr = sys.__stdout__\n",
    "\n",
    "# Check if slideflow was properly installed\n",
    "sf.about()"
   ]
  },
  {
   "cell_type": "markdown",
   "metadata": {},
   "source": [
    "<a id='project'></a>\n",
    "### Getting Started with a Slideflow Project"
   ]
  },
  {
   "cell_type": "markdown",
   "metadata": {},
   "source": [
    "This tutorial assumes that you have already created a project folder. Once the project has been created and you have specified the paths to datasets, annotation files, etc. we will begin by initializing a Slideflow Project object."
   ]
  },
  {
   "cell_type": "code",
   "execution_count": 4,
   "metadata": {},
   "outputs": [],
   "source": [
    "# Set root paths\n",
    "username = \"skochanny\" # change me\n",
    "root_path = f'/scratch/{username}/PROJECTS'\n",
    "labshare_path = '/gpfs/data/pearson-lab/'\n",
    "project_name = \"TEST_PROJECT\"\n",
    "project_root_path = f\"{root_path}/{project_name}\"\n",
    "\n",
    "# # Initialize the Project class object\n",
    "P = sf.Project(project_root_path)"
   ]
  },
  {
   "cell_type": "markdown",
   "metadata": {},
   "source": [
    "<a id='tile'></a>\n",
    "#### Tile Extraction (If Needed)"
   ]
  },
  {
   "cell_type": "markdown",
   "metadata": {},
   "source": [
    "Once the project and dataset have been specified, we can extract tiles from the whole slide images. If this step has already been completed, you can skip this section.<br><br>\n",
    "Notes regarding tile extraction:<br>\n",
    "- If you do not have manually annotated ROIs, the image will be tiled. If taking this route, be sure to edit the `whitespace_fraction` parameter such that tiles that are mostly white space are not included in the analysis. You can check the extraction report to see this. \n",
    "- If you do have manually annotated ROIs, you can force the tile extration to be only within the ROIs by setting `roi_method='inside'` \n",
    "- `qc` is a quality control parameter that will remove tiles based on blur detection and/or otsu's method<br>\n",
    "\n",
    "Additional parameters for tile extraction can be found in the [Slideflow documentation here](https://slideflow.dev/dataset/#slideflow.Dataset.extract_tiles). \n"
   ]
  },
  {
   "cell_type": "code",
   "execution_count": 10,
   "metadata": {},
   "outputs": [
    {
     "data": {
      "text/html": [
       "<pre style=\"white-space:pre;overflow-x:auto;line-height:normal;font-family:Menlo,'DejaVu Sans Mono',consolas,'Courier New',monospace\"><span style=\"color: #7fbfbf; text-decoration-color: #7fbfbf\">[12:42:16] </span><span style=\"color: #000080; text-decoration-color: #000080\">INFO    </span> Slide reading backend: <span style=\"color: #008000; text-decoration-color: #008000\">cucim</span>                                                                   \n",
       "</pre>\n"
      ],
      "text/plain": [
       "\u001b[2;36m[12:42:16]\u001b[0m\u001b[2;36m \u001b[0m\u001b[34mINFO    \u001b[0m Slide reading backend: \u001b[32mcucim\u001b[0m                                                                   \n"
      ]
     },
     "metadata": {},
     "output_type": "display_data"
    },
    {
     "data": {
      "text/html": [
       "<pre style=\"white-space:pre;overflow-x:auto;line-height:normal;font-family:Menlo,'DejaVu Sans Mono',consolas,'Courier New',monospace\"><span style=\"color: #7fbfbf; text-decoration-color: #7fbfbf\">           </span><span style=\"color: #000080; text-decoration-color: #000080\">INFO    </span> Filtering tiles by grayspace fraction                                                          \n",
       "</pre>\n"
      ],
      "text/plain": [
       "\u001b[2;36m          \u001b[0m\u001b[2;36m \u001b[0m\u001b[34mINFO    \u001b[0m Filtering tiles by grayspace fraction                                                          \n"
      ]
     },
     "metadata": {},
     "output_type": "display_data"
    },
    {
     "data": {
      "text/html": [
       "<pre style=\"white-space:pre;overflow-x:auto;line-height:normal;font-family:Menlo,'DejaVu Sans Mono',consolas,'Courier New',monospace\"><span style=\"color: #7fbfbf; text-decoration-color: #7fbfbf\">           </span><span style=\"color: #000080; text-decoration-color: #000080\">INFO    </span> Working on dataset source <span style=\"font-weight: bold\">LUADvsLUSC</span>...                                                        \n",
       "</pre>\n"
      ],
      "text/plain": [
       "\u001b[2;36m          \u001b[0m\u001b[2;36m \u001b[0m\u001b[34mINFO    \u001b[0m Working on dataset source \u001b[1mLUADvsLUSC\u001b[0m...                                                        \n"
      ]
     },
     "metadata": {},
     "output_type": "display_data"
    },
    {
     "data": {
      "text/html": [
       "<pre style=\"white-space:pre;overflow-x:auto;line-height:normal;font-family:Menlo,'DejaVu Sans Mono',consolas,'Courier New',monospace\">/gpfs/data/pearson-lab/PERSONAL/skochanny/.conda/envs/sf/lib/python3.9/site-packages/rich/live.py:231: UserWarning:\n",
       "install \"ipywidgets\" for Jupyter support\n",
       "  warnings.warn('install \"ipywidgets\" for Jupyter support')\n",
       "</pre>\n"
      ],
      "text/plain": [
       "/gpfs/data/pearson-lab/PERSONAL/skochanny/.conda/envs/sf/lib/python3.9/site-packages/rich/live.py:231: UserWarning:\n",
       "install \"ipywidgets\" for Jupyter support\n",
       "  warnings.warn('install \"ipywidgets\" for Jupyter support')\n"
      ]
     },
     "metadata": {},
     "output_type": "display_data"
    },
    {
     "data": {
      "text/html": [
       "<pre style=\"white-space:pre;overflow-x:auto;line-height:normal;font-family:Menlo,'DejaVu Sans Mono',consolas,'Courier New',monospace\"></pre>\n"
      ],
      "text/plain": []
     },
     "metadata": {},
     "output_type": "display_data"
    },
    {
     "data": {
      "text/html": [
       "<pre style=\"white-space:pre;overflow-x:auto;line-height:normal;font-family:Menlo,'DejaVu Sans Mono',consolas,'Courier New',monospace\"><span style=\"color: #7fbfbf; text-decoration-color: #7fbfbf\">           </span><span style=\"color: #000080; text-decoration-color: #000080\">INFO    </span> Extracting tiles from 10 slides (tile_px=299, tile_um=302)                                     \n",
       "</pre>\n"
      ],
      "text/plain": [
       "\u001b[2;36m          \u001b[0m\u001b[2;36m \u001b[0m\u001b[34mINFO    \u001b[0m Extracting tiles from 10 slides (tile_px=299, tile_um=302)                                     \n"
      ]
     },
     "metadata": {},
     "output_type": "display_data"
    },
    {
     "data": {
      "text/html": [
       "<pre style=\"white-space:pre;overflow-x:auto;line-height:normal;font-family:Menlo,'DejaVu Sans Mono',consolas,'Courier New',monospace\"><span style=\"color: #7fbfbf; text-decoration-color: #7fbfbf\">           </span><span style=\"color: #000080; text-decoration-color: #000080\">INFO    </span> Using 4 processes (pool=fork)                                                                  \n",
       "</pre>\n"
      ],
      "text/plain": [
       "\u001b[2;36m          \u001b[0m\u001b[2;36m \u001b[0m\u001b[34mINFO    \u001b[0m Using 4 processes (pool=fork)                                                                  \n"
      ]
     },
     "metadata": {},
     "output_type": "display_data"
    },
    {
     "data": {
      "text/html": [
       "<pre style=\"white-space:pre;overflow-x:auto;line-height:normal;font-family:Menlo,'DejaVu Sans Mono',consolas,'Courier New',monospace\">/gpfs/data/pearson-lab/PERSONAL/skochanny/.conda/envs/sf/lib/python3.9/site-packages/rich/live.py:231: UserWarning:\n",
       "install \"ipywidgets\" for Jupyter support\n",
       "  warnings.warn('install \"ipywidgets\" for Jupyter support')\n",
       "</pre>\n"
      ],
      "text/plain": [
       "/gpfs/data/pearson-lab/PERSONAL/skochanny/.conda/envs/sf/lib/python3.9/site-packages/rich/live.py:231: UserWarning:\n",
       "install \"ipywidgets\" for Jupyter support\n",
       "  warnings.warn('install \"ipywidgets\" for Jupyter support')\n"
      ]
     },
     "metadata": {},
     "output_type": "display_data"
    },
    {
     "data": {
      "text/html": [
       "<pre style=\"white-space:pre;overflow-x:auto;line-height:normal;font-family:Menlo,'DejaVu Sans Mono',consolas,'Courier New',monospace\">/gpfs/data/pearson-lab/PERSONAL/skochanny/.conda/envs/sf/lib/python3.9/site-packages/rich/live.py:231: UserWarning:\n",
       "install \"ipywidgets\" for Jupyter support\n",
       "  warnings.warn('install \"ipywidgets\" for Jupyter support')\n",
       "</pre>\n"
      ],
      "text/plain": [
       "/gpfs/data/pearson-lab/PERSONAL/skochanny/.conda/envs/sf/lib/python3.9/site-packages/rich/live.py:231: UserWarning:\n",
       "install \"ipywidgets\" for Jupyter support\n",
       "  warnings.warn('install \"ipywidgets\" for Jupyter support')\n"
      ]
     },
     "metadata": {},
     "output_type": "display_data"
    },
    {
     "data": {
      "text/html": [
       "<pre style=\"white-space:pre;overflow-x:auto;line-height:normal;font-family:Menlo,'DejaVu Sans Mono',consolas,'Courier New',monospace\"><span style=\"color: #7fbfbf; text-decoration-color: #7fbfbf\">[12:42:23] </span><span style=\"color: #000080; text-decoration-color: #000080\">INFO    </span> Performing Gaussian blur filter at mpp=4.040                                                   \n",
       "</pre>\n"
      ],
      "text/plain": [
       "\u001b[2;36m[12:42:23]\u001b[0m\u001b[2;36m \u001b[0m\u001b[34mINFO    \u001b[0m Performing Gaussian blur filter at mpp=4.040                                                   \n"
      ]
     },
     "metadata": {},
     "output_type": "display_data"
    },
    {
     "data": {
      "text/html": [
       "<pre style=\"white-space:pre;overflow-x:auto;line-height:normal;font-family:Menlo,'DejaVu Sans Mono',consolas,'Courier New',monospace\">/gpfs/data/pearson-lab/PERSONAL/skochanny/.conda/envs/sf/lib/python3.9/site-packages/rich/live.py:231: UserWarning:\n",
       "install \"ipywidgets\" for Jupyter support\n",
       "  warnings.warn('install \"ipywidgets\" for Jupyter support')\n",
       "</pre>\n"
      ],
      "text/plain": [
       "/gpfs/data/pearson-lab/PERSONAL/skochanny/.conda/envs/sf/lib/python3.9/site-packages/rich/live.py:231: UserWarning:\n",
       "install \"ipywidgets\" for Jupyter support\n",
       "  warnings.warn('install \"ipywidgets\" for Jupyter support')\n"
      ]
     },
     "metadata": {},
     "output_type": "display_data"
    },
    {
     "data": {
      "text/html": [
       "<pre style=\"white-space:pre;overflow-x:auto;line-height:normal;font-family:Menlo,'DejaVu Sans Mono',consolas,'Courier New',monospace\">/gpfs/data/pearson-lab/PERSONAL/skochanny/.conda/envs/sf/lib/python3.9/site-packages/rich/live.py:231: UserWarning:\n",
       "install \"ipywidgets\" for Jupyter support\n",
       "  warnings.warn('install \"ipywidgets\" for Jupyter support')\n",
       "</pre>\n"
      ],
      "text/plain": [
       "/gpfs/data/pearson-lab/PERSONAL/skochanny/.conda/envs/sf/lib/python3.9/site-packages/rich/live.py:231: UserWarning:\n",
       "install \"ipywidgets\" for Jupyter support\n",
       "  warnings.warn('install \"ipywidgets\" for Jupyter support')\n"
      ]
     },
     "metadata": {},
     "output_type": "display_data"
    },
    {
     "name": "stdout",
     "output_type": "stream",
     "text": [
      " cuInit Failed, error CUDA_ERROR_NOT_INITIALIZED\n",
      " cuFile initialization failed\n",
      " cuInit Failed, error CUDA_ERROR_NOT_INITIALIZED\n",
      " cuFile initialization failed\n",
      " cuInit Failed, error CUDA_ERROR_NOT_INITIALIZED\n",
      " cuFile initialization failed\n",
      " cuInit Failed, error CUDA_ERROR_NOT_INITIALIZED\n",
      " cuFile initialization failed\n"
     ]
    },
    {
     "data": {
      "text/html": [
       "<pre style=\"white-space:pre;overflow-x:auto;line-height:normal;font-family:Menlo,'DejaVu Sans Mono',consolas,'Courier New',monospace\"><span style=\"color: #7fbfbf; text-decoration-color: #7fbfbf\">[12:42:30] </span><span style=\"color: #000080; text-decoration-color: #000080\">INFO    </span> Finished tile extraction for <span style=\"color: #008000; text-decoration-color: #008000\">TCGA-85-8350</span> (761 tiles of 761 possible)                          \n",
       "</pre>\n"
      ],
      "text/plain": [
       "\u001b[2;36m[12:42:30]\u001b[0m\u001b[2;36m \u001b[0m\u001b[34mINFO    \u001b[0m Finished tile extraction for \u001b[32mTCGA-85-8350\u001b[0m (761 tiles of 761 possible)                          \n"
      ]
     },
     "metadata": {},
     "output_type": "display_data"
    },
    {
     "data": {
      "text/html": [
       "<pre style=\"white-space:pre;overflow-x:auto;line-height:normal;font-family:Menlo,'DejaVu Sans Mono',consolas,'Courier New',monospace\">/gpfs/data/pearson-lab/PERSONAL/skochanny/.conda/envs/sf/lib/python3.9/site-packages/rich/live.py:231: UserWarning:\n",
       "install \"ipywidgets\" for Jupyter support\n",
       "  warnings.warn('install \"ipywidgets\" for Jupyter support')\n",
       "</pre>\n"
      ],
      "text/plain": [
       "/gpfs/data/pearson-lab/PERSONAL/skochanny/.conda/envs/sf/lib/python3.9/site-packages/rich/live.py:231: UserWarning:\n",
       "install \"ipywidgets\" for Jupyter support\n",
       "  warnings.warn('install \"ipywidgets\" for Jupyter support')\n"
      ]
     },
     "metadata": {},
     "output_type": "display_data"
    },
    {
     "data": {
      "text/html": [
       "<pre style=\"white-space:pre;overflow-x:auto;line-height:normal;font-family:Menlo,'DejaVu Sans Mono',consolas,'Courier New',monospace\"><span style=\"color: #7fbfbf; text-decoration-color: #7fbfbf\">           </span><span style=\"color: #000080; text-decoration-color: #000080\">INFO    </span> Performing Gaussian blur filter at mpp=4.040                                                   \n",
       "</pre>\n"
      ],
      "text/plain": [
       "\u001b[2;36m          \u001b[0m\u001b[2;36m \u001b[0m\u001b[34mINFO    \u001b[0m Performing Gaussian blur filter at mpp=4.040                                                   \n"
      ]
     },
     "metadata": {},
     "output_type": "display_data"
    },
    {
     "data": {
      "text/html": [
       "<pre style=\"white-space:pre;overflow-x:auto;line-height:normal;font-family:Menlo,'DejaVu Sans Mono',consolas,'Courier New',monospace\">/gpfs/data/pearson-lab/PERSONAL/skochanny/.conda/envs/sf/lib/python3.9/site-packages/rich/live.py:231: UserWarning:\n",
       "install \"ipywidgets\" for Jupyter support\n",
       "  warnings.warn('install \"ipywidgets\" for Jupyter support')\n",
       "</pre>\n"
      ],
      "text/plain": [
       "/gpfs/data/pearson-lab/PERSONAL/skochanny/.conda/envs/sf/lib/python3.9/site-packages/rich/live.py:231: UserWarning:\n",
       "install \"ipywidgets\" for Jupyter support\n",
       "  warnings.warn('install \"ipywidgets\" for Jupyter support')\n"
      ]
     },
     "metadata": {},
     "output_type": "display_data"
    },
    {
     "data": {
      "text/html": [
       "<pre style=\"white-space:pre;overflow-x:auto;line-height:normal;font-family:Menlo,'DejaVu Sans Mono',consolas,'Courier New',monospace\">/gpfs/data/pearson-lab/PERSONAL/skochanny/.conda/envs/sf/lib/python3.9/site-packages/rich/live.py:231: UserWarning:\n",
       "install \"ipywidgets\" for Jupyter support\n",
       "  warnings.warn('install \"ipywidgets\" for Jupyter support')\n",
       "</pre>\n"
      ],
      "text/plain": [
       "/gpfs/data/pearson-lab/PERSONAL/skochanny/.conda/envs/sf/lib/python3.9/site-packages/rich/live.py:231: UserWarning:\n",
       "install \"ipywidgets\" for Jupyter support\n",
       "  warnings.warn('install \"ipywidgets\" for Jupyter support')\n"
      ]
     },
     "metadata": {},
     "output_type": "display_data"
    },
    {
     "data": {
      "text/html": [
       "<pre style=\"white-space:pre;overflow-x:auto;line-height:normal;font-family:Menlo,'DejaVu Sans Mono',consolas,'Courier New',monospace\"><span style=\"color: #7fbfbf; text-decoration-color: #7fbfbf\">[12:42:49] </span><span style=\"color: #000080; text-decoration-color: #000080\">INFO    </span> Finished tile extraction for <span style=\"color: #008000; text-decoration-color: #008000\">TCGA-NC-A5HG</span> (1534 tiles of 1534 possible)                        \n",
       "</pre>\n"
      ],
      "text/plain": [
       "\u001b[2;36m[12:42:49]\u001b[0m\u001b[2;36m \u001b[0m\u001b[34mINFO    \u001b[0m Finished tile extraction for \u001b[32mTCGA-NC-A5HG\u001b[0m (1534 tiles of 1534 possible)                        \n"
      ]
     },
     "metadata": {},
     "output_type": "display_data"
    },
    {
     "data": {
      "text/html": [
       "<pre style=\"white-space:pre;overflow-x:auto;line-height:normal;font-family:Menlo,'DejaVu Sans Mono',consolas,'Courier New',monospace\">/gpfs/data/pearson-lab/PERSONAL/skochanny/.conda/envs/sf/lib/python3.9/site-packages/rich/live.py:231: UserWarning:\n",
       "install \"ipywidgets\" for Jupyter support\n",
       "  warnings.warn('install \"ipywidgets\" for Jupyter support')\n",
       "</pre>\n"
      ],
      "text/plain": [
       "/gpfs/data/pearson-lab/PERSONAL/skochanny/.conda/envs/sf/lib/python3.9/site-packages/rich/live.py:231: UserWarning:\n",
       "install \"ipywidgets\" for Jupyter support\n",
       "  warnings.warn('install \"ipywidgets\" for Jupyter support')\n"
      ]
     },
     "metadata": {},
     "output_type": "display_data"
    },
    {
     "data": {
      "text/html": [
       "<pre style=\"white-space:pre;overflow-x:auto;line-height:normal;font-family:Menlo,'DejaVu Sans Mono',consolas,'Courier New',monospace\"><span style=\"color: #7fbfbf; text-decoration-color: #7fbfbf\">[12:42:50] </span><span style=\"color: #000080; text-decoration-color: #000080\">INFO    </span> Performing Gaussian blur filter at mpp=4.040                                                   \n",
       "</pre>\n"
      ],
      "text/plain": [
       "\u001b[2;36m[12:42:50]\u001b[0m\u001b[2;36m \u001b[0m\u001b[34mINFO    \u001b[0m Performing Gaussian blur filter at mpp=4.040                                                   \n"
      ]
     },
     "metadata": {},
     "output_type": "display_data"
    },
    {
     "data": {
      "text/html": [
       "<pre style=\"white-space:pre;overflow-x:auto;line-height:normal;font-family:Menlo,'DejaVu Sans Mono',consolas,'Courier New',monospace\">/gpfs/data/pearson-lab/PERSONAL/skochanny/.conda/envs/sf/lib/python3.9/site-packages/rich/live.py:231: UserWarning:\n",
       "install \"ipywidgets\" for Jupyter support\n",
       "  warnings.warn('install \"ipywidgets\" for Jupyter support')\n",
       "</pre>\n"
      ],
      "text/plain": [
       "/gpfs/data/pearson-lab/PERSONAL/skochanny/.conda/envs/sf/lib/python3.9/site-packages/rich/live.py:231: UserWarning:\n",
       "install \"ipywidgets\" for Jupyter support\n",
       "  warnings.warn('install \"ipywidgets\" for Jupyter support')\n"
      ]
     },
     "metadata": {},
     "output_type": "display_data"
    },
    {
     "data": {
      "text/html": [
       "<pre style=\"white-space:pre;overflow-x:auto;line-height:normal;font-family:Menlo,'DejaVu Sans Mono',consolas,'Courier New',monospace\">/gpfs/data/pearson-lab/PERSONAL/skochanny/.conda/envs/sf/lib/python3.9/site-packages/rich/live.py:231: UserWarning:\n",
       "install \"ipywidgets\" for Jupyter support\n",
       "  warnings.warn('install \"ipywidgets\" for Jupyter support')\n",
       "</pre>\n"
      ],
      "text/plain": [
       "/gpfs/data/pearson-lab/PERSONAL/skochanny/.conda/envs/sf/lib/python3.9/site-packages/rich/live.py:231: UserWarning:\n",
       "install \"ipywidgets\" for Jupyter support\n",
       "  warnings.warn('install \"ipywidgets\" for Jupyter support')\n"
      ]
     },
     "metadata": {},
     "output_type": "display_data"
    },
    {
     "data": {
      "text/html": [
       "<pre style=\"white-space:pre;overflow-x:auto;line-height:normal;font-family:Menlo,'DejaVu Sans Mono',consolas,'Courier New',monospace\"><span style=\"color: #7fbfbf; text-decoration-color: #7fbfbf\">[12:43:05] </span><span style=\"color: #000080; text-decoration-color: #000080\">INFO    </span> Finished tile extraction for <span style=\"color: #008000; text-decoration-color: #008000\">TCGA-55-1594</span> (1965 tiles of 1965 possible)                        \n",
       "</pre>\n"
      ],
      "text/plain": [
       "\u001b[2;36m[12:43:05]\u001b[0m\u001b[2;36m \u001b[0m\u001b[34mINFO    \u001b[0m Finished tile extraction for \u001b[32mTCGA-55-1594\u001b[0m (1965 tiles of 1965 possible)                        \n"
      ]
     },
     "metadata": {},
     "output_type": "display_data"
    },
    {
     "data": {
      "text/html": [
       "<pre style=\"white-space:pre;overflow-x:auto;line-height:normal;font-family:Menlo,'DejaVu Sans Mono',consolas,'Courier New',monospace\">/gpfs/data/pearson-lab/PERSONAL/skochanny/.conda/envs/sf/lib/python3.9/site-packages/rich/live.py:231: UserWarning:\n",
       "install \"ipywidgets\" for Jupyter support\n",
       "  warnings.warn('install \"ipywidgets\" for Jupyter support')\n",
       "</pre>\n"
      ],
      "text/plain": [
       "/gpfs/data/pearson-lab/PERSONAL/skochanny/.conda/envs/sf/lib/python3.9/site-packages/rich/live.py:231: UserWarning:\n",
       "install \"ipywidgets\" for Jupyter support\n",
       "  warnings.warn('install \"ipywidgets\" for Jupyter support')\n"
      ]
     },
     "metadata": {},
     "output_type": "display_data"
    },
    {
     "data": {
      "text/html": [
       "<pre style=\"white-space:pre;overflow-x:auto;line-height:normal;font-family:Menlo,'DejaVu Sans Mono',consolas,'Courier New',monospace\"><span style=\"color: #7fbfbf; text-decoration-color: #7fbfbf\">           </span><span style=\"color: #000080; text-decoration-color: #000080\">INFO    </span> Performing Gaussian blur filter at mpp=4.040                                                   \n",
       "</pre>\n"
      ],
      "text/plain": [
       "\u001b[2;36m          \u001b[0m\u001b[2;36m \u001b[0m\u001b[34mINFO    \u001b[0m Performing Gaussian blur filter at mpp=4.040                                                   \n"
      ]
     },
     "metadata": {},
     "output_type": "display_data"
    },
    {
     "data": {
      "text/html": [
       "<pre style=\"white-space:pre;overflow-x:auto;line-height:normal;font-family:Menlo,'DejaVu Sans Mono',consolas,'Courier New',monospace\">/gpfs/data/pearson-lab/PERSONAL/skochanny/.conda/envs/sf/lib/python3.9/site-packages/rich/live.py:231: UserWarning:\n",
       "install \"ipywidgets\" for Jupyter support\n",
       "  warnings.warn('install \"ipywidgets\" for Jupyter support')\n",
       "</pre>\n"
      ],
      "text/plain": [
       "/gpfs/data/pearson-lab/PERSONAL/skochanny/.conda/envs/sf/lib/python3.9/site-packages/rich/live.py:231: UserWarning:\n",
       "install \"ipywidgets\" for Jupyter support\n",
       "  warnings.warn('install \"ipywidgets\" for Jupyter support')\n"
      ]
     },
     "metadata": {},
     "output_type": "display_data"
    },
    {
     "data": {
      "text/html": [
       "<pre style=\"white-space:pre;overflow-x:auto;line-height:normal;font-family:Menlo,'DejaVu Sans Mono',consolas,'Courier New',monospace\">/gpfs/data/pearson-lab/PERSONAL/skochanny/.conda/envs/sf/lib/python3.9/site-packages/rich/live.py:231: UserWarning:\n",
       "install \"ipywidgets\" for Jupyter support\n",
       "  warnings.warn('install \"ipywidgets\" for Jupyter support')\n",
       "</pre>\n"
      ],
      "text/plain": [
       "/gpfs/data/pearson-lab/PERSONAL/skochanny/.conda/envs/sf/lib/python3.9/site-packages/rich/live.py:231: UserWarning:\n",
       "install \"ipywidgets\" for Jupyter support\n",
       "  warnings.warn('install \"ipywidgets\" for Jupyter support')\n"
      ]
     },
     "metadata": {},
     "output_type": "display_data"
    },
    {
     "data": {
      "text/html": [
       "<pre style=\"white-space:pre;overflow-x:auto;line-height:normal;font-family:Menlo,'DejaVu Sans Mono',consolas,'Courier New',monospace\"><span style=\"color: #7fbfbf; text-decoration-color: #7fbfbf\">[12:43:09] </span><span style=\"color: #000080; text-decoration-color: #000080\">INFO    </span> Finished tile extraction for <span style=\"color: #008000; text-decoration-color: #008000\">TCGA-75-7027</span> (758 tiles of 758 possible)                          \n",
       "</pre>\n"
      ],
      "text/plain": [
       "\u001b[2;36m[12:43:09]\u001b[0m\u001b[2;36m \u001b[0m\u001b[34mINFO    \u001b[0m Finished tile extraction for \u001b[32mTCGA-75-7027\u001b[0m (758 tiles of 758 possible)                          \n"
      ]
     },
     "metadata": {},
     "output_type": "display_data"
    },
    {
     "data": {
      "text/html": [
       "<pre style=\"white-space:pre;overflow-x:auto;line-height:normal;font-family:Menlo,'DejaVu Sans Mono',consolas,'Courier New',monospace\">/gpfs/data/pearson-lab/PERSONAL/skochanny/.conda/envs/sf/lib/python3.9/site-packages/rich/live.py:231: UserWarning:\n",
       "install \"ipywidgets\" for Jupyter support\n",
       "  warnings.warn('install \"ipywidgets\" for Jupyter support')\n",
       "</pre>\n"
      ],
      "text/plain": [
       "/gpfs/data/pearson-lab/PERSONAL/skochanny/.conda/envs/sf/lib/python3.9/site-packages/rich/live.py:231: UserWarning:\n",
       "install \"ipywidgets\" for Jupyter support\n",
       "  warnings.warn('install \"ipywidgets\" for Jupyter support')\n"
      ]
     },
     "metadata": {},
     "output_type": "display_data"
    },
    {
     "data": {
      "text/html": [
       "<pre style=\"white-space:pre;overflow-x:auto;line-height:normal;font-family:Menlo,'DejaVu Sans Mono',consolas,'Courier New',monospace\"><span style=\"color: #7fbfbf; text-decoration-color: #7fbfbf\">           </span><span style=\"color: #000080; text-decoration-color: #000080\">INFO    </span> Performing Gaussian blur filter at mpp=4.040                                                   \n",
       "</pre>\n"
      ],
      "text/plain": [
       "\u001b[2;36m          \u001b[0m\u001b[2;36m \u001b[0m\u001b[34mINFO    \u001b[0m Performing Gaussian blur filter at mpp=4.040                                                   \n"
      ]
     },
     "metadata": {},
     "output_type": "display_data"
    },
    {
     "data": {
      "text/html": [
       "<pre style=\"white-space:pre;overflow-x:auto;line-height:normal;font-family:Menlo,'DejaVu Sans Mono',consolas,'Courier New',monospace\">/gpfs/data/pearson-lab/PERSONAL/skochanny/.conda/envs/sf/lib/python3.9/site-packages/rich/live.py:231: UserWarning:\n",
       "install \"ipywidgets\" for Jupyter support\n",
       "  warnings.warn('install \"ipywidgets\" for Jupyter support')\n",
       "</pre>\n"
      ],
      "text/plain": [
       "/gpfs/data/pearson-lab/PERSONAL/skochanny/.conda/envs/sf/lib/python3.9/site-packages/rich/live.py:231: UserWarning:\n",
       "install \"ipywidgets\" for Jupyter support\n",
       "  warnings.warn('install \"ipywidgets\" for Jupyter support')\n"
      ]
     },
     "metadata": {},
     "output_type": "display_data"
    },
    {
     "data": {
      "text/html": [
       "<pre style=\"white-space:pre;overflow-x:auto;line-height:normal;font-family:Menlo,'DejaVu Sans Mono',consolas,'Courier New',monospace\">/gpfs/data/pearson-lab/PERSONAL/skochanny/.conda/envs/sf/lib/python3.9/site-packages/rich/live.py:231: UserWarning:\n",
       "install \"ipywidgets\" for Jupyter support\n",
       "  warnings.warn('install \"ipywidgets\" for Jupyter support')\n",
       "</pre>\n"
      ],
      "text/plain": [
       "/gpfs/data/pearson-lab/PERSONAL/skochanny/.conda/envs/sf/lib/python3.9/site-packages/rich/live.py:231: UserWarning:\n",
       "install \"ipywidgets\" for Jupyter support\n",
       "  warnings.warn('install \"ipywidgets\" for Jupyter support')\n"
      ]
     },
     "metadata": {},
     "output_type": "display_data"
    },
    {
     "data": {
      "text/html": [
       "<pre style=\"white-space:pre;overflow-x:auto;line-height:normal;font-family:Menlo,'DejaVu Sans Mono',consolas,'Courier New',monospace\"><span style=\"color: #7fbfbf; text-decoration-color: #7fbfbf\">[12:43:15] </span><span style=\"color: #000080; text-decoration-color: #000080\">INFO    </span> Finished tile extraction for <span style=\"color: #008000; text-decoration-color: #008000\">TCGA-38-4631</span> (666 tiles of 666 possible)                          \n",
       "</pre>\n"
      ],
      "text/plain": [
       "\u001b[2;36m[12:43:15]\u001b[0m\u001b[2;36m \u001b[0m\u001b[34mINFO    \u001b[0m Finished tile extraction for \u001b[32mTCGA-38-4631\u001b[0m (666 tiles of 666 possible)                          \n"
      ]
     },
     "metadata": {},
     "output_type": "display_data"
    },
    {
     "data": {
      "text/html": [
       "<pre style=\"white-space:pre;overflow-x:auto;line-height:normal;font-family:Menlo,'DejaVu Sans Mono',consolas,'Courier New',monospace\">/gpfs/data/pearson-lab/PERSONAL/skochanny/.conda/envs/sf/lib/python3.9/site-packages/rich/live.py:231: UserWarning:\n",
       "install \"ipywidgets\" for Jupyter support\n",
       "  warnings.warn('install \"ipywidgets\" for Jupyter support')\n",
       "</pre>\n"
      ],
      "text/plain": [
       "/gpfs/data/pearson-lab/PERSONAL/skochanny/.conda/envs/sf/lib/python3.9/site-packages/rich/live.py:231: UserWarning:\n",
       "install \"ipywidgets\" for Jupyter support\n",
       "  warnings.warn('install \"ipywidgets\" for Jupyter support')\n"
      ]
     },
     "metadata": {},
     "output_type": "display_data"
    },
    {
     "data": {
      "text/html": [
       "<pre style=\"white-space:pre;overflow-x:auto;line-height:normal;font-family:Menlo,'DejaVu Sans Mono',consolas,'Courier New',monospace\"><span style=\"color: #7fbfbf; text-decoration-color: #7fbfbf\">           </span><span style=\"color: #000080; text-decoration-color: #000080\">INFO    </span> Performing Gaussian blur filter at mpp=4.040                                                   \n",
       "</pre>\n"
      ],
      "text/plain": [
       "\u001b[2;36m          \u001b[0m\u001b[2;36m \u001b[0m\u001b[34mINFO    \u001b[0m Performing Gaussian blur filter at mpp=4.040                                                   \n"
      ]
     },
     "metadata": {},
     "output_type": "display_data"
    },
    {
     "data": {
      "text/html": [
       "<pre style=\"white-space:pre;overflow-x:auto;line-height:normal;font-family:Menlo,'DejaVu Sans Mono',consolas,'Courier New',monospace\">/gpfs/data/pearson-lab/PERSONAL/skochanny/.conda/envs/sf/lib/python3.9/site-packages/rich/live.py:231: UserWarning:\n",
       "install \"ipywidgets\" for Jupyter support\n",
       "  warnings.warn('install \"ipywidgets\" for Jupyter support')\n",
       "</pre>\n"
      ],
      "text/plain": [
       "/gpfs/data/pearson-lab/PERSONAL/skochanny/.conda/envs/sf/lib/python3.9/site-packages/rich/live.py:231: UserWarning:\n",
       "install \"ipywidgets\" for Jupyter support\n",
       "  warnings.warn('install \"ipywidgets\" for Jupyter support')\n"
      ]
     },
     "metadata": {},
     "output_type": "display_data"
    },
    {
     "data": {
      "text/html": [
       "<pre style=\"white-space:pre;overflow-x:auto;line-height:normal;font-family:Menlo,'DejaVu Sans Mono',consolas,'Courier New',monospace\">/gpfs/data/pearson-lab/PERSONAL/skochanny/.conda/envs/sf/lib/python3.9/site-packages/rich/live.py:231: UserWarning:\n",
       "install \"ipywidgets\" for Jupyter support\n",
       "  warnings.warn('install \"ipywidgets\" for Jupyter support')\n",
       "</pre>\n"
      ],
      "text/plain": [
       "/gpfs/data/pearson-lab/PERSONAL/skochanny/.conda/envs/sf/lib/python3.9/site-packages/rich/live.py:231: UserWarning:\n",
       "install \"ipywidgets\" for Jupyter support\n",
       "  warnings.warn('install \"ipywidgets\" for Jupyter support')\n"
      ]
     },
     "metadata": {},
     "output_type": "display_data"
    },
    {
     "data": {
      "text/html": [
       "<pre style=\"white-space:pre;overflow-x:auto;line-height:normal;font-family:Menlo,'DejaVu Sans Mono',consolas,'Courier New',monospace\"><span style=\"color: #7fbfbf; text-decoration-color: #7fbfbf\">[12:43:18] </span><span style=\"color: #000080; text-decoration-color: #000080\">INFO    </span> Finished tile extraction for <span style=\"color: #008000; text-decoration-color: #008000\">TCGA-85-A4CL</span> (624 tiles of 624 possible)                          \n",
       "</pre>\n"
      ],
      "text/plain": [
       "\u001b[2;36m[12:43:18]\u001b[0m\u001b[2;36m \u001b[0m\u001b[34mINFO    \u001b[0m Finished tile extraction for \u001b[32mTCGA-85-A4CL\u001b[0m (624 tiles of 624 possible)                          \n"
      ]
     },
     "metadata": {},
     "output_type": "display_data"
    },
    {
     "data": {
      "text/html": [
       "<pre style=\"white-space:pre;overflow-x:auto;line-height:normal;font-family:Menlo,'DejaVu Sans Mono',consolas,'Courier New',monospace\">/gpfs/data/pearson-lab/PERSONAL/skochanny/.conda/envs/sf/lib/python3.9/site-packages/rich/live.py:231: UserWarning:\n",
       "install \"ipywidgets\" for Jupyter support\n",
       "  warnings.warn('install \"ipywidgets\" for Jupyter support')\n",
       "</pre>\n"
      ],
      "text/plain": [
       "/gpfs/data/pearson-lab/PERSONAL/skochanny/.conda/envs/sf/lib/python3.9/site-packages/rich/live.py:231: UserWarning:\n",
       "install \"ipywidgets\" for Jupyter support\n",
       "  warnings.warn('install \"ipywidgets\" for Jupyter support')\n"
      ]
     },
     "metadata": {},
     "output_type": "display_data"
    },
    {
     "data": {
      "text/html": [
       "<pre style=\"white-space:pre;overflow-x:auto;line-height:normal;font-family:Menlo,'DejaVu Sans Mono',consolas,'Courier New',monospace\"><span style=\"color: #7fbfbf; text-decoration-color: #7fbfbf\">           </span><span style=\"color: #000080; text-decoration-color: #000080\">INFO    </span> Performing Gaussian blur filter at mpp=4.040                                                   \n",
       "</pre>\n"
      ],
      "text/plain": [
       "\u001b[2;36m          \u001b[0m\u001b[2;36m \u001b[0m\u001b[34mINFO    \u001b[0m Performing Gaussian blur filter at mpp=4.040                                                   \n"
      ]
     },
     "metadata": {},
     "output_type": "display_data"
    },
    {
     "data": {
      "text/html": [
       "<pre style=\"white-space:pre;overflow-x:auto;line-height:normal;font-family:Menlo,'DejaVu Sans Mono',consolas,'Courier New',monospace\">/gpfs/data/pearson-lab/PERSONAL/skochanny/.conda/envs/sf/lib/python3.9/site-packages/rich/live.py:231: UserWarning:\n",
       "install \"ipywidgets\" for Jupyter support\n",
       "  warnings.warn('install \"ipywidgets\" for Jupyter support')\n",
       "</pre>\n"
      ],
      "text/plain": [
       "/gpfs/data/pearson-lab/PERSONAL/skochanny/.conda/envs/sf/lib/python3.9/site-packages/rich/live.py:231: UserWarning:\n",
       "install \"ipywidgets\" for Jupyter support\n",
       "  warnings.warn('install \"ipywidgets\" for Jupyter support')\n"
      ]
     },
     "metadata": {},
     "output_type": "display_data"
    },
    {
     "data": {
      "text/html": [
       "<pre style=\"white-space:pre;overflow-x:auto;line-height:normal;font-family:Menlo,'DejaVu Sans Mono',consolas,'Courier New',monospace\">/gpfs/data/pearson-lab/PERSONAL/skochanny/.conda/envs/sf/lib/python3.9/site-packages/rich/live.py:231: UserWarning:\n",
       "install \"ipywidgets\" for Jupyter support\n",
       "  warnings.warn('install \"ipywidgets\" for Jupyter support')\n",
       "</pre>\n"
      ],
      "text/plain": [
       "/gpfs/data/pearson-lab/PERSONAL/skochanny/.conda/envs/sf/lib/python3.9/site-packages/rich/live.py:231: UserWarning:\n",
       "install \"ipywidgets\" for Jupyter support\n",
       "  warnings.warn('install \"ipywidgets\" for Jupyter support')\n"
      ]
     },
     "metadata": {},
     "output_type": "display_data"
    },
    {
     "data": {
      "text/html": [
       "<pre style=\"white-space:pre;overflow-x:auto;line-height:normal;font-family:Menlo,'DejaVu Sans Mono',consolas,'Courier New',monospace\"><span style=\"color: #7fbfbf; text-decoration-color: #7fbfbf\">[12:43:22] </span><span style=\"color: #000080; text-decoration-color: #000080\">INFO    </span> Finished tile extraction for <span style=\"color: #008000; text-decoration-color: #008000\">TCGA-49-4487</span> (695 tiles of 695 possible)                          \n",
       "</pre>\n"
      ],
      "text/plain": [
       "\u001b[2;36m[12:43:22]\u001b[0m\u001b[2;36m \u001b[0m\u001b[34mINFO    \u001b[0m Finished tile extraction for \u001b[32mTCGA-49-4487\u001b[0m (695 tiles of 695 possible)                          \n"
      ]
     },
     "metadata": {},
     "output_type": "display_data"
    },
    {
     "data": {
      "text/html": [
       "<pre style=\"white-space:pre;overflow-x:auto;line-height:normal;font-family:Menlo,'DejaVu Sans Mono',consolas,'Courier New',monospace\">/gpfs/data/pearson-lab/PERSONAL/skochanny/.conda/envs/sf/lib/python3.9/site-packages/rich/live.py:231: UserWarning:\n",
       "install \"ipywidgets\" for Jupyter support\n",
       "  warnings.warn('install \"ipywidgets\" for Jupyter support')\n",
       "</pre>\n"
      ],
      "text/plain": [
       "/gpfs/data/pearson-lab/PERSONAL/skochanny/.conda/envs/sf/lib/python3.9/site-packages/rich/live.py:231: UserWarning:\n",
       "install \"ipywidgets\" for Jupyter support\n",
       "  warnings.warn('install \"ipywidgets\" for Jupyter support')\n"
      ]
     },
     "metadata": {},
     "output_type": "display_data"
    },
    {
     "data": {
      "text/html": [
       "<pre style=\"white-space:pre;overflow-x:auto;line-height:normal;font-family:Menlo,'DejaVu Sans Mono',consolas,'Courier New',monospace\"><span style=\"color: #7fbfbf; text-decoration-color: #7fbfbf\">           </span><span style=\"color: #000080; text-decoration-color: #000080\">INFO    </span> Performing Gaussian blur filter at mpp=4.040                                                   \n",
       "</pre>\n"
      ],
      "text/plain": [
       "\u001b[2;36m          \u001b[0m\u001b[2;36m \u001b[0m\u001b[34mINFO    \u001b[0m Performing Gaussian blur filter at mpp=4.040                                                   \n"
      ]
     },
     "metadata": {},
     "output_type": "display_data"
    },
    {
     "data": {
      "text/html": [
       "<pre style=\"white-space:pre;overflow-x:auto;line-height:normal;font-family:Menlo,'DejaVu Sans Mono',consolas,'Courier New',monospace\">/gpfs/data/pearson-lab/PERSONAL/skochanny/.conda/envs/sf/lib/python3.9/site-packages/rich/live.py:231: UserWarning:\n",
       "install \"ipywidgets\" for Jupyter support\n",
       "  warnings.warn('install \"ipywidgets\" for Jupyter support')\n",
       "</pre>\n"
      ],
      "text/plain": [
       "/gpfs/data/pearson-lab/PERSONAL/skochanny/.conda/envs/sf/lib/python3.9/site-packages/rich/live.py:231: UserWarning:\n",
       "install \"ipywidgets\" for Jupyter support\n",
       "  warnings.warn('install \"ipywidgets\" for Jupyter support')\n"
      ]
     },
     "metadata": {},
     "output_type": "display_data"
    },
    {
     "data": {
      "text/html": [
       "<pre style=\"white-space:pre;overflow-x:auto;line-height:normal;font-family:Menlo,'DejaVu Sans Mono',consolas,'Courier New',monospace\">/gpfs/data/pearson-lab/PERSONAL/skochanny/.conda/envs/sf/lib/python3.9/site-packages/rich/live.py:231: UserWarning:\n",
       "install \"ipywidgets\" for Jupyter support\n",
       "  warnings.warn('install \"ipywidgets\" for Jupyter support')\n",
       "</pre>\n"
      ],
      "text/plain": [
       "/gpfs/data/pearson-lab/PERSONAL/skochanny/.conda/envs/sf/lib/python3.9/site-packages/rich/live.py:231: UserWarning:\n",
       "install \"ipywidgets\" for Jupyter support\n",
       "  warnings.warn('install \"ipywidgets\" for Jupyter support')\n"
      ]
     },
     "metadata": {},
     "output_type": "display_data"
    },
    {
     "data": {
      "text/html": [
       "<pre style=\"white-space:pre;overflow-x:auto;line-height:normal;font-family:Menlo,'DejaVu Sans Mono',consolas,'Courier New',monospace\"><span style=\"color: #7fbfbf; text-decoration-color: #7fbfbf\">[12:43:28] </span><span style=\"color: #000080; text-decoration-color: #000080\">INFO    </span> Finished tile extraction for <span style=\"color: #008000; text-decoration-color: #008000\">TCGA-78-8662</span> (1598 tiles of 1598 possible)                        \n",
       "</pre>\n"
      ],
      "text/plain": [
       "\u001b[2;36m[12:43:28]\u001b[0m\u001b[2;36m \u001b[0m\u001b[34mINFO    \u001b[0m Finished tile extraction for \u001b[32mTCGA-78-8662\u001b[0m (1598 tiles of 1598 possible)                        \n"
      ]
     },
     "metadata": {},
     "output_type": "display_data"
    },
    {
     "data": {
      "text/html": [
       "<pre style=\"white-space:pre;overflow-x:auto;line-height:normal;font-family:Menlo,'DejaVu Sans Mono',consolas,'Courier New',monospace\">/gpfs/data/pearson-lab/PERSONAL/skochanny/.conda/envs/sf/lib/python3.9/site-packages/rich/live.py:231: UserWarning:\n",
       "install \"ipywidgets\" for Jupyter support\n",
       "  warnings.warn('install \"ipywidgets\" for Jupyter support')\n",
       "</pre>\n"
      ],
      "text/plain": [
       "/gpfs/data/pearson-lab/PERSONAL/skochanny/.conda/envs/sf/lib/python3.9/site-packages/rich/live.py:231: UserWarning:\n",
       "install \"ipywidgets\" for Jupyter support\n",
       "  warnings.warn('install \"ipywidgets\" for Jupyter support')\n"
      ]
     },
     "metadata": {},
     "output_type": "display_data"
    },
    {
     "data": {
      "text/html": [
       "<pre style=\"white-space:pre;overflow-x:auto;line-height:normal;font-family:Menlo,'DejaVu Sans Mono',consolas,'Courier New',monospace\"><span style=\"color: #7fbfbf; text-decoration-color: #7fbfbf\">           </span><span style=\"color: #000080; text-decoration-color: #000080\">INFO    </span> No ROI for TCGA-21-5782-01Z-00-DX1.E0C856C0-9055-4437-9393-695D699E4F57, using whole slide.    \n",
       "</pre>\n"
      ],
      "text/plain": [
       "\u001b[2;36m          \u001b[0m\u001b[2;36m \u001b[0m\u001b[34mINFO    \u001b[0m No ROI for TCGA-21-5782-01Z-00-DX1.E0C856C0-9055-4437-9393-695D699E4F57, using whole slide.    \n"
      ]
     },
     "metadata": {},
     "output_type": "display_data"
    },
    {
     "data": {
      "text/html": [
       "<pre style=\"white-space:pre;overflow-x:auto;line-height:normal;font-family:Menlo,'DejaVu Sans Mono',consolas,'Courier New',monospace\"><span style=\"color: #7fbfbf; text-decoration-color: #7fbfbf\">           </span><span style=\"color: #000080; text-decoration-color: #000080\">INFO    </span> Performing Gaussian blur filter at mpp=4.040                                                   \n",
       "</pre>\n"
      ],
      "text/plain": [
       "\u001b[2;36m          \u001b[0m\u001b[2;36m \u001b[0m\u001b[34mINFO    \u001b[0m Performing Gaussian blur filter at mpp=4.040                                                   \n"
      ]
     },
     "metadata": {},
     "output_type": "display_data"
    },
    {
     "data": {
      "text/html": [
       "<pre style=\"white-space:pre;overflow-x:auto;line-height:normal;font-family:Menlo,'DejaVu Sans Mono',consolas,'Courier New',monospace\"><span style=\"color: #7fbfbf; text-decoration-color: #7fbfbf\">[12:43:39] </span><span style=\"color: #000080; text-decoration-color: #000080\">INFO    </span> Finished tile extraction for <span style=\"color: #008000; text-decoration-color: #008000\">TCGA-21-5782</span> (1176 tiles of 1178 possible)                        \n",
       "</pre>\n"
      ],
      "text/plain": [
       "\u001b[2;36m[12:43:39]\u001b[0m\u001b[2;36m \u001b[0m\u001b[34mINFO    \u001b[0m Finished tile extraction for \u001b[32mTCGA-21-5782\u001b[0m (1176 tiles of 1178 possible)                        \n"
      ]
     },
     "metadata": {},
     "output_type": "display_data"
    },
    {
     "data": {
      "text/html": [
       "<pre style=\"white-space:pre;overflow-x:auto;line-height:normal;font-family:Menlo,'DejaVu Sans Mono',consolas,'Courier New',monospace\">/gpfs/data/pearson-lab/PERSONAL/skochanny/.conda/envs/sf/lib/python3.9/site-packages/rich/live.py:231: UserWarning:\n",
       "install \"ipywidgets\" for Jupyter support\n",
       "  warnings.warn('install \"ipywidgets\" for Jupyter support')\n",
       "</pre>\n"
      ],
      "text/plain": [
       "/gpfs/data/pearson-lab/PERSONAL/skochanny/.conda/envs/sf/lib/python3.9/site-packages/rich/live.py:231: UserWarning:\n",
       "install \"ipywidgets\" for Jupyter support\n",
       "  warnings.warn('install \"ipywidgets\" for Jupyter support')\n"
      ]
     },
     "metadata": {},
     "output_type": "display_data"
    },
    {
     "data": {
      "text/html": [
       "<pre style=\"white-space:pre;overflow-x:auto;line-height:normal;font-family:Menlo,'DejaVu Sans Mono',consolas,'Courier New',monospace\"><span style=\"color: #7fbfbf; text-decoration-color: #7fbfbf\">           </span><span style=\"color: #000080; text-decoration-color: #000080\">INFO    </span> Performing Gaussian blur filter at mpp=4.040                                                   \n",
       "</pre>\n"
      ],
      "text/plain": [
       "\u001b[2;36m          \u001b[0m\u001b[2;36m \u001b[0m\u001b[34mINFO    \u001b[0m Performing Gaussian blur filter at mpp=4.040                                                   \n"
      ]
     },
     "metadata": {},
     "output_type": "display_data"
    },
    {
     "data": {
      "text/html": [
       "<pre style=\"white-space:pre;overflow-x:auto;line-height:normal;font-family:Menlo,'DejaVu Sans Mono',consolas,'Courier New',monospace\">/gpfs/data/pearson-lab/PERSONAL/skochanny/.conda/envs/sf/lib/python3.9/site-packages/rich/live.py:231: UserWarning:\n",
       "install \"ipywidgets\" for Jupyter support\n",
       "  warnings.warn('install \"ipywidgets\" for Jupyter support')\n",
       "</pre>\n"
      ],
      "text/plain": [
       "/gpfs/data/pearson-lab/PERSONAL/skochanny/.conda/envs/sf/lib/python3.9/site-packages/rich/live.py:231: UserWarning:\n",
       "install \"ipywidgets\" for Jupyter support\n",
       "  warnings.warn('install \"ipywidgets\" for Jupyter support')\n"
      ]
     },
     "metadata": {},
     "output_type": "display_data"
    },
    {
     "data": {
      "text/html": [
       "<pre style=\"white-space:pre;overflow-x:auto;line-height:normal;font-family:Menlo,'DejaVu Sans Mono',consolas,'Courier New',monospace\">/gpfs/data/pearson-lab/PERSONAL/skochanny/.conda/envs/sf/lib/python3.9/site-packages/rich/live.py:231: UserWarning:\n",
       "install \"ipywidgets\" for Jupyter support\n",
       "  warnings.warn('install \"ipywidgets\" for Jupyter support')\n",
       "</pre>\n"
      ],
      "text/plain": [
       "/gpfs/data/pearson-lab/PERSONAL/skochanny/.conda/envs/sf/lib/python3.9/site-packages/rich/live.py:231: UserWarning:\n",
       "install \"ipywidgets\" for Jupyter support\n",
       "  warnings.warn('install \"ipywidgets\" for Jupyter support')\n"
      ]
     },
     "metadata": {},
     "output_type": "display_data"
    },
    {
     "data": {
      "text/html": [
       "<pre style=\"white-space:pre;overflow-x:auto;line-height:normal;font-family:Menlo,'DejaVu Sans Mono',consolas,'Courier New',monospace\"><span style=\"color: #7fbfbf; text-decoration-color: #7fbfbf\">[12:44:01] </span><span style=\"color: #000080; text-decoration-color: #000080\">INFO    </span> Finished tile extraction for <span style=\"color: #008000; text-decoration-color: #008000\">TCGA-18-3415</span> (3303 tiles of 3303 possible)                        \n",
       "</pre>\n"
      ],
      "text/plain": [
       "\u001b[2;36m[12:44:01]\u001b[0m\u001b[2;36m \u001b[0m\u001b[34mINFO    \u001b[0m Finished tile extraction for \u001b[32mTCGA-18-3415\u001b[0m (3303 tiles of 3303 possible)                        \n"
      ]
     },
     "metadata": {},
     "output_type": "display_data"
    },
    {
     "data": {
      "text/html": [
       "<pre style=\"white-space:pre;overflow-x:auto;line-height:normal;font-family:Menlo,'DejaVu Sans Mono',consolas,'Courier New',monospace\">/gpfs/data/pearson-lab/PERSONAL/skochanny/.conda/envs/sf/lib/python3.9/site-packages/rich/live.py:231: UserWarning:\n",
       "install \"ipywidgets\" for Jupyter support\n",
       "  warnings.warn('install \"ipywidgets\" for Jupyter support')\n",
       "</pre>\n"
      ],
      "text/plain": [
       "/gpfs/data/pearson-lab/PERSONAL/skochanny/.conda/envs/sf/lib/python3.9/site-packages/rich/live.py:231: UserWarning:\n",
       "install \"ipywidgets\" for Jupyter support\n",
       "  warnings.warn('install \"ipywidgets\" for Jupyter support')\n"
      ]
     },
     "metadata": {},
     "output_type": "display_data"
    },
    {
     "data": {
      "text/html": [
       "<pre style=\"white-space:pre;overflow-x:auto;line-height:normal;font-family:Menlo,'DejaVu Sans Mono',consolas,'Courier New',monospace\"></pre>\n"
      ],
      "text/plain": []
     },
     "metadata": {},
     "output_type": "display_data"
    },
    {
     "data": {
      "text/html": [
       "<pre style=\"white-space:pre;overflow-x:auto;line-height:normal;font-family:Menlo,'DejaVu Sans Mono',consolas,'Courier New',monospace\"><span style=\"color: #7fbfbf; text-decoration-color: #7fbfbf\">           </span><span style=\"color: #000080; text-decoration-color: #000080\">INFO    </span> Generating PDF (this may take some time)...                                                    \n",
       "</pre>\n"
      ],
      "text/plain": [
       "\u001b[2;36m          \u001b[0m\u001b[2;36m \u001b[0m\u001b[34mINFO    \u001b[0m Generating PDF (this may take some time)...                                                    \n"
      ]
     },
     "metadata": {},
     "output_type": "display_data"
    },
    {
     "name": "stderr",
     "output_type": "stream",
     "text": [
      "/tmp/ipykernel_26559/2302273674.py:2: DeprecationWarning: Substituting font arial by core font helvetica - This is deprecated since v2.7.8, and will soon be removed\n",
      "  P.extract_tiles(tile_px=299, # 224\n",
      "/tmp/ipykernel_26559/2302273674.py:2: DeprecationWarning: The parameter \"ln\" is deprecated since v2.5.2. Instead of ln=1 use new_x=XPos.LMARGIN, new_y=YPos.NEXT.\n",
      "  P.extract_tiles(tile_px=299, # 224\n",
      "findfont: Font family 'Arial' not found.\n",
      "findfont: Font family 'Arial' not found.\n",
      "findfont: Font family 'Arial' not found.\n",
      "findfont: Font family 'Arial' not found.\n",
      "findfont: Font family 'Arial' not found.\n",
      "findfont: Font family 'Arial' not found.\n",
      "findfont: Font family 'Arial' not found.\n",
      "/tmp/ipykernel_26559/2302273674.py:2: DeprecationWarning: The parameter \"ln\" is deprecated since v2.5.2. Instead of ln=0 use new_x=XPos.RIGHT, new_y=YPos.TOP.\n",
      "  P.extract_tiles(tile_px=299, # 224\n",
      "/tmp/ipykernel_26559/2302273674.py:2: DeprecationWarning: Substituting font arial by core font helvetica - This is deprecated since v2.7.8, and will soon be removed\n",
      "  P.extract_tiles(tile_px=299, # 224\n",
      "/tmp/ipykernel_26559/2302273674.py:2: DeprecationWarning: The parameter \"ln\" is deprecated since v2.5.2. Instead of ln=1 use new_x=XPos.LMARGIN, new_y=YPos.NEXT.\n",
      "  P.extract_tiles(tile_px=299, # 224\n",
      "/tmp/ipykernel_26559/2302273674.py:2: DeprecationWarning: \"type\" parameter is deprecated since v2.2.0, unused and will soon be removed\n",
      "  P.extract_tiles(tile_px=299, # 224\n"
     ]
    },
    {
     "data": {
      "text/html": [
       "<pre style=\"white-space:pre;overflow-x:auto;line-height:normal;font-family:Menlo,'DejaVu Sans Mono',consolas,'Courier New',monospace\">/gpfs/data/pearson-lab/PERSONAL/skochanny/.conda/envs/sf/lib/python3.9/site-packages/rich/live.py:231: UserWarning:\n",
       "install \"ipywidgets\" for Jupyter support\n",
       "  warnings.warn('install \"ipywidgets\" for Jupyter support')\n",
       "</pre>\n"
      ],
      "text/plain": [
       "/gpfs/data/pearson-lab/PERSONAL/skochanny/.conda/envs/sf/lib/python3.9/site-packages/rich/live.py:231: UserWarning:\n",
       "install \"ipywidgets\" for Jupyter support\n",
       "  warnings.warn('install \"ipywidgets\" for Jupyter support')\n"
      ]
     },
     "metadata": {},
     "output_type": "display_data"
    },
    {
     "name": "stdout",
     "output_type": "stream",
     "text": [
      "Updating CSV for 10 reports.\n"
     ]
    },
    {
     "data": {
      "text/html": [
       "<pre style=\"white-space:pre;overflow-x:auto;line-height:normal;font-family:Menlo,'DejaVu Sans Mono',consolas,'Courier New',monospace\"></pre>\n"
      ],
      "text/plain": []
     },
     "metadata": {},
     "output_type": "display_data"
    },
    {
     "data": {
      "text/html": [
       "<pre style=\"white-space:pre;overflow-x:auto;line-height:normal;font-family:Menlo,'DejaVu Sans Mono',consolas,'Courier New',monospace\"></pre>\n"
      ],
      "text/plain": []
     },
     "metadata": {},
     "output_type": "display_data"
    },
    {
     "data": {
      "text/plain": [
       "{'/gpfs/data/pearson-lab/DL_OTHER/TEST_PROJECTS/lung-adeno-v-squam/slides/TCGA-85-8350-01Z-00-DX1.F9A32453-2E24-4874-A1FA-67B4173ABF03.svs': <slideflow.slide.report.SlideReport at 0x7f40c36833a0>,\n",
       " '/gpfs/data/pearson-lab/DL_OTHER/TEST_PROJECTS/lung-adeno-v-squam/slides/TCGA-NC-A5HG-01Z-00-DX1.129E83E5-1C4D-4B31-8750-64D10A65267F.svs': <slideflow.slide.report.SlideReport at 0x7f40a80838e0>,\n",
       " '/gpfs/data/pearson-lab/DL_OTHER/TEST_PROJECTS/lung-adeno-v-squam/slides/TCGA-55-1594-01Z-00-DX1.bd90c500-7c0b-4c45-a3f7-2d9177384b1d.svs': <slideflow.slide.report.SlideReport at 0x7f40a80abca0>,\n",
       " '/gpfs/data/pearson-lab/DL_OTHER/TEST_PROJECTS/lung-adeno-v-squam/slides/TCGA-75-7027-01Z-00-DX1.AC91B34F-DF67-4F95-B145-079A71A54E83.svs': <slideflow.slide.report.SlideReport at 0x7f40a80ab940>,\n",
       " '/gpfs/data/pearson-lab/DL_OTHER/TEST_PROJECTS/lung-adeno-v-squam/slides/TCGA-38-4631-01Z-00-DX1.5e0c873a-9c4c-4e0b-bf2e-e3cd8b760761.svs': <slideflow.slide.report.SlideReport at 0x7f40a80d1dc0>,\n",
       " '/gpfs/data/pearson-lab/DL_OTHER/TEST_PROJECTS/lung-adeno-v-squam/slides/TCGA-85-A4CL-01Z-00-DX1.05BC31FF-3B88-489F-9BD2-5B2B31C72EDB.svs': <slideflow.slide.report.SlideReport at 0x7f40a80d1f40>,\n",
       " '/gpfs/data/pearson-lab/DL_OTHER/TEST_PROJECTS/lung-adeno-v-squam/slides/TCGA-49-4487-01Z-00-DX1.3a3a0720-463c-430e-849b-e2f8991bdfa5.svs': <slideflow.slide.report.SlideReport at 0x7f40a80cd610>,\n",
       " '/gpfs/data/pearson-lab/DL_OTHER/TEST_PROJECTS/lung-adeno-v-squam/slides/TCGA-78-8662-01Z-00-DX1.754A4C57-B5FA-4077-99E4-F6EFA6459410.svs': <slideflow.slide.report.SlideReport at 0x7f407c6ef5e0>,\n",
       " '/gpfs/data/pearson-lab/DL_OTHER/TEST_PROJECTS/lung-adeno-v-squam/slides/TCGA-21-5782-01Z-00-DX1.E0C856C0-9055-4437-9393-695D699E4F57.svs': <slideflow.slide.report.SlideReport at 0x7f407c6ef790>,\n",
       " '/gpfs/data/pearson-lab/DL_OTHER/TEST_PROJECTS/lung-adeno-v-squam/slides/TCGA-18-3415-01Z-00-DX1.8C62F2CD-4A2F-4D1E-A662-D7D5AFE557AB.svs': <slideflow.slide.report.SlideReport at 0x7f407c6ef0d0>}"
      ]
     },
     "execution_count": 10,
     "metadata": {},
     "output_type": "execute_result"
    }
   ],
   "source": [
    "from slideflow.slide import qc\n",
    "P.extract_tiles(tile_px=224, # 224x224 pixel tiles are default for most feature extractors\n",
    "                tile_um=224, \n",
    "                whitespace_fraction=0.95,\n",
    "                roi_method='inside',\n",
    "                source = ['LUADvsLUSC'],\n",
    "                qc=[qc.Gaussian(), qc.Otsu()])"
   ]
  },
  {
   "cell_type": "markdown",
   "metadata": {},
   "source": [
    "<a id='fe'></a>\n",
    "## Feature Extraction\n"
   ]
  },
  {
   "cell_type": "markdown",
   "metadata": {},
   "source": [
    "1. Create/load the dataset\n",
    "2. Create a feature extractor object (either [SSL](#ssl-feature-extraction-model-training) or [Pre-Trained](#pre-trained-feature-extraction))\n",
    "3. Calculate and export features\n",
    "\n",
    "See [Generating features](https://slideflow.dev/features/) in Slideflow's documentation for more information."
   ]
  },
  {
   "cell_type": "markdown",
   "metadata": {},
   "source": [
    "To initialize a [Dataset object](https://slideflow.dev/dataset/), you can use the Project object's `dataset()` method. "
   ]
  },
  {
   "cell_type": "code",
   "execution_count": 7,
   "metadata": {},
   "outputs": [],
   "source": [
    "# Load the dataset\n",
    "ad_sq = P.dataset(tile_px=224, tile_um=224)\n",
    "\n",
    "# Get a summary of the dataset\n",
    "ad_sq.summary()"
   ]
  },
  {
   "cell_type": "markdown",
   "metadata": {},
   "source": [
    "In some situations, you may want to perform analysis only on a subset of images within a single dataset. You can filter a dataset by a specific feature of the annotation file with `Dataset.filter()`."
   ]
  },
  {
   "cell_type": "code",
   "execution_count": 6,
   "metadata": {},
   "outputs": [],
   "source": [
    "# Filter by site. Sites included in the filter will be included in the dataset\n",
    "# This is an example of filtering, for the purposes of this tutorial, we will not filter\n",
    "filter_ad_sq = ad_sq.filter({'site': ['Site-97', 'Site-40', 'Site-9', 'Site-177', 'Site-130', 'Side-69', 'Site-67', 'Site-93', 'Site-96']})"
   ]
  },
  {
   "cell_type": "markdown",
   "metadata": {},
   "source": [
    "#### Pre-Trained Feature Extraction"
   ]
  },
  {
   "cell_type": "markdown",
   "metadata": {},
   "source": [
    "Pre-trained feature extraction is very fast! This is because no model training occurs during feature extraction. The model has already been trained and we are simply passing our images through this network to extract features. \n",
    "\n",
    "[Here is the list](https://slideflow.dev/features/#pretrained-extractors) of all available pre-trained feature extractors in Slideflow. Some are not available in the base ```slideflow``` package because they require additional dependencies allowing for non-commercial options.\n",
    "\n",
    "Some notes:\n",
    "- We can access the extracted features by initializing a [DatasetFeatures](https://slideflow.dev/dataset_features/) class object. \n",
    "- It is fine to extract tiles at a different resolution than what is needed for feature extraction (usually 224px). The feature extractor will resize the tiles to the correct resolution with the `resize` parameter.\n",
    "- After you have generated the features aka feature bags, you want to save them as torch tensors to access later for MIL."
   ]
  },
  {
   "cell_type": "code",
   "execution_count": null,
   "metadata": {},
   "outputs": [],
   "source": [
    "# TODO: update from .pkl to .bin paths\n",
    "# Set extractor\n",
    "extractor_name = 'virchow'\n",
    "# Define a path for a .pkl file to save the features to:\n",
    "cache_name = f'{project_root_path}/features/{extractor_name}.pkl'\n",
    "\n",
    "# print(sf.model.list_extractors()) # to see all available feature extractors\n",
    "\n",
    "# Create the feature extractor (uncomment the extractor you would like to use)\n",
    "# phikon = build_feature_extractor('phikon', tile_px=224)\n",
    "# plip = build_feature_extractor('plip', tile_px=224)\n",
    "# ctranspath = build_feature_extractor('ctranspath', tile_px=224)\n",
    "# retccl = build_feature_extractor('retccl', tile_px=224)\n",
    "virchow = sf.model.build_feature_extractor('virchow', tile_px=224)\n",
    "extractor = virchow\n",
    "\n",
    "# initialize the dataset features object\n",
    "features = sf.DatasetFeatures(extractor, ad_sq, resize=True, cache=cache_name) # you can also use a normalizer on the features: normalizer='reinhard'\n",
    "\n",
    "# Save feature bags as torch tensors to access them later for MIL\n",
    "features.to_torch(project_root_path + f'/features/{extractor_name}/torch')"
   ]
  },
  {
   "cell_type": "code",
   "execution_count": null,
   "metadata": {},
   "outputs": [],
   "source": [
    "# NOTE: you can either save features at /features or at /pt_files\n",
    "# for train_mil(bags=...)\n",
    "# bags (str) – Either a path to directory with *.pt files, or a list of paths to \n",
    "# individual *.pt files. Each file should contain exported feature vectors, \n",
    "# with each file containing all tile features for one patient.\n",
    "# bags=project_root_path + f'/features/{extractor_name}/torch'"
   ]
  },
  {
   "cell_type": "markdown",
   "metadata": {},
   "source": [
    "*Alternatively*, at a project level, you can also generate the features and save them in one step with `P.generate_feature_bags()`"
   ]
  },
  {
   "cell_type": "code",
   "execution_count": null,
   "metadata": {},
   "outputs": [],
   "source": [
    "# Calculate & export feature bags.\n",
    "P.generate_feature_bags(extractor, ad_sq)"
   ]
  },
  {
   "cell_type": "markdown",
   "metadata": {},
   "source": [
    "#### UMAP Visualization"
   ]
  },
  {
   "cell_type": "markdown",
   "metadata": {},
   "source": [
    "It is useful to visualize the features in a lower-dimensional space. We can use UMAP for this. We'll load in features, calculate UMAP activations, and save. \n",
    "\n",
    "Also see Slideflow documentation on [feature space analysis](https://slideflow.dev/posthoc/) for more info and techniques."
   ]
  },
  {
   "cell_type": "code",
   "execution_count": null,
   "metadata": {},
   "outputs": [],
   "source": [
    "features = sf.DatasetFeatures(virchow, ad_sq, cache=f'{project_root_path}/features/{extractor_name}.pkl')\n",
    "umap_cache = f'{project_root_path}/cohort/umap'\n",
    "umap = features.map_activations(n_neighbors=15, min_dist=0.5)\n",
    "labels, _ = ad_sq.labels('cohort', format='name')\n",
    "print(labels)\n",
    "umap.label_by_slide(labels)\n",
    "umap.save(umap_cache, \n",
    "        xlabel='UMAP1',\n",
    "        ylabel='UMAP2',\n",
    "        title = f'{extractor_name} Features LUAD vs. LUSC',\n",
    "        legend='Subtype',\n",
    "        subsample=5000,\n",
    "        s=6)"
   ]
  },
  {
   "cell_type": "markdown",
   "metadata": {},
   "source": [
    "Load in UMAP activations as Slideflow [SlideMap](https://slideflow.dev/slidemap/) object."
   ]
  },
  {
   "cell_type": "code",
   "execution_count": 25,
   "metadata": {},
   "outputs": [
    {
     "data": {
      "text/html": [
       "<pre style=\"white-space:pre;overflow-x:auto;line-height:normal;font-family:Menlo,'DejaVu Sans Mono',consolas,'Courier New',monospace\"><span style=\"color: #7fbfbf; text-decoration-color: #7fbfbf\">[16:25:23] </span><span style=\"color: #000080; text-decoration-color: #000080\">INFO    </span> Loaded coordinates from                                                                        \n",
       "<span style=\"color: #7fbfbf; text-decoration-color: #7fbfbf\">           </span>         <span style=\"color: #008000; text-decoration-color: #008000\">/home/ecdyer/labshare/DL_OTHER/TEST_PROJECTS/TEST_PROJECT/umap/cohort/slidemap.parquet</span>         \n",
       "</pre>\n"
      ],
      "text/plain": [
       "\u001b[2;36m[16:25:23]\u001b[0m\u001b[2;36m \u001b[0m\u001b[34mINFO    \u001b[0m Loaded coordinates from                                                                        \n",
       "\u001b[2;36m           \u001b[0m         \u001b[32m/home/ecdyer/labshare/DL_OTHER/TEST_PROJECTS/TEST_PROJECT/umap/cohort/slidemap.parquet\u001b[0m         \n"
      ]
     },
     "metadata": {},
     "output_type": "display_data"
    },
    {
     "name": "stdout",
     "output_type": "stream",
     "text": [
      "Thu Dec 21 16:25:26 2023 Building and compiling search function\n"
     ]
    },
    {
     "data": {
      "text/html": [
       "<pre style=\"white-space:pre;overflow-x:auto;line-height:normal;font-family:Menlo,'DejaVu Sans Mono',consolas,'Courier New',monospace\"><span style=\"color: #7fbfbf; text-decoration-color: #7fbfbf\">[16:25:28] </span><span style=\"color: #000080; text-decoration-color: #000080\">INFO    </span> Loaded UMAP from <span style=\"color: #008000; text-decoration-color: #008000\">/home/ecdyer/labshare/DL_OTHER/TEST_PROJECTS/TEST_PROJECT/umap/cohort/umap.pkl</span>\n",
       "</pre>\n"
      ],
      "text/plain": [
       "\u001b[2;36m[16:25:28]\u001b[0m\u001b[2;36m \u001b[0m\u001b[34mINFO    \u001b[0m Loaded UMAP from \u001b[32m/home/ecdyer/labshare/DL_OTHER/TEST_PROJECTS/TEST_PROJECT/umap/cohort/umap.pkl\u001b[0m\n"
      ]
     },
     "metadata": {},
     "output_type": "display_data"
    },
    {
     "data": {
      "text/html": [
       "<pre style=\"white-space:pre;overflow-x:auto;line-height:normal;font-family:Menlo,'DejaVu Sans Mono',consolas,'Courier New',monospace\"><span style=\"color: #7fbfbf; text-decoration-color: #7fbfbf\">           </span><span style=\"color: #800000; text-decoration-color: #800000\">WARNING </span> <span style=\"color: #808000; text-decoration-color: #808000\">Could not find range_clip.npz; results from umap_transform() will not be normalized.</span>           \n",
       "</pre>\n"
      ],
      "text/plain": [
       "\u001b[2;36m          \u001b[0m\u001b[2;36m \u001b[0m\u001b[31mWARNING \u001b[0m \u001b[33mCould not find range_clip.npz; results from umap_transform() will not be normalized.\u001b[0m           \n"
      ]
     },
     "metadata": {},
     "output_type": "display_data"
    },
    {
     "name": "stdout",
     "output_type": "stream",
     "text": [
      "{'TCGA-18-3415-01Z-00-DX1.8C62F2CD-4A2F-4D1E-A662-D7D5AFE557AB': 'Site-97', 'TCGA-21-5782-01Z-00-DX1.E0C856C0-9055-4437-9393-695D699E4F57': 'Site-40', 'TCGA-85-8350-01Z-00-DX1.F9A32453-2E24-4874-A1FA-67B4173ABF03': 'Site-9', 'TCGA-85-A4CL-01Z-00-DX1.05BC31FF-3B88-489F-9BD2-5B2B31C72EDB': 'Site-9', 'TCGA-NC-A5HG-01Z-00-DX1.129E83E5-1C4D-4B31-8750-64D10A65267F': 'Site-177', 'TCGA-38-4631-01Z-00-DX1.5e0c873a-9c4c-4e0b-bf2e-e3cd8b760761': 'Site-130', 'TCGA-49-4487-01Z-00-DX1.3a3a0720-463c-430e-849b-e2f8991bdfa5': 'Site-69', 'TCGA-55-1594-01Z-00-DX1.bd90c500-7c0b-4c45-a3f7-2d9177384b1d': 'Site-67', 'TCGA-75-7027-01Z-00-DX1.AC91B34F-DF67-4F95-B145-079A71A54E83': 'Site-93', 'TCGA-78-8662-01Z-00-DX1.754A4C57-B5FA-4077-99E4-F6EFA6459410': 'Site-96'}\n"
     ]
    },
    {
     "data": {
      "text/html": [
       "<pre style=\"white-space:pre;overflow-x:auto;line-height:normal;font-family:Menlo,'DejaVu Sans Mono',consolas,'Courier New',monospace\"><span style=\"color: #7fbfbf; text-decoration-color: #7fbfbf\">[16:25:29] </span><span style=\"color: #000080; text-decoration-color: #000080\">INFO    </span> Saved 2D UMAP to                                                                               \n",
       "<span style=\"color: #7fbfbf; text-decoration-color: #7fbfbf\">           </span>         <span style=\"color: #008000; text-decoration-color: #008000\">/home/ecdyer/labshare/DL_OTHER/TEST_PROJECTS/TEST_PROJECT/umap/site/umap_site.png</span>              \n",
       "</pre>\n"
      ],
      "text/plain": [
       "\u001b[2;36m[16:25:29]\u001b[0m\u001b[2;36m \u001b[0m\u001b[34mINFO    \u001b[0m Saved 2D UMAP to                                                                               \n",
       "\u001b[2;36m           \u001b[0m         \u001b[32m/home/ecdyer/labshare/DL_OTHER/TEST_PROJECTS/TEST_PROJECT/umap/site/umap_site.png\u001b[0m              \n"
      ]
     },
     "metadata": {},
     "output_type": "display_data"
    },
    {
     "data": {
      "image/png": "[encoded data removed]",
      "text/plain": [
       "<Figure size 600x450 with 1 Axes>"
      ]
     },
     "metadata": {},
     "output_type": "display_data"
    }
   ],
   "source": [
    "umap = sf.SlideMap.load(f'{project_root_path}/umap/cohort')\n",
    "save_path = f'{project_root_path}/umap/site/umap_site.png'\n",
    "labels, _ = ad_sq.labels('site', format='name')\n",
    "print(labels)\n",
    "umap.label_by_slide(labels)\n",
    "umap.save_plot(save_path,\n",
    "                xlabel='UMAP1',\n",
    "                ylabel='UMAP2',\n",
    "                title= f'{extractor_name} Features LUAD vs. LUSC by Site',\n",
    "                legend='Subtype',\n",
    "                subsample=12000,\n",
    "                loc='upper right',\n",
    "                ncol=2,\n",
    "                legend_kwargs={'fontsize':8,'markerscale':0.7,'frameon':True,'title_fontsize':10},\n",
    "                s=6)\n",
    "\n",
    "# legend_kwargs={'fontsize':8,'markerscale':0.7,'frameon':False,'title_fontsize':10},"
   ]
  },
  {
   "cell_type": "markdown",
   "metadata": {},
   "source": [
    "## Custom SSL Feature Extraction Model Training"
   ]
  },
  {
   "cell_type": "markdown",
   "metadata": {},
   "source": [
    "*Note: Training an SSL model requires big GPUs and a lot of data & memory, you probably cannot do it in a Jupyter Notebook.*\n",
    "\n",
    "SSL feature extraction requires first building a model. This model tries to learn information about the dataset without any human labels; then, we are able to use this model as our now pre-trained featuer extractor. Currently, Slideflow is integrated with two SSL models, SimCLR and DinoV2.<br><br>"
   ]
  },
  {
   "cell_type": "markdown",
   "metadata": {},
   "source": [
    "#### DinoV2 Overview <br>"
   ]
  },
  {
   "cell_type": "markdown",
   "metadata": {},
   "source": [
    "1. Install DinoV2\n",
    "2. Create a DinoV2 config file\n",
    "3. Train DinoV2 with the commandline interface\n",
    "\n",
    "DinoV2 requires a `config.yaml` file to be specified. Here is an example of what this file should look like:\n",
    "```\n",
    "\n",
    "train:\n",
    "  dataset_path: slideflow\n",
    "  batch_size_per_gpu: 32\n",
    "  slideflow:\n",
    "    project: \"/mnt/data/projects/TCGA_THCA_BRAF\"\n",
    "    dataset:\n",
    "      tile_px: 299\n",
    "      tile_um: 302\n",
    "      filters:\n",
    "        brs_class:\n",
    "        - \"Braf-like\"\n",
    "        - \"Ras-like\"\n",
    "    seed: 42\n",
    "    outcome_labels: \"brs_class\"\n",
    "    normalizer: \"reinhard_mask\"\n",
    "    interleave_kwargs: null\n",
    "```\n",
    "More information on DinoV2 configuration can be found [here](https://slideflow.dev/ssl/#training-dinov2)<br><br>"
   ]
  },
  {
   "cell_type": "code",
   "execution_count": null,
   "metadata": {},
   "outputs": [],
   "source": [
    "# Download DinoV2\n",
    "! pip install git+https://github.com/jamesdolezal/dinov2.git\n",
    "# OR you can clone the repository "
   ]
  },
  {
   "cell_type": "markdown",
   "metadata": {},
   "source": [
    "Create a YAML file, modifying the contents as needed: <br>\n",
    "```\n",
    "train:\n",
    "  dataset_path: slideflow\n",
    "  batch_size_per_gpu: 32\n",
    "  slideflow:\n",
    "    project: \"/home/ecdyer/labshare/DL_OTHER/TEST_PROJECTS/TEST_PROJECT/\"\n",
    "    dataset:\n",
    "      tile_px: 299\n",
    "      tile_um: 302\n",
    "      filters:\n",
    "        cohort:\n",
    "        - \"LUSC\"\n",
    "        - \"LUAD\"\n",
    "    seed: 42\n",
    "    outcome_labels: \"cohort\"\n",
    "    normalizer: \"reinhard_mask\"\n",
    "    interleave_kwargs: null\n",
    "```\n",
    "<br><br>\n",
    "Train DinoV2 with the commandline interface:<br>\n",
    "```\n",
    "torchrun --nproc_per_node=4 -m \"dinov2.train.train\" \\\n",
    "    --config-file /path/to/config.yaml \\\n",
    "    --output-dir /path/to/output_dir\n",
    "```"
   ]
  },
  {
   "cell_type": "markdown",
   "metadata": {},
   "source": [
    "#### SimCLR Overview"
   ]
  },
  {
   "cell_type": "markdown",
   "metadata": {},
   "source": [
    "*Note: Training SimCLR requires tensorflow.*\n",
    "1. Define SimCLR parameters\n",
    "2. Train SimCLR"
   ]
  },
  {
   "cell_type": "code",
   "execution_count": null,
   "metadata": {},
   "outputs": [],
   "source": [
    "simclr_args = simclr.get_args(\n",
    "    mode='train',\n",
    "    train_mode='pretrain',\n",
    "    train_batch_size=256,\n",
    "    temperature=0.1,\n",
    "    learning_rate=0.075,\n",
    "    learning_rate_scaling='sqrt',\n",
    "    weight_decay=1e-4,\n",
    "    train_epochs=100,\n",
    "    image_size=299,\n",
    "    checkpoint_epochs=20)\n",
    "\n",
    "P.train_simclr(simclr_args, ad_sq, normalizer = 'reinhard_mask')"
   ]
  },
  {
   "cell_type": "markdown",
   "metadata": {},
   "source": [
    "#### Feature extraction"
   ]
  },
  {
   "cell_type": "markdown",
   "metadata": {},
   "source": [
    "Once models have trained, you can build a feature extractor for each model and extract the features. To save the features, define a path to save a `.pkl`file with the features."
   ]
  },
  {
   "cell_type": "code",
   "execution_count": null,
   "metadata": {},
   "outputs": [],
   "source": [
    "# SimCLR Feature Extraction\n",
    "cache_name = f'{project_root_path}/features/simclr.pkl'\n",
    "\n",
    "simclr_extractor = build_feature_extractor('simclr', ckpt=f'{project_root_path}/simclr/00006-simclr/ckpt-116420.ckpt')\n",
    "simclr_features = sf.DatasetFeatures(simclr_extractor, ad_sq, cache=cache_name)"
   ]
  },
  {
   "cell_type": "code",
   "execution_count": null,
   "metadata": {},
   "outputs": [],
   "source": [
    "# Dinov2 Feature Extraction\n",
    "cache_name = f'{project_root_path}/features/dinov2.pkl'\n",
    "dinov2 = build_feature_extractor(\n",
    "    'dinov2',\n",
    "    weights='/path/to/teacher_checkpoint.pth',\n",
    "    cfg='/path/to/config.yaml')\n",
    "dinov2_features = sf.DatasetFeatures(dinov2, ad_sq, cache=cache_name)"
   ]
  }
 ],
 "metadata": {
  "kernelspec": {
   "display_name": "Python 3 (ipykernel)",
   "language": "python",
   "name": "python3"
  },
  "language_info": {
   "codemirror_mode": {
    "name": "ipython",
    "version": 3
   },
   "file_extension": ".py",
   "mimetype": "text/x-python",
   "name": "python",
   "nbconvert_exporter": "python",
   "pygments_lexer": "ipython3",
   "version": "3.9.19"
  }
 },
 "nbformat": 4,
 "nbformat_minor": 2
}
