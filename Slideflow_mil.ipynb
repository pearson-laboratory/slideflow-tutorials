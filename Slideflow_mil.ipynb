{
 "cells": [
  {
   "cell_type": "markdown",
   "metadata": {},
   "source": [
    "# MIL (Multiple Instance Learning) Tutorial\n",
    "\n",
    "This tutorial demonstrates how to use Multiple Instance Learning (MIL) models with Slideflow for digital pathology tasks. \n",
    "\n",
    "## Setting up the environment\n",
    "\n",
    "First, let's import the necessary libraries and set up our project."
   ]
  },
  {
   "cell_type": "code",
   "execution_count": 1,
   "metadata": {},
   "outputs": [
    {
     "name": "stderr",
     "output_type": "stream",
     "text": [
      "/home/mattsacco/miniconda3/envs/sf/lib/python3.9/site-packages/tqdm/auto.py:21: TqdmWarning: IProgress not found. Please update jupyter and ipywidgets. See https://ipywidgets.readthedocs.io/en/stable/user_install.html\n",
      "  from .autonotebook import tqdm as notebook_tqdm\n"
     ]
    }
   ],
   "source": [
    "import os\n",
    "import slideflow as sf\n",
    "from slideflow.mil import mil_config\n",
    "\n",
    "# Set the backend to PyTorch\n",
    "os.environ['SF_BACKEND'] = 'torch'\n",
    "\n",
    "# Initialize the project\n",
    "project_root = '/mnt/labshare/DL_OTHER/TEST_PROJECTS/TEST_PROJECT'\n",
    "P = sf.Project(root=project_root)"
   ]
  },
  {
   "cell_type": "markdown",
   "metadata": {},
   "source": [
    "## Save features bags as torch tensors\n",
    "\n",
    "When generating feature bags, make sure to save them as torch tensors. \n",
    "I commented out the code because the features should already be saved."
   ]
  },
  {
   "cell_type": "code",
   "execution_count": 2,
   "metadata": {},
   "outputs": [],
   "source": [
    "# extractor = 'ctranspath'\n",
    "# weights_path = f'/mnt/labshare/MODELS/{extractor}/pytorch_model.bin'\n",
    "# dataset = P.dataset(tile_px=299, tile_um=302)\n",
    "# extractor_model = sf.model.build_feature_extractor(extractor, center_crop=True)\n",
    "# features = sf.DatasetFeatures(extractor_model, dataset=dataset, normalizer='reinhard')\n",
    "# features.to_torch(project_root + f'/features/{extractor}/torch')"
   ]
  },
  {
   "cell_type": "markdown",
   "metadata": {},
   "source": [
    "## Splitting Data for Training and Validation\n",
    "\n",
    "There are different strategies for splitting data between training and validation sets. Here are some common approaches:"
   ]
  },
  {
   "cell_type": "code",
   "execution_count": 3,
   "metadata": {},
   "outputs": [
    {
     "data": {
      "text/html": [
       "<pre style=\"white-space:pre;overflow-x:auto;line-height:normal;font-family:Menlo,'DejaVu Sans Mono',consolas,'Courier New',monospace\">/home/mattsacco/miniconda3/envs/sf/lib/python3.9/site-packages/rich/live.py:231: UserWarning: install \"ipywidgets\" \n",
       "for Jupyter support\n",
       "  warnings.warn('install \"ipywidgets\" for Jupyter support')\n",
       "</pre>\n"
      ],
      "text/plain": [
       "/home/mattsacco/miniconda3/envs/sf/lib/python3.9/site-packages/rich/live.py:231: UserWarning: install \"ipywidgets\" \n",
       "for Jupyter support\n",
       "  warnings.warn('install \"ipywidgets\" for Jupyter support')\n"
      ]
     },
     "metadata": {},
     "output_type": "display_data"
    },
    {
     "data": {
      "text/html": [
       "<pre style=\"white-space:pre;overflow-x:auto;line-height:normal;font-family:Menlo,'DejaVu Sans Mono',consolas,'Courier New',monospace\"></pre>\n"
      ],
      "text/plain": []
     },
     "metadata": {},
     "output_type": "display_data"
    },
    {
     "data": {
      "text/html": [
       "<pre style=\"white-space:pre;overflow-x:auto;line-height:normal;font-family:Menlo,'DejaVu Sans Mono',consolas,'Courier New',monospace\">\n",
       "</pre>\n"
      ],
      "text/plain": [
       "\n"
      ]
     },
     "metadata": {},
     "output_type": "display_data"
    },
    {
     "data": {
      "text/html": [
       "<pre style=\"white-space:pre;overflow-x:auto;line-height:normal;font-family:Menlo,'DejaVu Sans Mono',consolas,'Courier New',monospace\">/home/mattsacco/miniconda3/envs/sf/lib/python3.9/site-packages/rich/live.py:231: UserWarning: install \"ipywidgets\" \n",
       "for Jupyter support\n",
       "  warnings.warn('install \"ipywidgets\" for Jupyter support')\n",
       "</pre>\n"
      ],
      "text/plain": [
       "/home/mattsacco/miniconda3/envs/sf/lib/python3.9/site-packages/rich/live.py:231: UserWarning: install \"ipywidgets\" \n",
       "for Jupyter support\n",
       "  warnings.warn('install \"ipywidgets\" for Jupyter support')\n"
      ]
     },
     "metadata": {},
     "output_type": "display_data"
    },
    {
     "data": {
      "text/html": [
       "<pre style=\"white-space:pre;overflow-x:auto;line-height:normal;font-family:Menlo,'DejaVu Sans Mono',consolas,'Courier New',monospace\"></pre>\n"
      ],
      "text/plain": []
     },
     "metadata": {},
     "output_type": "display_data"
    },
    {
     "data": {
      "text/html": [
       "<pre style=\"white-space:pre;overflow-x:auto;line-height:normal;font-family:Menlo,'DejaVu Sans Mono',consolas,'Courier New',monospace\">\n",
       "</pre>\n"
      ],
      "text/plain": [
       "\n"
      ]
     },
     "metadata": {},
     "output_type": "display_data"
    },
    {
     "data": {
      "text/html": [
       "<pre style=\"white-space:pre;overflow-x:auto;line-height:normal;font-family:Menlo,'DejaVu Sans Mono',consolas,'Courier New',monospace\">/home/mattsacco/miniconda3/envs/sf/lib/python3.9/site-packages/rich/live.py:231: UserWarning: install \"ipywidgets\" \n",
       "for Jupyter support\n",
       "  warnings.warn('install \"ipywidgets\" for Jupyter support')\n",
       "</pre>\n"
      ],
      "text/plain": [
       "/home/mattsacco/miniconda3/envs/sf/lib/python3.9/site-packages/rich/live.py:231: UserWarning: install \"ipywidgets\" \n",
       "for Jupyter support\n",
       "  warnings.warn('install \"ipywidgets\" for Jupyter support')\n"
      ]
     },
     "metadata": {},
     "output_type": "display_data"
    },
    {
     "data": {
      "text/html": [
       "<pre style=\"white-space:pre;overflow-x:auto;line-height:normal;font-family:Menlo,'DejaVu Sans Mono',consolas,'Courier New',monospace\"></pre>\n"
      ],
      "text/plain": []
     },
     "metadata": {},
     "output_type": "display_data"
    },
    {
     "data": {
      "text/html": [
       "<pre style=\"white-space:pre;overflow-x:auto;line-height:normal;font-family:Menlo,'DejaVu Sans Mono',consolas,'Courier New',monospace\">\n",
       "</pre>\n"
      ],
      "text/plain": [
       "\n"
      ]
     },
     "metadata": {},
     "output_type": "display_data"
    },
    {
     "data": {
      "text/html": [
       "<pre style=\"white-space:pre;overflow-x:auto;line-height:normal;font-family:Menlo,'DejaVu Sans Mono',consolas,'Courier New',monospace\"><span style=\"color: #7fbfbf; text-decoration-color: #7fbfbf\">[10:38:31] </span><span style=\"color: #000080; text-decoration-color: #000080\">INFO    </span> Using k-fold validation split detected at <span style=\"color: #008000; text-decoration-color: #008000\">./splits.json</span> (ID: 0)                                \n",
       "</pre>\n"
      ],
      "text/plain": [
       "\u001b[2;36m[10:38:31]\u001b[0m\u001b[2;36m \u001b[0m\u001b[34mINFO    \u001b[0m Using k-fold validation split detected at \u001b[32m./splits.json\u001b[0m (ID: 0)                                \n"
      ]
     },
     "metadata": {},
     "output_type": "display_data"
    },
    {
     "data": {
      "text/html": [
       "<pre style=\"white-space:pre;overflow-x:auto;line-height:normal;font-family:Menlo,'DejaVu Sans Mono',consolas,'Courier New',monospace\"><span style=\"color: #7fbfbf; text-decoration-color: #7fbfbf\">           </span><span style=\"color: #000080; text-decoration-color: #000080\">INFO    </span> Using k-fold validation split detected at <span style=\"color: #008000; text-decoration-color: #008000\">./splits.json</span> (ID: 0)                                \n",
       "</pre>\n"
      ],
      "text/plain": [
       "\u001b[2;36m          \u001b[0m\u001b[2;36m \u001b[0m\u001b[34mINFO    \u001b[0m Using k-fold validation split detected at \u001b[32m./splits.json\u001b[0m (ID: 0)                                \n"
      ]
     },
     "metadata": {},
     "output_type": "display_data"
    }
   ],
   "source": [
    "\n",
    "# Option 1: Using filters\n",
    "train_dataset = P.dataset(tile_px=299, tile_um=302, filters={'dataset': 'train'})\n",
    "val_dataset = P.dataset(tile_px=299, tile_um=302, filters={'dataset': 'val'})\n",
    "\n",
    "# Option 2: Using k-fold cross-validation\n",
    "dataset = P.dataset(tile_px=299, tile_um=302)\n",
    "splits = dataset.kfold_split(k=2, splits='./splits.json')"
   ]
  },
  {
   "cell_type": "markdown",
   "metadata": {},
   "source": [
    "## Training a MIL Model\n",
    "\n",
    "Now, let's train a MIL model using the Attention MIL architecture. \n",
    "\n",
    "First using the k-fold cross-validation approach then using the train and val datasets.\n"
   ]
  },
  {
   "cell_type": "code",
   "execution_count": 4,
   "metadata": {},
   "outputs": [
    {
     "data": {
      "text/html": [
       "<pre style=\"white-space:pre;overflow-x:auto;line-height:normal;font-family:Menlo,'DejaVu Sans Mono',consolas,'Courier New',monospace\"><span style=\"color: #7fbfbf; text-decoration-color: #7fbfbf\">           </span><span style=\"color: #000080; text-decoration-color: #000080\">INFO    </span> Training FastAI MIL model with config:                                                         \n",
       "</pre>\n"
      ],
      "text/plain": [
       "\u001b[2;36m          \u001b[0m\u001b[2;36m \u001b[0m\u001b[34mINFO    \u001b[0m Training FastAI MIL model with config:                                                         \n"
      ]
     },
     "metadata": {},
     "output_type": "display_data"
    },
    {
     "data": {
      "text/html": [
       "<pre style=\"white-space:pre;overflow-x:auto;line-height:normal;font-family:Menlo,'DejaVu Sans Mono',consolas,'Courier New',monospace\"><span style=\"color: #7fbfbf; text-decoration-color: #7fbfbf\">           </span><span style=\"color: #000080; text-decoration-color: #000080\">INFO    </span> TrainerConfig(                                                                                 \n",
       "<span style=\"color: #7fbfbf; text-decoration-color: #7fbfbf\">           </span>           lr=None                                                                                      \n",
       "<span style=\"color: #7fbfbf; text-decoration-color: #7fbfbf\">           </span>           wd=1e-05                                                                                     \n",
       "<span style=\"color: #7fbfbf; text-decoration-color: #7fbfbf\">           </span>           bag_size=4                                                                                   \n",
       "<span style=\"color: #7fbfbf; text-decoration-color: #7fbfbf\">           </span>           max_val_bag_size=None                                                                        \n",
       "<span style=\"color: #7fbfbf; text-decoration-color: #7fbfbf\">           </span>           fit_one_cycle=True                                                                           \n",
       "<span style=\"color: #7fbfbf; text-decoration-color: #7fbfbf\">           </span>           epochs=2                                                                                     \n",
       "<span style=\"color: #7fbfbf; text-decoration-color: #7fbfbf\">           </span>           batch_size=2                                                                                 \n",
       "<span style=\"color: #7fbfbf; text-decoration-color: #7fbfbf\">           </span>           drop_last=True                                                                               \n",
       "<span style=\"color: #7fbfbf; text-decoration-color: #7fbfbf\">           </span>           save_monitor='valid_loss'                                                                    \n",
       "<span style=\"color: #7fbfbf; text-decoration-color: #7fbfbf\">           </span>           weighted_loss=True                                                                           \n",
       "<span style=\"color: #7fbfbf; text-decoration-color: #7fbfbf\">           </span>           model='attention_mil'                                                                        \n",
       "<span style=\"color: #7fbfbf; text-decoration-color: #7fbfbf\">           </span>           model_kwargs=None                                                                            \n",
       "<span style=\"color: #7fbfbf; text-decoration-color: #7fbfbf\">           </span>           loss='cross_entropy'                                                                         \n",
       "<span style=\"color: #7fbfbf; text-decoration-color: #7fbfbf\">           </span>           use_lens=True                                                                                \n",
       "<span style=\"color: #7fbfbf; text-decoration-color: #7fbfbf\">           </span>         )                                                                                              \n",
       "</pre>\n"
      ],
      "text/plain": [
       "\u001b[2;36m          \u001b[0m\u001b[2;36m \u001b[0m\u001b[34mINFO    \u001b[0m TrainerConfig(                                                                                 \n",
       "\u001b[2;36m           \u001b[0m           lr=None                                                                                      \n",
       "\u001b[2;36m           \u001b[0m           wd=1e-05                                                                                     \n",
       "\u001b[2;36m           \u001b[0m           bag_size=4                                                                                   \n",
       "\u001b[2;36m           \u001b[0m           max_val_bag_size=None                                                                        \n",
       "\u001b[2;36m           \u001b[0m           fit_one_cycle=True                                                                           \n",
       "\u001b[2;36m           \u001b[0m           epochs=2                                                                                     \n",
       "\u001b[2;36m           \u001b[0m           batch_size=2                                                                                 \n",
       "\u001b[2;36m           \u001b[0m           drop_last=True                                                                               \n",
       "\u001b[2;36m           \u001b[0m           save_monitor='valid_loss'                                                                    \n",
       "\u001b[2;36m           \u001b[0m           weighted_loss=True                                                                           \n",
       "\u001b[2;36m           \u001b[0m           model='attention_mil'                                                                        \n",
       "\u001b[2;36m           \u001b[0m           model_kwargs=None                                                                            \n",
       "\u001b[2;36m           \u001b[0m           loss='cross_entropy'                                                                         \n",
       "\u001b[2;36m           \u001b[0m           use_lens=True                                                                                \n",
       "\u001b[2;36m           \u001b[0m         )                                                                                              \n"
      ]
     },
     "metadata": {},
     "output_type": "display_data"
    },
    {
     "data": {
      "text/html": [
       "<pre style=\"white-space:pre;overflow-x:auto;line-height:normal;font-family:Menlo,'DejaVu Sans Mono',consolas,'Courier New',monospace\"><span style=\"color: #7fbfbf; text-decoration-color: #7fbfbf\">           </span><span style=\"color: #000080; text-decoration-color: #000080\">INFO    </span> Training dataset: 5 merged bags (from 5 possible slides)                                       \n",
       "</pre>\n"
      ],
      "text/plain": [
       "\u001b[2;36m          \u001b[0m\u001b[2;36m \u001b[0m\u001b[34mINFO    \u001b[0m Training dataset: 5 merged bags (from 5 possible slides)                                       \n"
      ]
     },
     "metadata": {},
     "output_type": "display_data"
    },
    {
     "data": {
      "text/html": [
       "<pre style=\"white-space:pre;overflow-x:auto;line-height:normal;font-family:Menlo,'DejaVu Sans Mono',consolas,'Courier New',monospace\"><span style=\"color: #7fbfbf; text-decoration-color: #7fbfbf\">           </span><span style=\"color: #000080; text-decoration-color: #000080\">INFO    </span> Validation dataset: 5 merged bags (from 5 possible slides)                                     \n",
       "</pre>\n"
      ],
      "text/plain": [
       "\u001b[2;36m          \u001b[0m\u001b[2;36m \u001b[0m\u001b[34mINFO    \u001b[0m Validation dataset: 5 merged bags (from 5 possible slides)                                     \n"
      ]
     },
     "metadata": {},
     "output_type": "display_data"
    },
    {
     "data": {
      "text/html": [
       "<pre style=\"white-space:pre;overflow-x:auto;line-height:normal;font-family:Menlo,'DejaVu Sans Mono',consolas,'Courier New',monospace\"><span style=\"color: #7fbfbf; text-decoration-color: #7fbfbf\">           </span><span style=\"color: #000080; text-decoration-color: #000080\">INFO    </span> Building model <span style=\"font-weight: bold\">Attention_MIL</span> (n_in=768, n_out=2)                                               \n",
       "</pre>\n"
      ],
      "text/plain": [
       "\u001b[2;36m          \u001b[0m\u001b[2;36m \u001b[0m\u001b[34mINFO    \u001b[0m Building model \u001b[1mAttention_MIL\u001b[0m (n_in=768, n_out=2)                                               \n"
      ]
     },
     "metadata": {},
     "output_type": "display_data"
    },
    {
     "data": {
      "text/html": [
       "\n",
       "<style>\n",
       "    /* Turns off some styling */\n",
       "    progress {\n",
       "        /* gets rid of default border in Firefox and Opera. */\n",
       "        border: none;\n",
       "        /* Needs to be in here for Safari polyfill so background images work as expected. */\n",
       "        background-size: auto;\n",
       "    }\n",
       "    progress:not([value]), progress:not([value])::-webkit-progress-bar {\n",
       "        background: repeating-linear-gradient(45deg, #7e7e7e, #7e7e7e 10px, #5c5c5c 10px, #5c5c5c 20px);\n",
       "    }\n",
       "    .progress-bar-interrupted, .progress-bar-interrupted::-webkit-progress-bar {\n",
       "        background: #F44336;\n",
       "    }\n",
       "</style>\n"
      ],
      "text/plain": [
       "<IPython.core.display.HTML object>"
      ]
     },
     "metadata": {},
     "output_type": "display_data"
    },
    {
     "data": {
      "text/html": [],
      "text/plain": [
       "<IPython.core.display.HTML object>"
      ]
     },
     "metadata": {},
     "output_type": "display_data"
    },
    {
     "data": {
      "text/html": [
       "<pre style=\"white-space:pre;overflow-x:auto;line-height:normal;font-family:Menlo,'DejaVu Sans Mono',consolas,'Courier New',monospace\"><span style=\"color: #7fbfbf; text-decoration-color: #7fbfbf\">[10:38:50] </span><span style=\"color: #000080; text-decoration-color: #000080\">INFO    </span> Using auto-detected learning rate: 0.004365158267319202                                        \n",
       "</pre>\n"
      ],
      "text/plain": [
       "\u001b[2;36m[10:38:50]\u001b[0m\u001b[2;36m \u001b[0m\u001b[34mINFO    \u001b[0m Using auto-detected learning rate: 0.004365158267319202                                        \n"
      ]
     },
     "metadata": {},
     "output_type": "display_data"
    },
    {
     "data": {
      "text/html": [
       "\n",
       "<style>\n",
       "    /* Turns off some styling */\n",
       "    progress {\n",
       "        /* gets rid of default border in Firefox and Opera. */\n",
       "        border: none;\n",
       "        /* Needs to be in here for Safari polyfill so background images work as expected. */\n",
       "        background-size: auto;\n",
       "    }\n",
       "    progress:not([value]), progress:not([value])::-webkit-progress-bar {\n",
       "        background: repeating-linear-gradient(45deg, #7e7e7e, #7e7e7e 10px, #5c5c5c 10px, #5c5c5c 20px);\n",
       "    }\n",
       "    .progress-bar-interrupted, .progress-bar-interrupted::-webkit-progress-bar {\n",
       "        background: #F44336;\n",
       "    }\n",
       "</style>\n"
      ],
      "text/plain": [
       "<IPython.core.display.HTML object>"
      ]
     },
     "metadata": {},
     "output_type": "display_data"
    },
    {
     "data": {
      "text/html": [
       "<table border=\"1\" class=\"dataframe\">\n",
       "  <thead>\n",
       "    <tr style=\"text-align: left;\">\n",
       "      <th>epoch</th>\n",
       "      <th>train_loss</th>\n",
       "      <th>valid_loss</th>\n",
       "      <th>roc_auc_score</th>\n",
       "      <th>time</th>\n",
       "    </tr>\n",
       "  </thead>\n",
       "  <tbody>\n",
       "    <tr>\n",
       "      <td>0</td>\n",
       "      <td>0.368933</td>\n",
       "      <td>0.353699</td>\n",
       "      <td>0.666667</td>\n",
       "      <td>00:00</td>\n",
       "    </tr>\n",
       "    <tr>\n",
       "      <td>1</td>\n",
       "      <td>0.185689</td>\n",
       "      <td>0.340995</td>\n",
       "      <td>0.666667</td>\n",
       "      <td>00:00</td>\n",
       "    </tr>\n",
       "  </tbody>\n",
       "</table>"
      ],
      "text/plain": [
       "<IPython.core.display.HTML object>"
      ]
     },
     "metadata": {},
     "output_type": "display_data"
    },
    {
     "name": "stdout",
     "output_type": "stream",
     "text": [
      "Better model found at epoch 0 with valid_loss value: 0.35369935631752014.\n",
      "Better model found at epoch 1 with valid_loss value: 0.3409951627254486.\n"
     ]
    },
    {
     "data": {
      "text/html": [
       "<pre style=\"white-space:pre;overflow-x:auto;line-height:normal;font-family:Menlo,'DejaVu Sans Mono',consolas,'Courier New',monospace\"><span style=\"color: #7fbfbf; text-decoration-color: #7fbfbf\">[10:38:52] </span><span style=\"color: #000080; text-decoration-color: #000080\">INFO    </span> Predictions saved to                                                                           \n",
       "<span style=\"color: #7fbfbf; text-decoration-color: #7fbfbf\">           </span>         <span style=\"color: #008000; text-decoration-color: #008000\">/mnt/labshare/DL_OTHER/TEST_PROJECTS/TEST_PROJECT/mil/00016-ctranspath_attention_mil_fold0/pred</span>\n",
       "<span style=\"color: #7fbfbf; text-decoration-color: #7fbfbf\">           </span>         <span style=\"color: #008000; text-decoration-color: #008000\">ictions.parquet</span>                                                                                \n",
       "</pre>\n"
      ],
      "text/plain": [
       "\u001b[2;36m[10:38:52]\u001b[0m\u001b[2;36m \u001b[0m\u001b[34mINFO    \u001b[0m Predictions saved to                                                                           \n",
       "\u001b[2;36m           \u001b[0m         \u001b[32m/mnt/labshare/DL_OTHER/TEST_PROJECTS/TEST_PROJECT/mil/00016-ctranspath_attention_mil_fold0/pred\u001b[0m\n",
       "\u001b[2;36m           \u001b[0m         \u001b[32mictions.parquet\u001b[0m                                                                                \n"
      ]
     },
     "metadata": {},
     "output_type": "display_data"
    },
    {
     "data": {
      "text/html": [
       "<pre style=\"white-space:pre;overflow-x:auto;line-height:normal;font-family:Menlo,'DejaVu Sans Mono',consolas,'Courier New',monospace\"><span style=\"color: #7fbfbf; text-decoration-color: #7fbfbf\">           </span><span style=\"color: #000080; text-decoration-color: #000080\">INFO    </span> Validation metrics for outcome <span style=\"color: #008000; text-decoration-color: #008000\">cohort</span>:                                                         \n",
       "</pre>\n"
      ],
      "text/plain": [
       "\u001b[2;36m          \u001b[0m\u001b[2;36m \u001b[0m\u001b[34mINFO    \u001b[0m Validation metrics for outcome \u001b[32mcohort\u001b[0m:                                                         \n"
      ]
     },
     "metadata": {},
     "output_type": "display_data"
    },
    {
     "data": {
      "text/html": [
       "<pre style=\"white-space:pre;overflow-x:auto;line-height:normal;font-family:Menlo,'DejaVu Sans Mono',consolas,'Courier New',monospace\"><span style=\"color: #7fbfbf; text-decoration-color: #7fbfbf\">           </span><span style=\"color: #000080; text-decoration-color: #000080\">INFO    </span> slide-level AUC (cat # 0): 0.667 AP: 0.806 (opt. threshold: 0.478)                             \n",
       "</pre>\n"
      ],
      "text/plain": [
       "\u001b[2;36m          \u001b[0m\u001b[2;36m \u001b[0m\u001b[34mINFO    \u001b[0m slide-level AUC (cat # 0): 0.667 AP: 0.806 (opt. threshold: 0.478)                             \n"
      ]
     },
     "metadata": {},
     "output_type": "display_data"
    },
    {
     "data": {
      "text/html": [
       "<pre style=\"white-space:pre;overflow-x:auto;line-height:normal;font-family:Menlo,'DejaVu Sans Mono',consolas,'Courier New',monospace\"><span style=\"color: #7fbfbf; text-decoration-color: #7fbfbf\">           </span><span style=\"color: #000080; text-decoration-color: #000080\">INFO    </span> slide-level AUC (cat # 1): 0.667 AP: 0.750 (opt. threshold: 0.546)                             \n",
       "</pre>\n"
      ],
      "text/plain": [
       "\u001b[2;36m          \u001b[0m\u001b[2;36m \u001b[0m\u001b[34mINFO    \u001b[0m slide-level AUC (cat # 1): 0.667 AP: 0.750 (opt. threshold: 0.546)                             \n"
      ]
     },
     "metadata": {},
     "output_type": "display_data"
    },
    {
     "data": {
      "text/html": [
       "<pre style=\"white-space:pre;overflow-x:auto;line-height:normal;font-family:Menlo,'DejaVu Sans Mono',consolas,'Courier New',monospace\"><span style=\"color: #7fbfbf; text-decoration-color: #7fbfbf\">           </span><span style=\"color: #000080; text-decoration-color: #000080\">INFO    </span> Category 0 acc: 66.7% (2/3)                                                                    \n",
       "</pre>\n"
      ],
      "text/plain": [
       "\u001b[2;36m          \u001b[0m\u001b[2;36m \u001b[0m\u001b[34mINFO    \u001b[0m Category 0 acc: 66.7% (2/3)                                                                    \n"
      ]
     },
     "metadata": {},
     "output_type": "display_data"
    },
    {
     "data": {
      "text/html": [
       "<pre style=\"white-space:pre;overflow-x:auto;line-height:normal;font-family:Menlo,'DejaVu Sans Mono',consolas,'Courier New',monospace\"><span style=\"color: #7fbfbf; text-decoration-color: #7fbfbf\">           </span><span style=\"color: #000080; text-decoration-color: #000080\">INFO    </span> Category 1 acc: 50.0% (1/2)                                                                    \n",
       "</pre>\n"
      ],
      "text/plain": [
       "\u001b[2;36m          \u001b[0m\u001b[2;36m \u001b[0m\u001b[34mINFO    \u001b[0m Category 1 acc: 50.0% (1/2)                                                                    \n"
      ]
     },
     "metadata": {},
     "output_type": "display_data"
    },
    {
     "data": {
      "text/html": [
       "<pre style=\"white-space:pre;overflow-x:auto;line-height:normal;font-family:Menlo,'DejaVu Sans Mono',consolas,'Courier New',monospace\"><span style=\"color: #7fbfbf; text-decoration-color: #7fbfbf\">           </span><span style=\"color: #000080; text-decoration-color: #000080\">INFO    </span> Attention scores exported to                                                                   \n",
       "<span style=\"color: #7fbfbf; text-decoration-color: #7fbfbf\">           </span>         <span style=\"color: #008000; text-decoration-color: #008000\">/mnt/labshare/DL_OTHER/TEST_PROJECTS/TEST_PROJECT/mil/00016-ctranspath_attention_mil_fold0/atte</span>\n",
       "<span style=\"color: #7fbfbf; text-decoration-color: #7fbfbf\">           </span>         <span style=\"color: #008000; text-decoration-color: #008000\">ntion/TCGA-49-4487-01Z-00-DX1.3a3a0720-463c-430e-849b-e2f8991bdfa5_att.npz</span>                     \n",
       "</pre>\n"
      ],
      "text/plain": [
       "\u001b[2;36m          \u001b[0m\u001b[2;36m \u001b[0m\u001b[34mINFO    \u001b[0m Attention scores exported to                                                                   \n",
       "\u001b[2;36m           \u001b[0m         \u001b[32m/mnt/labshare/DL_OTHER/TEST_PROJECTS/TEST_PROJECT/mil/00016-ctranspath_attention_mil_fold0/atte\u001b[0m\n",
       "\u001b[2;36m           \u001b[0m         \u001b[32mntion/TCGA-49-4487-01Z-00-DX1.3a3a0720-463c-430e-849b-e2f8991bdfa5_att.npz\u001b[0m                     \n"
      ]
     },
     "metadata": {},
     "output_type": "display_data"
    },
    {
     "data": {
      "text/html": [
       "<pre style=\"white-space:pre;overflow-x:auto;line-height:normal;font-family:Menlo,'DejaVu Sans Mono',consolas,'Courier New',monospace\"><span style=\"color: #7fbfbf; text-decoration-color: #7fbfbf\">           </span><span style=\"color: #000080; text-decoration-color: #000080\">INFO    </span> Training FastAI MIL model with config:                                                         \n",
       "</pre>\n"
      ],
      "text/plain": [
       "\u001b[2;36m          \u001b[0m\u001b[2;36m \u001b[0m\u001b[34mINFO    \u001b[0m Training FastAI MIL model with config:                                                         \n"
      ]
     },
     "metadata": {},
     "output_type": "display_data"
    },
    {
     "data": {
      "text/html": [
       "<pre style=\"white-space:pre;overflow-x:auto;line-height:normal;font-family:Menlo,'DejaVu Sans Mono',consolas,'Courier New',monospace\"><span style=\"color: #7fbfbf; text-decoration-color: #7fbfbf\">           </span><span style=\"color: #000080; text-decoration-color: #000080\">INFO    </span> TrainerConfig(                                                                                 \n",
       "<span style=\"color: #7fbfbf; text-decoration-color: #7fbfbf\">           </span>           lr=None                                                                                      \n",
       "<span style=\"color: #7fbfbf; text-decoration-color: #7fbfbf\">           </span>           wd=1e-05                                                                                     \n",
       "<span style=\"color: #7fbfbf; text-decoration-color: #7fbfbf\">           </span>           bag_size=4                                                                                   \n",
       "<span style=\"color: #7fbfbf; text-decoration-color: #7fbfbf\">           </span>           max_val_bag_size=None                                                                        \n",
       "<span style=\"color: #7fbfbf; text-decoration-color: #7fbfbf\">           </span>           fit_one_cycle=True                                                                           \n",
       "<span style=\"color: #7fbfbf; text-decoration-color: #7fbfbf\">           </span>           epochs=2                                                                                     \n",
       "<span style=\"color: #7fbfbf; text-decoration-color: #7fbfbf\">           </span>           batch_size=2                                                                                 \n",
       "<span style=\"color: #7fbfbf; text-decoration-color: #7fbfbf\">           </span>           drop_last=True                                                                               \n",
       "<span style=\"color: #7fbfbf; text-decoration-color: #7fbfbf\">           </span>           save_monitor='valid_loss'                                                                    \n",
       "<span style=\"color: #7fbfbf; text-decoration-color: #7fbfbf\">           </span>           weighted_loss=True                                                                           \n",
       "<span style=\"color: #7fbfbf; text-decoration-color: #7fbfbf\">           </span>           model='attention_mil'                                                                        \n",
       "<span style=\"color: #7fbfbf; text-decoration-color: #7fbfbf\">           </span>           model_kwargs=None                                                                            \n",
       "<span style=\"color: #7fbfbf; text-decoration-color: #7fbfbf\">           </span>           loss='cross_entropy'                                                                         \n",
       "<span style=\"color: #7fbfbf; text-decoration-color: #7fbfbf\">           </span>           use_lens=True                                                                                \n",
       "<span style=\"color: #7fbfbf; text-decoration-color: #7fbfbf\">           </span>         )                                                                                              \n",
       "</pre>\n"
      ],
      "text/plain": [
       "\u001b[2;36m          \u001b[0m\u001b[2;36m \u001b[0m\u001b[34mINFO    \u001b[0m TrainerConfig(                                                                                 \n",
       "\u001b[2;36m           \u001b[0m           lr=None                                                                                      \n",
       "\u001b[2;36m           \u001b[0m           wd=1e-05                                                                                     \n",
       "\u001b[2;36m           \u001b[0m           bag_size=4                                                                                   \n",
       "\u001b[2;36m           \u001b[0m           max_val_bag_size=None                                                                        \n",
       "\u001b[2;36m           \u001b[0m           fit_one_cycle=True                                                                           \n",
       "\u001b[2;36m           \u001b[0m           epochs=2                                                                                     \n",
       "\u001b[2;36m           \u001b[0m           batch_size=2                                                                                 \n",
       "\u001b[2;36m           \u001b[0m           drop_last=True                                                                               \n",
       "\u001b[2;36m           \u001b[0m           save_monitor='valid_loss'                                                                    \n",
       "\u001b[2;36m           \u001b[0m           weighted_loss=True                                                                           \n",
       "\u001b[2;36m           \u001b[0m           model='attention_mil'                                                                        \n",
       "\u001b[2;36m           \u001b[0m           model_kwargs=None                                                                            \n",
       "\u001b[2;36m           \u001b[0m           loss='cross_entropy'                                                                         \n",
       "\u001b[2;36m           \u001b[0m           use_lens=True                                                                                \n",
       "\u001b[2;36m           \u001b[0m         )                                                                                              \n"
      ]
     },
     "metadata": {},
     "output_type": "display_data"
    },
    {
     "data": {
      "text/html": [
       "<pre style=\"white-space:pre;overflow-x:auto;line-height:normal;font-family:Menlo,'DejaVu Sans Mono',consolas,'Courier New',monospace\"><span style=\"color: #7fbfbf; text-decoration-color: #7fbfbf\">           </span><span style=\"color: #000080; text-decoration-color: #000080\">INFO    </span> Training dataset: 5 merged bags (from 5 possible slides)                                       \n",
       "</pre>\n"
      ],
      "text/plain": [
       "\u001b[2;36m          \u001b[0m\u001b[2;36m \u001b[0m\u001b[34mINFO    \u001b[0m Training dataset: 5 merged bags (from 5 possible slides)                                       \n"
      ]
     },
     "metadata": {},
     "output_type": "display_data"
    },
    {
     "data": {
      "text/html": [
       "<pre style=\"white-space:pre;overflow-x:auto;line-height:normal;font-family:Menlo,'DejaVu Sans Mono',consolas,'Courier New',monospace\"><span style=\"color: #7fbfbf; text-decoration-color: #7fbfbf\">           </span><span style=\"color: #000080; text-decoration-color: #000080\">INFO    </span> Validation dataset: 5 merged bags (from 5 possible slides)                                     \n",
       "</pre>\n"
      ],
      "text/plain": [
       "\u001b[2;36m          \u001b[0m\u001b[2;36m \u001b[0m\u001b[34mINFO    \u001b[0m Validation dataset: 5 merged bags (from 5 possible slides)                                     \n"
      ]
     },
     "metadata": {},
     "output_type": "display_data"
    },
    {
     "data": {
      "text/html": [
       "<pre style=\"white-space:pre;overflow-x:auto;line-height:normal;font-family:Menlo,'DejaVu Sans Mono',consolas,'Courier New',monospace\"><span style=\"color: #7fbfbf; text-decoration-color: #7fbfbf\">           </span><span style=\"color: #000080; text-decoration-color: #000080\">INFO    </span> Building model <span style=\"font-weight: bold\">Attention_MIL</span> (n_in=768, n_out=2)                                               \n",
       "</pre>\n"
      ],
      "text/plain": [
       "\u001b[2;36m          \u001b[0m\u001b[2;36m \u001b[0m\u001b[34mINFO    \u001b[0m Building model \u001b[1mAttention_MIL\u001b[0m (n_in=768, n_out=2)                                               \n"
      ]
     },
     "metadata": {},
     "output_type": "display_data"
    },
    {
     "data": {
      "text/html": [
       "\n",
       "<style>\n",
       "    /* Turns off some styling */\n",
       "    progress {\n",
       "        /* gets rid of default border in Firefox and Opera. */\n",
       "        border: none;\n",
       "        /* Needs to be in here for Safari polyfill so background images work as expected. */\n",
       "        background-size: auto;\n",
       "    }\n",
       "    progress:not([value]), progress:not([value])::-webkit-progress-bar {\n",
       "        background: repeating-linear-gradient(45deg, #7e7e7e, #7e7e7e 10px, #5c5c5c 10px, #5c5c5c 20px);\n",
       "    }\n",
       "    .progress-bar-interrupted, .progress-bar-interrupted::-webkit-progress-bar {\n",
       "        background: #F44336;\n",
       "    }\n",
       "</style>\n"
      ],
      "text/plain": [
       "<IPython.core.display.HTML object>"
      ]
     },
     "metadata": {},
     "output_type": "display_data"
    },
    {
     "data": {
      "text/html": [],
      "text/plain": [
       "<IPython.core.display.HTML object>"
      ]
     },
     "metadata": {},
     "output_type": "display_data"
    },
    {
     "data": {
      "text/html": [
       "<pre style=\"white-space:pre;overflow-x:auto;line-height:normal;font-family:Menlo,'DejaVu Sans Mono',consolas,'Courier New',monospace\"><span style=\"color: #7fbfbf; text-decoration-color: #7fbfbf\">[10:39:11] </span><span style=\"color: #000080; text-decoration-color: #000080\">INFO    </span> Using auto-detected learning rate: 0.005248074419796467                                        \n",
       "</pre>\n"
      ],
      "text/plain": [
       "\u001b[2;36m[10:39:11]\u001b[0m\u001b[2;36m \u001b[0m\u001b[34mINFO    \u001b[0m Using auto-detected learning rate: 0.005248074419796467                                        \n"
      ]
     },
     "metadata": {},
     "output_type": "display_data"
    },
    {
     "data": {
      "text/html": [
       "\n",
       "<style>\n",
       "    /* Turns off some styling */\n",
       "    progress {\n",
       "        /* gets rid of default border in Firefox and Opera. */\n",
       "        border: none;\n",
       "        /* Needs to be in here for Safari polyfill so background images work as expected. */\n",
       "        background-size: auto;\n",
       "    }\n",
       "    progress:not([value]), progress:not([value])::-webkit-progress-bar {\n",
       "        background: repeating-linear-gradient(45deg, #7e7e7e, #7e7e7e 10px, #5c5c5c 10px, #5c5c5c 20px);\n",
       "    }\n",
       "    .progress-bar-interrupted, .progress-bar-interrupted::-webkit-progress-bar {\n",
       "        background: #F44336;\n",
       "    }\n",
       "</style>\n"
      ],
      "text/plain": [
       "<IPython.core.display.HTML object>"
      ]
     },
     "metadata": {},
     "output_type": "display_data"
    },
    {
     "data": {
      "text/html": [
       "<table border=\"1\" class=\"dataframe\">\n",
       "  <thead>\n",
       "    <tr style=\"text-align: left;\">\n",
       "      <th>epoch</th>\n",
       "      <th>train_loss</th>\n",
       "      <th>valid_loss</th>\n",
       "      <th>roc_auc_score</th>\n",
       "      <th>time</th>\n",
       "    </tr>\n",
       "  </thead>\n",
       "  <tbody>\n",
       "    <tr>\n",
       "      <td>0</td>\n",
       "      <td>0.376723</td>\n",
       "      <td>0.351969</td>\n",
       "      <td>0.666667</td>\n",
       "      <td>00:00</td>\n",
       "    </tr>\n",
       "    <tr>\n",
       "      <td>1</td>\n",
       "      <td>0.287166</td>\n",
       "      <td>0.343922</td>\n",
       "      <td>0.333333</td>\n",
       "      <td>00:00</td>\n",
       "    </tr>\n",
       "  </tbody>\n",
       "</table>"
      ],
      "text/plain": [
       "<IPython.core.display.HTML object>"
      ]
     },
     "metadata": {},
     "output_type": "display_data"
    },
    {
     "name": "stdout",
     "output_type": "stream",
     "text": [
      "Better model found at epoch 0 with valid_loss value: 0.3519689738750458.\n",
      "Better model found at epoch 1 with valid_loss value: 0.343921959400177.\n"
     ]
    },
    {
     "data": {
      "text/html": [
       "<pre style=\"white-space:pre;overflow-x:auto;line-height:normal;font-family:Menlo,'DejaVu Sans Mono',consolas,'Courier New',monospace\"><span style=\"color: #7fbfbf; text-decoration-color: #7fbfbf\">[10:39:13] </span><span style=\"color: #000080; text-decoration-color: #000080\">INFO    </span> Predictions saved to                                                                           \n",
       "<span style=\"color: #7fbfbf; text-decoration-color: #7fbfbf\">           </span>         <span style=\"color: #008000; text-decoration-color: #008000\">/mnt/labshare/DL_OTHER/TEST_PROJECTS/TEST_PROJECT/mil/00017-ctranspath_attention_mil_fold1/pred</span>\n",
       "<span style=\"color: #7fbfbf; text-decoration-color: #7fbfbf\">           </span>         <span style=\"color: #008000; text-decoration-color: #008000\">ictions.parquet</span>                                                                                \n",
       "</pre>\n"
      ],
      "text/plain": [
       "\u001b[2;36m[10:39:13]\u001b[0m\u001b[2;36m \u001b[0m\u001b[34mINFO    \u001b[0m Predictions saved to                                                                           \n",
       "\u001b[2;36m           \u001b[0m         \u001b[32m/mnt/labshare/DL_OTHER/TEST_PROJECTS/TEST_PROJECT/mil/00017-ctranspath_attention_mil_fold1/pred\u001b[0m\n",
       "\u001b[2;36m           \u001b[0m         \u001b[32mictions.parquet\u001b[0m                                                                                \n"
      ]
     },
     "metadata": {},
     "output_type": "display_data"
    },
    {
     "data": {
      "text/html": [
       "<pre style=\"white-space:pre;overflow-x:auto;line-height:normal;font-family:Menlo,'DejaVu Sans Mono',consolas,'Courier New',monospace\"><span style=\"color: #7fbfbf; text-decoration-color: #7fbfbf\">           </span><span style=\"color: #000080; text-decoration-color: #000080\">INFO    </span> Validation metrics for outcome <span style=\"color: #008000; text-decoration-color: #008000\">cohort</span>:                                                         \n",
       "</pre>\n"
      ],
      "text/plain": [
       "\u001b[2;36m          \u001b[0m\u001b[2;36m \u001b[0m\u001b[34mINFO    \u001b[0m Validation metrics for outcome \u001b[32mcohort\u001b[0m:                                                         \n"
      ]
     },
     "metadata": {},
     "output_type": "display_data"
    },
    {
     "data": {
      "text/html": [
       "<pre style=\"white-space:pre;overflow-x:auto;line-height:normal;font-family:Menlo,'DejaVu Sans Mono',consolas,'Courier New',monospace\"><span style=\"color: #7fbfbf; text-decoration-color: #7fbfbf\">[10:39:14] </span><span style=\"color: #000080; text-decoration-color: #000080\">INFO    </span> slide-level AUC (cat # 0): 0.333 AP: 0.450 (opt. threshold: 0.457)                             \n",
       "</pre>\n"
      ],
      "text/plain": [
       "\u001b[2;36m[10:39:14]\u001b[0m\u001b[2;36m \u001b[0m\u001b[34mINFO    \u001b[0m slide-level AUC (cat # 0): 0.333 AP: 0.450 (opt. threshold: 0.457)                             \n"
      ]
     },
     "metadata": {},
     "output_type": "display_data"
    },
    {
     "data": {
      "text/html": [
       "<pre style=\"white-space:pre;overflow-x:auto;line-height:normal;font-family:Menlo,'DejaVu Sans Mono',consolas,'Courier New',monospace\"><span style=\"color: #7fbfbf; text-decoration-color: #7fbfbf\">           </span><span style=\"color: #000080; text-decoration-color: #000080\">INFO    </span> slide-level AUC (cat # 1): 0.333 AP: 0.589 (opt. threshold: 0.574)                             \n",
       "</pre>\n"
      ],
      "text/plain": [
       "\u001b[2;36m          \u001b[0m\u001b[2;36m \u001b[0m\u001b[34mINFO    \u001b[0m slide-level AUC (cat # 1): 0.333 AP: 0.589 (opt. threshold: 0.574)                             \n"
      ]
     },
     "metadata": {},
     "output_type": "display_data"
    },
    {
     "data": {
      "text/html": [
       "<pre style=\"white-space:pre;overflow-x:auto;line-height:normal;font-family:Menlo,'DejaVu Sans Mono',consolas,'Courier New',monospace\"><span style=\"color: #7fbfbf; text-decoration-color: #7fbfbf\">           </span><span style=\"color: #000080; text-decoration-color: #000080\">INFO    </span> Category 0 acc: 0.0% (0/2)                                                                     \n",
       "</pre>\n"
      ],
      "text/plain": [
       "\u001b[2;36m          \u001b[0m\u001b[2;36m \u001b[0m\u001b[34mINFO    \u001b[0m Category 0 acc: 0.0% (0/2)                                                                     \n"
      ]
     },
     "metadata": {},
     "output_type": "display_data"
    },
    {
     "data": {
      "text/html": [
       "<pre style=\"white-space:pre;overflow-x:auto;line-height:normal;font-family:Menlo,'DejaVu Sans Mono',consolas,'Courier New',monospace\"><span style=\"color: #7fbfbf; text-decoration-color: #7fbfbf\">           </span><span style=\"color: #000080; text-decoration-color: #000080\">INFO    </span> Category 1 acc: 100.0% (3/3)                                                                   \n",
       "</pre>\n"
      ],
      "text/plain": [
       "\u001b[2;36m          \u001b[0m\u001b[2;36m \u001b[0m\u001b[34mINFO    \u001b[0m Category 1 acc: 100.0% (3/3)                                                                   \n"
      ]
     },
     "metadata": {},
     "output_type": "display_data"
    },
    {
     "data": {
      "text/html": [
       "<pre style=\"white-space:pre;overflow-x:auto;line-height:normal;font-family:Menlo,'DejaVu Sans Mono',consolas,'Courier New',monospace\"><span style=\"color: #7fbfbf; text-decoration-color: #7fbfbf\">           </span><span style=\"color: #000080; text-decoration-color: #000080\">INFO    </span> Attention scores exported to                                                                   \n",
       "<span style=\"color: #7fbfbf; text-decoration-color: #7fbfbf\">           </span>         <span style=\"color: #008000; text-decoration-color: #008000\">/mnt/labshare/DL_OTHER/TEST_PROJECTS/TEST_PROJECT/mil/00017-ctranspath_attention_mil_fold1/atte</span>\n",
       "<span style=\"color: #7fbfbf; text-decoration-color: #7fbfbf\">           </span>         <span style=\"color: #008000; text-decoration-color: #008000\">ntion/TCGA-21-5782-01Z-00-DX1.E0C856C0-9055-4437-9393-695D699E4F57_att.npz</span>                     \n",
       "</pre>\n"
      ],
      "text/plain": [
       "\u001b[2;36m          \u001b[0m\u001b[2;36m \u001b[0m\u001b[34mINFO    \u001b[0m Attention scores exported to                                                                   \n",
       "\u001b[2;36m           \u001b[0m         \u001b[32m/mnt/labshare/DL_OTHER/TEST_PROJECTS/TEST_PROJECT/mil/00017-ctranspath_attention_mil_fold1/atte\u001b[0m\n",
       "\u001b[2;36m           \u001b[0m         \u001b[32mntion/TCGA-21-5782-01Z-00-DX1.E0C856C0-9055-4437-9393-695D699E4F57_att.npz\u001b[0m                     \n"
      ]
     },
     "metadata": {},
     "output_type": "display_data"
    }
   ],
   "source": [
    "extractor = 'ctranspath'\n",
    "model = 'attention_mil'\n",
    "\n",
    "# k-fold cross-validation training\n",
    "config = mil_config(model, bag_size=4, batch_size=2, epochs=2)\n",
    "# FIXME: here bag_size, batch_size, and epochs are hardcoded to low values to \n",
    "#        make the tutorial run fast. Do not use these values.\n",
    "\n",
    "for i, (train, val) in enumerate(splits):\n",
    "    P.train_mil(\n",
    "        config=config,\n",
    "        exp_label=f'{extractor}_{model}_fold{i}',\n",
    "        outcomes='cohort',\n",
    "        train_dataset=train,\n",
    "        val_dataset=val,\n",
    "        bags=project_root + f'/features/{extractor}/torch'\n",
    "    )\n",
    "\n",
    "# FIXME: if you run this notebook you'll save many mil models at TEST_PROJECT/mil\n",
    "#        please remove them so we don't accumulate too many models in the project."
   ]
  },
  {
   "cell_type": "code",
   "execution_count": 5,
   "metadata": {},
   "outputs": [
    {
     "data": {
      "text/html": [
       "<pre style=\"white-space:pre;overflow-x:auto;line-height:normal;font-family:Menlo,'DejaVu Sans Mono',consolas,'Courier New',monospace\"><span style=\"color: #7fbfbf; text-decoration-color: #7fbfbf\">           </span><span style=\"color: #000080; text-decoration-color: #000080\">INFO    </span> Training FastAI MIL model with config:                                                         \n",
       "</pre>\n"
      ],
      "text/plain": [
       "\u001b[2;36m          \u001b[0m\u001b[2;36m \u001b[0m\u001b[34mINFO    \u001b[0m Training FastAI MIL model with config:                                                         \n"
      ]
     },
     "metadata": {},
     "output_type": "display_data"
    },
    {
     "data": {
      "text/html": [
       "<pre style=\"white-space:pre;overflow-x:auto;line-height:normal;font-family:Menlo,'DejaVu Sans Mono',consolas,'Courier New',monospace\"><span style=\"color: #7fbfbf; text-decoration-color: #7fbfbf\">           </span><span style=\"color: #000080; text-decoration-color: #000080\">INFO    </span> TrainerConfig(                                                                                 \n",
       "<span style=\"color: #7fbfbf; text-decoration-color: #7fbfbf\">           </span>           lr=None                                                                                      \n",
       "<span style=\"color: #7fbfbf; text-decoration-color: #7fbfbf\">           </span>           wd=1e-05                                                                                     \n",
       "<span style=\"color: #7fbfbf; text-decoration-color: #7fbfbf\">           </span>           bag_size=4                                                                                   \n",
       "<span style=\"color: #7fbfbf; text-decoration-color: #7fbfbf\">           </span>           max_val_bag_size=None                                                                        \n",
       "<span style=\"color: #7fbfbf; text-decoration-color: #7fbfbf\">           </span>           fit_one_cycle=True                                                                           \n",
       "<span style=\"color: #7fbfbf; text-decoration-color: #7fbfbf\">           </span>           epochs=2                                                                                     \n",
       "<span style=\"color: #7fbfbf; text-decoration-color: #7fbfbf\">           </span>           batch_size=2                                                                                 \n",
       "<span style=\"color: #7fbfbf; text-decoration-color: #7fbfbf\">           </span>           drop_last=True                                                                               \n",
       "<span style=\"color: #7fbfbf; text-decoration-color: #7fbfbf\">           </span>           save_monitor='valid_loss'                                                                    \n",
       "<span style=\"color: #7fbfbf; text-decoration-color: #7fbfbf\">           </span>           weighted_loss=True                                                                           \n",
       "<span style=\"color: #7fbfbf; text-decoration-color: #7fbfbf\">           </span>           model='attention_mil'                                                                        \n",
       "<span style=\"color: #7fbfbf; text-decoration-color: #7fbfbf\">           </span>           model_kwargs=None                                                                            \n",
       "<span style=\"color: #7fbfbf; text-decoration-color: #7fbfbf\">           </span>           loss='cross_entropy'                                                                         \n",
       "<span style=\"color: #7fbfbf; text-decoration-color: #7fbfbf\">           </span>           use_lens=True                                                                                \n",
       "<span style=\"color: #7fbfbf; text-decoration-color: #7fbfbf\">           </span>         )                                                                                              \n",
       "</pre>\n"
      ],
      "text/plain": [
       "\u001b[2;36m          \u001b[0m\u001b[2;36m \u001b[0m\u001b[34mINFO    \u001b[0m TrainerConfig(                                                                                 \n",
       "\u001b[2;36m           \u001b[0m           lr=None                                                                                      \n",
       "\u001b[2;36m           \u001b[0m           wd=1e-05                                                                                     \n",
       "\u001b[2;36m           \u001b[0m           bag_size=4                                                                                   \n",
       "\u001b[2;36m           \u001b[0m           max_val_bag_size=None                                                                        \n",
       "\u001b[2;36m           \u001b[0m           fit_one_cycle=True                                                                           \n",
       "\u001b[2;36m           \u001b[0m           epochs=2                                                                                     \n",
       "\u001b[2;36m           \u001b[0m           batch_size=2                                                                                 \n",
       "\u001b[2;36m           \u001b[0m           drop_last=True                                                                               \n",
       "\u001b[2;36m           \u001b[0m           save_monitor='valid_loss'                                                                    \n",
       "\u001b[2;36m           \u001b[0m           weighted_loss=True                                                                           \n",
       "\u001b[2;36m           \u001b[0m           model='attention_mil'                                                                        \n",
       "\u001b[2;36m           \u001b[0m           model_kwargs=None                                                                            \n",
       "\u001b[2;36m           \u001b[0m           loss='cross_entropy'                                                                         \n",
       "\u001b[2;36m           \u001b[0m           use_lens=True                                                                                \n",
       "\u001b[2;36m           \u001b[0m         )                                                                                              \n"
      ]
     },
     "metadata": {},
     "output_type": "display_data"
    },
    {
     "data": {
      "text/html": [
       "<pre style=\"white-space:pre;overflow-x:auto;line-height:normal;font-family:Menlo,'DejaVu Sans Mono',consolas,'Courier New',monospace\"><span style=\"color: #7fbfbf; text-decoration-color: #7fbfbf\">           </span><span style=\"color: #000080; text-decoration-color: #000080\">INFO    </span> Training dataset: 6 merged bags (from 6 possible slides)                                       \n",
       "</pre>\n"
      ],
      "text/plain": [
       "\u001b[2;36m          \u001b[0m\u001b[2;36m \u001b[0m\u001b[34mINFO    \u001b[0m Training dataset: 6 merged bags (from 6 possible slides)                                       \n"
      ]
     },
     "metadata": {},
     "output_type": "display_data"
    },
    {
     "data": {
      "text/html": [
       "<pre style=\"white-space:pre;overflow-x:auto;line-height:normal;font-family:Menlo,'DejaVu Sans Mono',consolas,'Courier New',monospace\"><span style=\"color: #7fbfbf; text-decoration-color: #7fbfbf\">           </span><span style=\"color: #000080; text-decoration-color: #000080\">INFO    </span> Validation dataset: 4 merged bags (from 4 possible slides)                                     \n",
       "</pre>\n"
      ],
      "text/plain": [
       "\u001b[2;36m          \u001b[0m\u001b[2;36m \u001b[0m\u001b[34mINFO    \u001b[0m Validation dataset: 4 merged bags (from 4 possible slides)                                     \n"
      ]
     },
     "metadata": {},
     "output_type": "display_data"
    },
    {
     "data": {
      "text/html": [
       "<pre style=\"white-space:pre;overflow-x:auto;line-height:normal;font-family:Menlo,'DejaVu Sans Mono',consolas,'Courier New',monospace\"><span style=\"color: #7fbfbf; text-decoration-color: #7fbfbf\">           </span><span style=\"color: #000080; text-decoration-color: #000080\">INFO    </span> Building model <span style=\"font-weight: bold\">Attention_MIL</span> (n_in=768, n_out=2)                                               \n",
       "</pre>\n"
      ],
      "text/plain": [
       "\u001b[2;36m          \u001b[0m\u001b[2;36m \u001b[0m\u001b[34mINFO    \u001b[0m Building model \u001b[1mAttention_MIL\u001b[0m (n_in=768, n_out=2)                                               \n"
      ]
     },
     "metadata": {},
     "output_type": "display_data"
    },
    {
     "data": {
      "text/html": [
       "\n",
       "<style>\n",
       "    /* Turns off some styling */\n",
       "    progress {\n",
       "        /* gets rid of default border in Firefox and Opera. */\n",
       "        border: none;\n",
       "        /* Needs to be in here for Safari polyfill so background images work as expected. */\n",
       "        background-size: auto;\n",
       "    }\n",
       "    progress:not([value]), progress:not([value])::-webkit-progress-bar {\n",
       "        background: repeating-linear-gradient(45deg, #7e7e7e, #7e7e7e 10px, #5c5c5c 10px, #5c5c5c 20px);\n",
       "    }\n",
       "    .progress-bar-interrupted, .progress-bar-interrupted::-webkit-progress-bar {\n",
       "        background: #F44336;\n",
       "    }\n",
       "</style>\n"
      ],
      "text/plain": [
       "<IPython.core.display.HTML object>"
      ]
     },
     "metadata": {},
     "output_type": "display_data"
    },
    {
     "data": {
      "text/html": [],
      "text/plain": [
       "<IPython.core.display.HTML object>"
      ]
     },
     "metadata": {},
     "output_type": "display_data"
    },
    {
     "data": {
      "text/html": [
       "<pre style=\"white-space:pre;overflow-x:auto;line-height:normal;font-family:Menlo,'DejaVu Sans Mono',consolas,'Courier New',monospace\"><span style=\"color: #7fbfbf; text-decoration-color: #7fbfbf\">[10:39:28] </span><span style=\"color: #000080; text-decoration-color: #000080\">INFO    </span> Using auto-detected learning rate: 0.015848932787775993                                        \n",
       "</pre>\n"
      ],
      "text/plain": [
       "\u001b[2;36m[10:39:28]\u001b[0m\u001b[2;36m \u001b[0m\u001b[34mINFO    \u001b[0m Using auto-detected learning rate: 0.015848932787775993                                        \n"
      ]
     },
     "metadata": {},
     "output_type": "display_data"
    },
    {
     "data": {
      "text/html": [
       "\n",
       "<style>\n",
       "    /* Turns off some styling */\n",
       "    progress {\n",
       "        /* gets rid of default border in Firefox and Opera. */\n",
       "        border: none;\n",
       "        /* Needs to be in here for Safari polyfill so background images work as expected. */\n",
       "        background-size: auto;\n",
       "    }\n",
       "    progress:not([value]), progress:not([value])::-webkit-progress-bar {\n",
       "        background: repeating-linear-gradient(45deg, #7e7e7e, #7e7e7e 10px, #5c5c5c 10px, #5c5c5c 20px);\n",
       "    }\n",
       "    .progress-bar-interrupted, .progress-bar-interrupted::-webkit-progress-bar {\n",
       "        background: #F44336;\n",
       "    }\n",
       "</style>\n"
      ],
      "text/plain": [
       "<IPython.core.display.HTML object>"
      ]
     },
     "metadata": {},
     "output_type": "display_data"
    },
    {
     "data": {
      "text/html": [
       "<table border=\"1\" class=\"dataframe\">\n",
       "  <thead>\n",
       "    <tr style=\"text-align: left;\">\n",
       "      <th>epoch</th>\n",
       "      <th>train_loss</th>\n",
       "      <th>valid_loss</th>\n",
       "      <th>roc_auc_score</th>\n",
       "      <th>time</th>\n",
       "    </tr>\n",
       "  </thead>\n",
       "  <tbody>\n",
       "    <tr>\n",
       "      <td>0</td>\n",
       "      <td>0.714222</td>\n",
       "      <td>0.489486</td>\n",
       "      <td>0.666667</td>\n",
       "      <td>00:00</td>\n",
       "    </tr>\n",
       "    <tr>\n",
       "      <td>1</td>\n",
       "      <td>0.522529</td>\n",
       "      <td>0.529432</td>\n",
       "      <td>0.333333</td>\n",
       "      <td>00:00</td>\n",
       "    </tr>\n",
       "  </tbody>\n",
       "</table>"
      ],
      "text/plain": [
       "<IPython.core.display.HTML object>"
      ]
     },
     "metadata": {},
     "output_type": "display_data"
    },
    {
     "name": "stdout",
     "output_type": "stream",
     "text": [
      "Better model found at epoch 0 with valid_loss value: 0.48948606848716736.\n"
     ]
    },
    {
     "data": {
      "text/html": [
       "<pre style=\"white-space:pre;overflow-x:auto;line-height:normal;font-family:Menlo,'DejaVu Sans Mono',consolas,'Courier New',monospace\"><span style=\"color: #7fbfbf; text-decoration-color: #7fbfbf\">[10:39:30] </span><span style=\"color: #000080; text-decoration-color: #000080\">INFO    </span> Predictions saved to                                                                           \n",
       "<span style=\"color: #7fbfbf; text-decoration-color: #7fbfbf\">           </span>         <span style=\"color: #008000; text-decoration-color: #008000\">/mnt/labshare/DL_OTHER/TEST_PROJECTS/TEST_PROJECT/mil/00018-ctranspath_attention_mil/prediction</span>\n",
       "<span style=\"color: #7fbfbf; text-decoration-color: #7fbfbf\">           </span>         <span style=\"color: #008000; text-decoration-color: #008000\">s.parquet</span>                                                                                      \n",
       "</pre>\n"
      ],
      "text/plain": [
       "\u001b[2;36m[10:39:30]\u001b[0m\u001b[2;36m \u001b[0m\u001b[34mINFO    \u001b[0m Predictions saved to                                                                           \n",
       "\u001b[2;36m           \u001b[0m         \u001b[32m/mnt/labshare/DL_OTHER/TEST_PROJECTS/TEST_PROJECT/mil/00018-ctranspath_attention_mil/prediction\u001b[0m\n",
       "\u001b[2;36m           \u001b[0m         \u001b[32ms.parquet\u001b[0m                                                                                      \n"
      ]
     },
     "metadata": {},
     "output_type": "display_data"
    },
    {
     "data": {
      "text/html": [
       "<pre style=\"white-space:pre;overflow-x:auto;line-height:normal;font-family:Menlo,'DejaVu Sans Mono',consolas,'Courier New',monospace\"><span style=\"color: #7fbfbf; text-decoration-color: #7fbfbf\">           </span><span style=\"color: #000080; text-decoration-color: #000080\">INFO    </span> Validation metrics for outcome <span style=\"color: #008000; text-decoration-color: #008000\">cohort</span>:                                                         \n",
       "</pre>\n"
      ],
      "text/plain": [
       "\u001b[2;36m          \u001b[0m\u001b[2;36m \u001b[0m\u001b[34mINFO    \u001b[0m Validation metrics for outcome \u001b[32mcohort\u001b[0m:                                                         \n"
      ]
     },
     "metadata": {},
     "output_type": "display_data"
    },
    {
     "data": {
      "text/html": [
       "<pre style=\"white-space:pre;overflow-x:auto;line-height:normal;font-family:Menlo,'DejaVu Sans Mono',consolas,'Courier New',monospace\"><span style=\"color: #7fbfbf; text-decoration-color: #7fbfbf\">           </span><span style=\"color: #000080; text-decoration-color: #000080\">INFO    </span> slide-level AUC (cat # 0): 0.667 AP: 0.917 (opt. threshold: 0.410)                             \n",
       "</pre>\n"
      ],
      "text/plain": [
       "\u001b[2;36m          \u001b[0m\u001b[2;36m \u001b[0m\u001b[34mINFO    \u001b[0m slide-level AUC (cat # 0): 0.667 AP: 0.917 (opt. threshold: 0.410)                             \n"
      ]
     },
     "metadata": {},
     "output_type": "display_data"
    },
    {
     "data": {
      "text/html": [
       "<pre style=\"white-space:pre;overflow-x:auto;line-height:normal;font-family:Menlo,'DejaVu Sans Mono',consolas,'Courier New',monospace\"><span style=\"color: #7fbfbf; text-decoration-color: #7fbfbf\">           </span><span style=\"color: #000080; text-decoration-color: #000080\">INFO    </span> slide-level AUC (cat # 1): 0.667 AP: 0.500 (opt. threshold: 0.591)                             \n",
       "</pre>\n"
      ],
      "text/plain": [
       "\u001b[2;36m          \u001b[0m\u001b[2;36m \u001b[0m\u001b[34mINFO    \u001b[0m slide-level AUC (cat # 1): 0.667 AP: 0.500 (opt. threshold: 0.591)                             \n"
      ]
     },
     "metadata": {},
     "output_type": "display_data"
    },
    {
     "data": {
      "text/html": [
       "<pre style=\"white-space:pre;overflow-x:auto;line-height:normal;font-family:Menlo,'DejaVu Sans Mono',consolas,'Courier New',monospace\"><span style=\"color: #7fbfbf; text-decoration-color: #7fbfbf\">           </span><span style=\"color: #000080; text-decoration-color: #000080\">INFO    </span> Category 0 acc: 0.0% (0/3)                                                                     \n",
       "</pre>\n"
      ],
      "text/plain": [
       "\u001b[2;36m          \u001b[0m\u001b[2;36m \u001b[0m\u001b[34mINFO    \u001b[0m Category 0 acc: 0.0% (0/3)                                                                     \n"
      ]
     },
     "metadata": {},
     "output_type": "display_data"
    },
    {
     "data": {
      "text/html": [
       "<pre style=\"white-space:pre;overflow-x:auto;line-height:normal;font-family:Menlo,'DejaVu Sans Mono',consolas,'Courier New',monospace\"><span style=\"color: #7fbfbf; text-decoration-color: #7fbfbf\">           </span><span style=\"color: #000080; text-decoration-color: #000080\">INFO    </span> Category 1 acc: 100.0% (1/1)                                                                   \n",
       "</pre>\n"
      ],
      "text/plain": [
       "\u001b[2;36m          \u001b[0m\u001b[2;36m \u001b[0m\u001b[34mINFO    \u001b[0m Category 1 acc: 100.0% (1/1)                                                                   \n"
      ]
     },
     "metadata": {},
     "output_type": "display_data"
    },
    {
     "data": {
      "text/html": [
       "<pre style=\"white-space:pre;overflow-x:auto;line-height:normal;font-family:Menlo,'DejaVu Sans Mono',consolas,'Courier New',monospace\"><span style=\"color: #7fbfbf; text-decoration-color: #7fbfbf\">           </span><span style=\"color: #000080; text-decoration-color: #000080\">INFO    </span> Attention scores exported to                                                                   \n",
       "<span style=\"color: #7fbfbf; text-decoration-color: #7fbfbf\">           </span>         <span style=\"color: #008000; text-decoration-color: #008000\">/mnt/labshare/DL_OTHER/TEST_PROJECTS/TEST_PROJECT/mil/00018-ctranspath_attention_mil/attention/</span>\n",
       "<span style=\"color: #7fbfbf; text-decoration-color: #7fbfbf\">           </span>         <span style=\"color: #008000; text-decoration-color: #008000\">TCGA-NC-A5HG-01Z-00-DX1.129E83E5-1C4D-4B31-8750-64D10A65267F_att.npz</span>                           \n",
       "</pre>\n"
      ],
      "text/plain": [
       "\u001b[2;36m          \u001b[0m\u001b[2;36m \u001b[0m\u001b[34mINFO    \u001b[0m Attention scores exported to                                                                   \n",
       "\u001b[2;36m           \u001b[0m         \u001b[32m/mnt/labshare/DL_OTHER/TEST_PROJECTS/TEST_PROJECT/mil/00018-ctranspath_attention_mil/attention/\u001b[0m\n",
       "\u001b[2;36m           \u001b[0m         \u001b[32mTCGA-NC-A5HG-01Z-00-DX1.129E83E5-1C4D-4B31-8750-64D10A65267F_att.npz\u001b[0m                           \n"
      ]
     },
     "metadata": {},
     "output_type": "display_data"
    },
    {
     "data": {
      "text/plain": [
       "<fastai.learner.Learner at 0x7f2bbb6dddf0>"
      ]
     },
     "execution_count": 5,
     "metadata": {},
     "output_type": "execute_result"
    }
   ],
   "source": [
    "P.train_mil(\n",
    "    config=config,\n",
    "    exp_label=f'{extractor}_{model}',\n",
    "    outcomes='cohort',\n",
    "    train_dataset=train_dataset,\n",
    "    val_dataset=val_dataset,\n",
    "    bags=project_root + f'/features/{extractor}/torch'\n",
    ")"
   ]
  },
  {
   "cell_type": "markdown",
   "metadata": {},
   "source": [
    "## Evaluating a MIL Model\n",
    "\n",
    "After training, it's important to evaluate the model's performance on a separate test set."
   ]
  },
  {
   "cell_type": "code",
   "execution_count": 6,
   "metadata": {},
   "outputs": [
    {
     "data": {
      "text/html": [
       "<pre style=\"white-space:pre;overflow-x:auto;line-height:normal;font-family:Menlo,'DejaVu Sans Mono',consolas,'Courier New',monospace\">/home/mattsacco/miniconda3/envs/sf/lib/python3.9/site-packages/rich/live.py:231: UserWarning: install \"ipywidgets\" \n",
       "for Jupyter support\n",
       "  warnings.warn('install \"ipywidgets\" for Jupyter support')\n",
       "</pre>\n"
      ],
      "text/plain": [
       "/home/mattsacco/miniconda3/envs/sf/lib/python3.9/site-packages/rich/live.py:231: UserWarning: install \"ipywidgets\" \n",
       "for Jupyter support\n",
       "  warnings.warn('install \"ipywidgets\" for Jupyter support')\n"
      ]
     },
     "metadata": {},
     "output_type": "display_data"
    },
    {
     "data": {
      "text/html": [
       "<pre style=\"white-space:pre;overflow-x:auto;line-height:normal;font-family:Menlo,'DejaVu Sans Mono',consolas,'Courier New',monospace\"></pre>\n"
      ],
      "text/plain": []
     },
     "metadata": {},
     "output_type": "display_data"
    },
    {
     "data": {
      "text/html": [
       "<pre style=\"white-space:pre;overflow-x:auto;line-height:normal;font-family:Menlo,'DejaVu Sans Mono',consolas,'Courier New',monospace\">\n",
       "</pre>\n"
      ],
      "text/plain": [
       "\n"
      ]
     },
     "metadata": {},
     "output_type": "display_data"
    },
    {
     "data": {
      "text/html": [
       "<pre style=\"white-space:pre;overflow-x:auto;line-height:normal;font-family:Menlo,'DejaVu Sans Mono',consolas,'Courier New',monospace\"><span style=\"color: #7fbfbf; text-decoration-color: #7fbfbf\">[10:39:31] </span><span style=\"color: #000080; text-decoration-color: #000080\">INFO    </span> Building model <span style=\"font-weight: bold\">Attention_MIL</span> (n_in=768, n_out=2)                                               \n",
       "</pre>\n"
      ],
      "text/plain": [
       "\u001b[2;36m[10:39:31]\u001b[0m\u001b[2;36m \u001b[0m\u001b[34mINFO    \u001b[0m Building model \u001b[1mAttention_MIL\u001b[0m (n_in=768, n_out=2)                                               \n"
      ]
     },
     "metadata": {},
     "output_type": "display_data"
    },
    {
     "data": {
      "text/html": [
       "<pre style=\"white-space:pre;overflow-x:auto;line-height:normal;font-family:Menlo,'DejaVu Sans Mono',consolas,'Courier New',monospace\"><span style=\"color: #7fbfbf; text-decoration-color: #7fbfbf\">           </span><span style=\"color: #000080; text-decoration-color: #000080\">INFO    </span> Loading model weights from                                                                     \n",
       "<span style=\"color: #7fbfbf; text-decoration-color: #7fbfbf\">           </span>         <span style=\"color: #008000; text-decoration-color: #008000\">/mnt/labshare/DL_OTHER/TEST_PROJECTS/TEST_PROJECT/mil/00000-ctranspath_attention_mil/models/bes</span>\n",
       "<span style=\"color: #7fbfbf; text-decoration-color: #7fbfbf\">           </span>         <span style=\"color: #008000; text-decoration-color: #008000\">t_valid.pth</span>                                                                                    \n",
       "</pre>\n"
      ],
      "text/plain": [
       "\u001b[2;36m          \u001b[0m\u001b[2;36m \u001b[0m\u001b[34mINFO    \u001b[0m Loading model weights from                                                                     \n",
       "\u001b[2;36m           \u001b[0m         \u001b[32m/mnt/labshare/DL_OTHER/TEST_PROJECTS/TEST_PROJECT/mil/00000-ctranspath_attention_mil/models/bes\u001b[0m\n",
       "\u001b[2;36m           \u001b[0m         \u001b[32mt_valid.pth\u001b[0m                                                                                    \n"
      ]
     },
     "metadata": {},
     "output_type": "display_data"
    },
    {
     "data": {
      "text/html": [
       "<pre style=\"white-space:pre;overflow-x:auto;line-height:normal;font-family:Menlo,'DejaVu Sans Mono',consolas,'Courier New',monospace\"><span style=\"color: #7fbfbf; text-decoration-color: #7fbfbf\">           </span><span style=\"color: #000080; text-decoration-color: #000080\">INFO    </span> Predictions saved to                                                                           \n",
       "<span style=\"color: #7fbfbf; text-decoration-color: #7fbfbf\">           </span>         <span style=\"color: #008000; text-decoration-color: #008000\">/mnt/labshare/DL_OTHER/TEST_PROJECTS/TEST_PROJECT/mil_eval/00001-attention_mil/predictions.parq</span>\n",
       "<span style=\"color: #7fbfbf; text-decoration-color: #7fbfbf\">           </span>         <span style=\"color: #008000; text-decoration-color: #008000\">uet</span>                                                                                            \n",
       "</pre>\n"
      ],
      "text/plain": [
       "\u001b[2;36m          \u001b[0m\u001b[2;36m \u001b[0m\u001b[34mINFO    \u001b[0m Predictions saved to                                                                           \n",
       "\u001b[2;36m           \u001b[0m         \u001b[32m/mnt/labshare/DL_OTHER/TEST_PROJECTS/TEST_PROJECT/mil_eval/00001-attention_mil/predictions.parq\u001b[0m\n",
       "\u001b[2;36m           \u001b[0m         \u001b[32muet\u001b[0m                                                                                            \n"
      ]
     },
     "metadata": {},
     "output_type": "display_data"
    },
    {
     "data": {
      "text/html": [
       "<pre style=\"white-space:pre;overflow-x:auto;line-height:normal;font-family:Menlo,'DejaVu Sans Mono',consolas,'Courier New',monospace\"><span style=\"color: #7fbfbf; text-decoration-color: #7fbfbf\">           </span><span style=\"color: #000080; text-decoration-color: #000080\">INFO    </span> Validation metrics for outcome <span style=\"color: #008000; text-decoration-color: #008000\">cohort</span>:                                                         \n",
       "</pre>\n"
      ],
      "text/plain": [
       "\u001b[2;36m          \u001b[0m\u001b[2;36m \u001b[0m\u001b[34mINFO    \u001b[0m Validation metrics for outcome \u001b[32mcohort\u001b[0m:                                                         \n"
      ]
     },
     "metadata": {},
     "output_type": "display_data"
    },
    {
     "data": {
      "text/html": [
       "<pre style=\"white-space:pre;overflow-x:auto;line-height:normal;font-family:Menlo,'DejaVu Sans Mono',consolas,'Courier New',monospace\"><span style=\"color: #7fbfbf; text-decoration-color: #7fbfbf\">           </span><span style=\"color: #000080; text-decoration-color: #000080\">INFO    </span> slide-level AUC (cat # 0): 1.000 AP: 1.000 (opt. threshold: 0.522)                             \n",
       "</pre>\n"
      ],
      "text/plain": [
       "\u001b[2;36m          \u001b[0m\u001b[2;36m \u001b[0m\u001b[34mINFO    \u001b[0m slide-level AUC (cat # 0): 1.000 AP: 1.000 (opt. threshold: 0.522)                             \n"
      ]
     },
     "metadata": {},
     "output_type": "display_data"
    },
    {
     "data": {
      "text/html": [
       "<pre style=\"white-space:pre;overflow-x:auto;line-height:normal;font-family:Menlo,'DejaVu Sans Mono',consolas,'Courier New',monospace\"><span style=\"color: #7fbfbf; text-decoration-color: #7fbfbf\">           </span><span style=\"color: #000080; text-decoration-color: #000080\">INFO    </span> slide-level AUC (cat # 1): 1.000 AP: 1.000 (opt. threshold: 0.480)                             \n",
       "</pre>\n"
      ],
      "text/plain": [
       "\u001b[2;36m          \u001b[0m\u001b[2;36m \u001b[0m\u001b[34mINFO    \u001b[0m slide-level AUC (cat # 1): 1.000 AP: 1.000 (opt. threshold: 0.480)                             \n"
      ]
     },
     "metadata": {},
     "output_type": "display_data"
    },
    {
     "data": {
      "text/html": [
       "<pre style=\"white-space:pre;overflow-x:auto;line-height:normal;font-family:Menlo,'DejaVu Sans Mono',consolas,'Courier New',monospace\"><span style=\"color: #7fbfbf; text-decoration-color: #7fbfbf\">           </span><span style=\"color: #000080; text-decoration-color: #000080\">INFO    </span> Category 0 acc: 100.0% (3/3)                                                                   \n",
       "</pre>\n"
      ],
      "text/plain": [
       "\u001b[2;36m          \u001b[0m\u001b[2;36m \u001b[0m\u001b[34mINFO    \u001b[0m Category 0 acc: 100.0% (3/3)                                                                   \n"
      ]
     },
     "metadata": {},
     "output_type": "display_data"
    },
    {
     "data": {
      "text/html": [
       "<pre style=\"white-space:pre;overflow-x:auto;line-height:normal;font-family:Menlo,'DejaVu Sans Mono',consolas,'Courier New',monospace\"><span style=\"color: #7fbfbf; text-decoration-color: #7fbfbf\">           </span><span style=\"color: #000080; text-decoration-color: #000080\">INFO    </span> Category 1 acc: 0.0% (0/1)                                                                     \n",
       "</pre>\n"
      ],
      "text/plain": [
       "\u001b[2;36m          \u001b[0m\u001b[2;36m \u001b[0m\u001b[34mINFO    \u001b[0m Category 1 acc: 0.0% (0/1)                                                                     \n"
      ]
     },
     "metadata": {},
     "output_type": "display_data"
    },
    {
     "data": {
      "text/html": [
       "<pre style=\"white-space:pre;overflow-x:auto;line-height:normal;font-family:Menlo,'DejaVu Sans Mono',consolas,'Courier New',monospace\"><span style=\"color: #7fbfbf; text-decoration-color: #7fbfbf\">           </span><span style=\"color: #000080; text-decoration-color: #000080\">INFO    </span> Attention scores exported to                                                                   \n",
       "<span style=\"color: #7fbfbf; text-decoration-color: #7fbfbf\">           </span>         <span style=\"color: #008000; text-decoration-color: #008000\">/mnt/labshare/DL_OTHER/TEST_PROJECTS/TEST_PROJECT/mil_eval/00001-attention_mil/attention/TCGA-N</span>\n",
       "<span style=\"color: #7fbfbf; text-decoration-color: #7fbfbf\">           </span>         <span style=\"color: #008000; text-decoration-color: #008000\">C-A5HG-01Z-00-DX1.129E83E5-1C4D-4B31-8750-64D10A65267F_att.npz</span>                                 \n",
       "</pre>\n"
      ],
      "text/plain": [
       "\u001b[2;36m          \u001b[0m\u001b[2;36m \u001b[0m\u001b[34mINFO    \u001b[0m Attention scores exported to                                                                   \n",
       "\u001b[2;36m           \u001b[0m         \u001b[32m/mnt/labshare/DL_OTHER/TEST_PROJECTS/TEST_PROJECT/mil_eval/00001-attention_mil/attention/TCGA-N\u001b[0m\n",
       "\u001b[2;36m           \u001b[0m         \u001b[32mC-A5HG-01Z-00-DX1.129E83E5-1C4D-4B31-8750-64D10A65267F_att.npz\u001b[0m                                 \n"
      ]
     },
     "metadata": {},
     "output_type": "display_data"
    }
   ],
   "source": [
    "test_dataset = P.dataset(tile_px=299, tile_um=302, filters={'dataset': 'val'})\n",
    "\n",
    "df = P.evaluate_mil(\n",
    "    '/mnt/labshare/DL_OTHER/TEST_PROJECTS/TEST_PROJECT/mil/00000-ctranspath_attention_mil',\n",
    "    outcomes='cohort',\n",
    "    dataset=test_dataset,\n",
    "    bags=project_root + f'/features/{extractor}/torch'\n",
    ")"
   ]
  },
  {
   "cell_type": "markdown",
   "metadata": {},
   "source": [
    "## Different MIL Model Architectures\n",
    "\n",
    "Slideflow supports various MIL architectures. Here are some examples:\n",
    "\n",
    "- Attention MIL\n",
    "- TransMIL\n",
    "- CLAM-SB\n",
    "\n",
    "Let's train models using different architectures:"
   ]
  },
  {
   "cell_type": "code",
   "execution_count": 7,
   "metadata": {},
   "outputs": [
    {
     "data": {
      "text/html": [
       "<pre style=\"white-space:pre;overflow-x:auto;line-height:normal;font-family:Menlo,'DejaVu Sans Mono',consolas,'Courier New',monospace\"><span style=\"color: #7fbfbf; text-decoration-color: #7fbfbf\">           </span><span style=\"color: #000080; text-decoration-color: #000080\">INFO    </span> Training FastAI MIL model with config:                                                         \n",
       "</pre>\n"
      ],
      "text/plain": [
       "\u001b[2;36m          \u001b[0m\u001b[2;36m \u001b[0m\u001b[34mINFO    \u001b[0m Training FastAI MIL model with config:                                                         \n"
      ]
     },
     "metadata": {},
     "output_type": "display_data"
    },
    {
     "data": {
      "text/html": [
       "<pre style=\"white-space:pre;overflow-x:auto;line-height:normal;font-family:Menlo,'DejaVu Sans Mono',consolas,'Courier New',monospace\"><span style=\"color: #7fbfbf; text-decoration-color: #7fbfbf\">           </span><span style=\"color: #000080; text-decoration-color: #000080\">INFO    </span> TrainerConfig(                                                                                 \n",
       "<span style=\"color: #7fbfbf; text-decoration-color: #7fbfbf\">           </span>           lr=None                                                                                      \n",
       "<span style=\"color: #7fbfbf; text-decoration-color: #7fbfbf\">           </span>           wd=1e-05                                                                                     \n",
       "<span style=\"color: #7fbfbf; text-decoration-color: #7fbfbf\">           </span>           bag_size=4                                                                                   \n",
       "<span style=\"color: #7fbfbf; text-decoration-color: #7fbfbf\">           </span>           max_val_bag_size=None                                                                        \n",
       "<span style=\"color: #7fbfbf; text-decoration-color: #7fbfbf\">           </span>           fit_one_cycle=True                                                                           \n",
       "<span style=\"color: #7fbfbf; text-decoration-color: #7fbfbf\">           </span>           epochs=2                                                                                     \n",
       "<span style=\"color: #7fbfbf; text-decoration-color: #7fbfbf\">           </span>           batch_size=2                                                                                 \n",
       "<span style=\"color: #7fbfbf; text-decoration-color: #7fbfbf\">           </span>           drop_last=True                                                                               \n",
       "<span style=\"color: #7fbfbf; text-decoration-color: #7fbfbf\">           </span>           save_monitor='valid_loss'                                                                    \n",
       "<span style=\"color: #7fbfbf; text-decoration-color: #7fbfbf\">           </span>           weighted_loss=True                                                                           \n",
       "<span style=\"color: #7fbfbf; text-decoration-color: #7fbfbf\">           </span>           model='transmil'                                                                             \n",
       "<span style=\"color: #7fbfbf; text-decoration-color: #7fbfbf\">           </span>           model_kwargs=None                                                                            \n",
       "<span style=\"color: #7fbfbf; text-decoration-color: #7fbfbf\">           </span>           loss='cross_entropy'                                                                         \n",
       "<span style=\"color: #7fbfbf; text-decoration-color: #7fbfbf\">           </span>           use_lens=False                                                                               \n",
       "<span style=\"color: #7fbfbf; text-decoration-color: #7fbfbf\">           </span>         )                                                                                              \n",
       "</pre>\n"
      ],
      "text/plain": [
       "\u001b[2;36m          \u001b[0m\u001b[2;36m \u001b[0m\u001b[34mINFO    \u001b[0m TrainerConfig(                                                                                 \n",
       "\u001b[2;36m           \u001b[0m           lr=None                                                                                      \n",
       "\u001b[2;36m           \u001b[0m           wd=1e-05                                                                                     \n",
       "\u001b[2;36m           \u001b[0m           bag_size=4                                                                                   \n",
       "\u001b[2;36m           \u001b[0m           max_val_bag_size=None                                                                        \n",
       "\u001b[2;36m           \u001b[0m           fit_one_cycle=True                                                                           \n",
       "\u001b[2;36m           \u001b[0m           epochs=2                                                                                     \n",
       "\u001b[2;36m           \u001b[0m           batch_size=2                                                                                 \n",
       "\u001b[2;36m           \u001b[0m           drop_last=True                                                                               \n",
       "\u001b[2;36m           \u001b[0m           save_monitor='valid_loss'                                                                    \n",
       "\u001b[2;36m           \u001b[0m           weighted_loss=True                                                                           \n",
       "\u001b[2;36m           \u001b[0m           model='transmil'                                                                             \n",
       "\u001b[2;36m           \u001b[0m           model_kwargs=None                                                                            \n",
       "\u001b[2;36m           \u001b[0m           loss='cross_entropy'                                                                         \n",
       "\u001b[2;36m           \u001b[0m           use_lens=False                                                                               \n",
       "\u001b[2;36m           \u001b[0m         )                                                                                              \n"
      ]
     },
     "metadata": {},
     "output_type": "display_data"
    },
    {
     "data": {
      "text/html": [
       "<pre style=\"white-space:pre;overflow-x:auto;line-height:normal;font-family:Menlo,'DejaVu Sans Mono',consolas,'Courier New',monospace\"><span style=\"color: #7fbfbf; text-decoration-color: #7fbfbf\">           </span><span style=\"color: #000080; text-decoration-color: #000080\">INFO    </span> Training dataset: 6 merged bags (from 6 possible slides)                                       \n",
       "</pre>\n"
      ],
      "text/plain": [
       "\u001b[2;36m          \u001b[0m\u001b[2;36m \u001b[0m\u001b[34mINFO    \u001b[0m Training dataset: 6 merged bags (from 6 possible slides)                                       \n"
      ]
     },
     "metadata": {},
     "output_type": "display_data"
    },
    {
     "data": {
      "text/html": [
       "<pre style=\"white-space:pre;overflow-x:auto;line-height:normal;font-family:Menlo,'DejaVu Sans Mono',consolas,'Courier New',monospace\"><span style=\"color: #7fbfbf; text-decoration-color: #7fbfbf\">           </span><span style=\"color: #000080; text-decoration-color: #000080\">INFO    </span> Validation dataset: 4 merged bags (from 4 possible slides)                                     \n",
       "</pre>\n"
      ],
      "text/plain": [
       "\u001b[2;36m          \u001b[0m\u001b[2;36m \u001b[0m\u001b[34mINFO    \u001b[0m Validation dataset: 4 merged bags (from 4 possible slides)                                     \n"
      ]
     },
     "metadata": {},
     "output_type": "display_data"
    },
    {
     "data": {
      "text/html": [
       "<pre style=\"white-space:pre;overflow-x:auto;line-height:normal;font-family:Menlo,'DejaVu Sans Mono',consolas,'Courier New',monospace\"><span style=\"color: #7fbfbf; text-decoration-color: #7fbfbf\">           </span><span style=\"color: #000080; text-decoration-color: #000080\">INFO    </span> Building model <span style=\"font-weight: bold\">TransMIL</span> (n_in=768, n_out=2)                                                    \n",
       "</pre>\n"
      ],
      "text/plain": [
       "\u001b[2;36m          \u001b[0m\u001b[2;36m \u001b[0m\u001b[34mINFO    \u001b[0m Building model \u001b[1mTransMIL\u001b[0m (n_in=768, n_out=2)                                                    \n"
      ]
     },
     "metadata": {},
     "output_type": "display_data"
    },
    {
     "data": {
      "text/html": [
       "\n",
       "<style>\n",
       "    /* Turns off some styling */\n",
       "    progress {\n",
       "        /* gets rid of default border in Firefox and Opera. */\n",
       "        border: none;\n",
       "        /* Needs to be in here for Safari polyfill so background images work as expected. */\n",
       "        background-size: auto;\n",
       "    }\n",
       "    progress:not([value]), progress:not([value])::-webkit-progress-bar {\n",
       "        background: repeating-linear-gradient(45deg, #7e7e7e, #7e7e7e 10px, #5c5c5c 10px, #5c5c5c 20px);\n",
       "    }\n",
       "    .progress-bar-interrupted, .progress-bar-interrupted::-webkit-progress-bar {\n",
       "        background: #F44336;\n",
       "    }\n",
       "</style>\n"
      ],
      "text/plain": [
       "<IPython.core.display.HTML object>"
      ]
     },
     "metadata": {},
     "output_type": "display_data"
    },
    {
     "data": {
      "text/html": [],
      "text/plain": [
       "<IPython.core.display.HTML object>"
      ]
     },
     "metadata": {},
     "output_type": "display_data"
    },
    {
     "data": {
      "text/html": [
       "<pre style=\"white-space:pre;overflow-x:auto;line-height:normal;font-family:Menlo,'DejaVu Sans Mono',consolas,'Courier New',monospace\"><span style=\"color: #7fbfbf; text-decoration-color: #7fbfbf\">[10:39:44] </span><span style=\"color: #000080; text-decoration-color: #000080\">INFO    </span> Using auto-detected learning rate: 0.0003981071640737355                                       \n",
       "</pre>\n"
      ],
      "text/plain": [
       "\u001b[2;36m[10:39:44]\u001b[0m\u001b[2;36m \u001b[0m\u001b[34mINFO    \u001b[0m Using auto-detected learning rate: 0.0003981071640737355                                       \n"
      ]
     },
     "metadata": {},
     "output_type": "display_data"
    },
    {
     "data": {
      "text/html": [
       "\n",
       "<style>\n",
       "    /* Turns off some styling */\n",
       "    progress {\n",
       "        /* gets rid of default border in Firefox and Opera. */\n",
       "        border: none;\n",
       "        /* Needs to be in here for Safari polyfill so background images work as expected. */\n",
       "        background-size: auto;\n",
       "    }\n",
       "    progress:not([value]), progress:not([value])::-webkit-progress-bar {\n",
       "        background: repeating-linear-gradient(45deg, #7e7e7e, #7e7e7e 10px, #5c5c5c 10px, #5c5c5c 20px);\n",
       "    }\n",
       "    .progress-bar-interrupted, .progress-bar-interrupted::-webkit-progress-bar {\n",
       "        background: #F44336;\n",
       "    }\n",
       "</style>\n"
      ],
      "text/plain": [
       "<IPython.core.display.HTML object>"
      ]
     },
     "metadata": {},
     "output_type": "display_data"
    },
    {
     "data": {
      "text/html": [
       "<table border=\"1\" class=\"dataframe\">\n",
       "  <thead>\n",
       "    <tr style=\"text-align: left;\">\n",
       "      <th>epoch</th>\n",
       "      <th>train_loss</th>\n",
       "      <th>valid_loss</th>\n",
       "      <th>roc_auc_score</th>\n",
       "      <th>time</th>\n",
       "    </tr>\n",
       "  </thead>\n",
       "  <tbody>\n",
       "    <tr>\n",
       "      <td>0</td>\n",
       "      <td>0.331518</td>\n",
       "      <td>0.402687</td>\n",
       "      <td>0.000000</td>\n",
       "      <td>00:00</td>\n",
       "    </tr>\n",
       "    <tr>\n",
       "      <td>1</td>\n",
       "      <td>0.333517</td>\n",
       "      <td>0.538786</td>\n",
       "      <td>0.000000</td>\n",
       "      <td>00:01</td>\n",
       "    </tr>\n",
       "  </tbody>\n",
       "</table>"
      ],
      "text/plain": [
       "<IPython.core.display.HTML object>"
      ]
     },
     "metadata": {},
     "output_type": "display_data"
    },
    {
     "name": "stdout",
     "output_type": "stream",
     "text": [
      "Better model found at epoch 0 with valid_loss value: 0.40268686413764954.\n"
     ]
    },
    {
     "data": {
      "text/html": [
       "<pre style=\"white-space:pre;overflow-x:auto;line-height:normal;font-family:Menlo,'DejaVu Sans Mono',consolas,'Courier New',monospace\"><span style=\"color: #7fbfbf; text-decoration-color: #7fbfbf\">[10:39:46] </span><span style=\"color: #000080; text-decoration-color: #000080\">INFO    </span> Predictions saved to                                                                           \n",
       "<span style=\"color: #7fbfbf; text-decoration-color: #7fbfbf\">           </span>         <span style=\"color: #008000; text-decoration-color: #008000\">/mnt/labshare/DL_OTHER/TEST_PROJECTS/TEST_PROJECT/mil/00019-ctranspath_transmil/predictions.par</span>\n",
       "<span style=\"color: #7fbfbf; text-decoration-color: #7fbfbf\">           </span>         <span style=\"color: #008000; text-decoration-color: #008000\">quet</span>                                                                                           \n",
       "</pre>\n"
      ],
      "text/plain": [
       "\u001b[2;36m[10:39:46]\u001b[0m\u001b[2;36m \u001b[0m\u001b[34mINFO    \u001b[0m Predictions saved to                                                                           \n",
       "\u001b[2;36m           \u001b[0m         \u001b[32m/mnt/labshare/DL_OTHER/TEST_PROJECTS/TEST_PROJECT/mil/00019-ctranspath_transmil/predictions.par\u001b[0m\n",
       "\u001b[2;36m           \u001b[0m         \u001b[32mquet\u001b[0m                                                                                           \n"
      ]
     },
     "metadata": {},
     "output_type": "display_data"
    },
    {
     "data": {
      "text/html": [
       "<pre style=\"white-space:pre;overflow-x:auto;line-height:normal;font-family:Menlo,'DejaVu Sans Mono',consolas,'Courier New',monospace\"><span style=\"color: #7fbfbf; text-decoration-color: #7fbfbf\">           </span><span style=\"color: #000080; text-decoration-color: #000080\">INFO    </span> Validation metrics for outcome <span style=\"color: #008000; text-decoration-color: #008000\">cohort</span>:                                                         \n",
       "</pre>\n"
      ],
      "text/plain": [
       "\u001b[2;36m          \u001b[0m\u001b[2;36m \u001b[0m\u001b[34mINFO    \u001b[0m Validation metrics for outcome \u001b[32mcohort\u001b[0m:                                                         \n"
      ]
     },
     "metadata": {},
     "output_type": "display_data"
    },
    {
     "data": {
      "text/html": [
       "<pre style=\"white-space:pre;overflow-x:auto;line-height:normal;font-family:Menlo,'DejaVu Sans Mono',consolas,'Courier New',monospace\"><span style=\"color: #7fbfbf; text-decoration-color: #7fbfbf\">           </span><span style=\"color: #000080; text-decoration-color: #000080\">INFO    </span> slide-level AUC (cat # 0): NA AP: 0.639 (opt. threshold: inf)                                  \n",
       "</pre>\n"
      ],
      "text/plain": [
       "\u001b[2;36m          \u001b[0m\u001b[2;36m \u001b[0m\u001b[34mINFO    \u001b[0m slide-level AUC (cat # 0): NA AP: 0.639 (opt. threshold: inf)                                  \n"
      ]
     },
     "metadata": {},
     "output_type": "display_data"
    },
    {
     "data": {
      "text/html": [
       "<pre style=\"white-space:pre;overflow-x:auto;line-height:normal;font-family:Menlo,'DejaVu Sans Mono',consolas,'Courier New',monospace\"><span style=\"color: #7fbfbf; text-decoration-color: #7fbfbf\">           </span><span style=\"color: #000080; text-decoration-color: #000080\">INFO    </span> slide-level AUC (cat # 1): NA AP: 0.250 (opt. threshold: inf)                                  \n",
       "</pre>\n"
      ],
      "text/plain": [
       "\u001b[2;36m          \u001b[0m\u001b[2;36m \u001b[0m\u001b[34mINFO    \u001b[0m slide-level AUC (cat # 1): NA AP: 0.250 (opt. threshold: inf)                                  \n"
      ]
     },
     "metadata": {},
     "output_type": "display_data"
    },
    {
     "data": {
      "text/html": [
       "<pre style=\"white-space:pre;overflow-x:auto;line-height:normal;font-family:Menlo,'DejaVu Sans Mono',consolas,'Courier New',monospace\"><span style=\"color: #7fbfbf; text-decoration-color: #7fbfbf\">           </span><span style=\"color: #000080; text-decoration-color: #000080\">INFO    </span> Category 0 acc: 66.7% (2/3)                                                                    \n",
       "</pre>\n"
      ],
      "text/plain": [
       "\u001b[2;36m          \u001b[0m\u001b[2;36m \u001b[0m\u001b[34mINFO    \u001b[0m Category 0 acc: 66.7% (2/3)                                                                    \n"
      ]
     },
     "metadata": {},
     "output_type": "display_data"
    },
    {
     "data": {
      "text/html": [
       "<pre style=\"white-space:pre;overflow-x:auto;line-height:normal;font-family:Menlo,'DejaVu Sans Mono',consolas,'Courier New',monospace\"><span style=\"color: #7fbfbf; text-decoration-color: #7fbfbf\">           </span><span style=\"color: #000080; text-decoration-color: #000080\">INFO    </span> Category 1 acc: 0.0% (0/1)                                                                     \n",
       "</pre>\n"
      ],
      "text/plain": [
       "\u001b[2;36m          \u001b[0m\u001b[2;36m \u001b[0m\u001b[34mINFO    \u001b[0m Category 1 acc: 0.0% (0/1)                                                                     \n"
      ]
     },
     "metadata": {},
     "output_type": "display_data"
    },
    {
     "data": {
      "text/html": [
       "<pre style=\"white-space:pre;overflow-x:auto;line-height:normal;font-family:Menlo,'DejaVu Sans Mono',consolas,'Courier New',monospace\"><span style=\"color: #7fbfbf; text-decoration-color: #7fbfbf\">[10:39:47] </span><span style=\"color: #000080; text-decoration-color: #000080\">INFO    </span> Attention scores exported to                                                                   \n",
       "<span style=\"color: #7fbfbf; text-decoration-color: #7fbfbf\">           </span>         <span style=\"color: #008000; text-decoration-color: #008000\">/mnt/labshare/DL_OTHER/TEST_PROJECTS/TEST_PROJECT/mil/00019-ctranspath_transmil/attention/TCGA-</span>\n",
       "<span style=\"color: #7fbfbf; text-decoration-color: #7fbfbf\">           </span>         <span style=\"color: #008000; text-decoration-color: #008000\">NC-A5HG-01Z-00-DX1.129E83E5-1C4D-4B31-8750-64D10A65267F_att.npz</span>                                \n",
       "</pre>\n"
      ],
      "text/plain": [
       "\u001b[2;36m[10:39:47]\u001b[0m\u001b[2;36m \u001b[0m\u001b[34mINFO    \u001b[0m Attention scores exported to                                                                   \n",
       "\u001b[2;36m           \u001b[0m         \u001b[32m/mnt/labshare/DL_OTHER/TEST_PROJECTS/TEST_PROJECT/mil/00019-ctranspath_transmil/attention/TCGA-\u001b[0m\n",
       "\u001b[2;36m           \u001b[0m         \u001b[32mNC-A5HG-01Z-00-DX1.129E83E5-1C4D-4B31-8750-64D10A65267F_att.npz\u001b[0m                                \n"
      ]
     },
     "metadata": {},
     "output_type": "display_data"
    },
    {
     "data": {
      "text/html": [
       "<pre style=\"white-space:pre;overflow-x:auto;line-height:normal;font-family:Menlo,'DejaVu Sans Mono',consolas,'Courier New',monospace\"><span style=\"color: #7fbfbf; text-decoration-color: #7fbfbf\">           </span><span style=\"color: #000080; text-decoration-color: #000080\">INFO    </span> Training FastAI MIL model with config:                                                         \n",
       "</pre>\n"
      ],
      "text/plain": [
       "\u001b[2;36m          \u001b[0m\u001b[2;36m \u001b[0m\u001b[34mINFO    \u001b[0m Training FastAI MIL model with config:                                                         \n"
      ]
     },
     "metadata": {},
     "output_type": "display_data"
    },
    {
     "data": {
      "text/html": [
       "<pre style=\"white-space:pre;overflow-x:auto;line-height:normal;font-family:Menlo,'DejaVu Sans Mono',consolas,'Courier New',monospace\"><span style=\"color: #7fbfbf; text-decoration-color: #7fbfbf\">           </span><span style=\"color: #000080; text-decoration-color: #000080\">INFO    </span> TrainerConfig(                                                                                 \n",
       "<span style=\"color: #7fbfbf; text-decoration-color: #7fbfbf\">           </span>           lr=None                                                                                      \n",
       "<span style=\"color: #7fbfbf; text-decoration-color: #7fbfbf\">           </span>           wd=1e-05                                                                                     \n",
       "<span style=\"color: #7fbfbf; text-decoration-color: #7fbfbf\">           </span>           bag_size=4                                                                                   \n",
       "<span style=\"color: #7fbfbf; text-decoration-color: #7fbfbf\">           </span>           max_val_bag_size=None                                                                        \n",
       "<span style=\"color: #7fbfbf; text-decoration-color: #7fbfbf\">           </span>           fit_one_cycle=True                                                                           \n",
       "<span style=\"color: #7fbfbf; text-decoration-color: #7fbfbf\">           </span>           epochs=2                                                                                     \n",
       "<span style=\"color: #7fbfbf; text-decoration-color: #7fbfbf\">           </span>           batch_size=2                                                                                 \n",
       "<span style=\"color: #7fbfbf; text-decoration-color: #7fbfbf\">           </span>           drop_last=True                                                                               \n",
       "<span style=\"color: #7fbfbf; text-decoration-color: #7fbfbf\">           </span>           save_monitor='valid_loss'                                                                    \n",
       "<span style=\"color: #7fbfbf; text-decoration-color: #7fbfbf\">           </span>           weighted_loss=True                                                                           \n",
       "<span style=\"color: #7fbfbf; text-decoration-color: #7fbfbf\">           </span>           model='attention_mil'                                                                        \n",
       "<span style=\"color: #7fbfbf; text-decoration-color: #7fbfbf\">           </span>           model_kwargs=None                                                                            \n",
       "<span style=\"color: #7fbfbf; text-decoration-color: #7fbfbf\">           </span>           loss='cross_entropy'                                                                         \n",
       "<span style=\"color: #7fbfbf; text-decoration-color: #7fbfbf\">           </span>           use_lens=True                                                                                \n",
       "<span style=\"color: #7fbfbf; text-decoration-color: #7fbfbf\">           </span>         )                                                                                              \n",
       "</pre>\n"
      ],
      "text/plain": [
       "\u001b[2;36m          \u001b[0m\u001b[2;36m \u001b[0m\u001b[34mINFO    \u001b[0m TrainerConfig(                                                                                 \n",
       "\u001b[2;36m           \u001b[0m           lr=None                                                                                      \n",
       "\u001b[2;36m           \u001b[0m           wd=1e-05                                                                                     \n",
       "\u001b[2;36m           \u001b[0m           bag_size=4                                                                                   \n",
       "\u001b[2;36m           \u001b[0m           max_val_bag_size=None                                                                        \n",
       "\u001b[2;36m           \u001b[0m           fit_one_cycle=True                                                                           \n",
       "\u001b[2;36m           \u001b[0m           epochs=2                                                                                     \n",
       "\u001b[2;36m           \u001b[0m           batch_size=2                                                                                 \n",
       "\u001b[2;36m           \u001b[0m           drop_last=True                                                                               \n",
       "\u001b[2;36m           \u001b[0m           save_monitor='valid_loss'                                                                    \n",
       "\u001b[2;36m           \u001b[0m           weighted_loss=True                                                                           \n",
       "\u001b[2;36m           \u001b[0m           model='attention_mil'                                                                        \n",
       "\u001b[2;36m           \u001b[0m           model_kwargs=None                                                                            \n",
       "\u001b[2;36m           \u001b[0m           loss='cross_entropy'                                                                         \n",
       "\u001b[2;36m           \u001b[0m           use_lens=True                                                                                \n",
       "\u001b[2;36m           \u001b[0m         )                                                                                              \n"
      ]
     },
     "metadata": {},
     "output_type": "display_data"
    },
    {
     "data": {
      "text/html": [
       "<pre style=\"white-space:pre;overflow-x:auto;line-height:normal;font-family:Menlo,'DejaVu Sans Mono',consolas,'Courier New',monospace\"><span style=\"color: #7fbfbf; text-decoration-color: #7fbfbf\">           </span><span style=\"color: #000080; text-decoration-color: #000080\">INFO    </span> Training dataset: 6 merged bags (from 6 possible slides)                                       \n",
       "</pre>\n"
      ],
      "text/plain": [
       "\u001b[2;36m          \u001b[0m\u001b[2;36m \u001b[0m\u001b[34mINFO    \u001b[0m Training dataset: 6 merged bags (from 6 possible slides)                                       \n"
      ]
     },
     "metadata": {},
     "output_type": "display_data"
    },
    {
     "data": {
      "text/html": [
       "<pre style=\"white-space:pre;overflow-x:auto;line-height:normal;font-family:Menlo,'DejaVu Sans Mono',consolas,'Courier New',monospace\"><span style=\"color: #7fbfbf; text-decoration-color: #7fbfbf\">           </span><span style=\"color: #000080; text-decoration-color: #000080\">INFO    </span> Validation dataset: 4 merged bags (from 4 possible slides)                                     \n",
       "</pre>\n"
      ],
      "text/plain": [
       "\u001b[2;36m          \u001b[0m\u001b[2;36m \u001b[0m\u001b[34mINFO    \u001b[0m Validation dataset: 4 merged bags (from 4 possible slides)                                     \n"
      ]
     },
     "metadata": {},
     "output_type": "display_data"
    },
    {
     "data": {
      "text/html": [
       "<pre style=\"white-space:pre;overflow-x:auto;line-height:normal;font-family:Menlo,'DejaVu Sans Mono',consolas,'Courier New',monospace\"><span style=\"color: #7fbfbf; text-decoration-color: #7fbfbf\">           </span><span style=\"color: #000080; text-decoration-color: #000080\">INFO    </span> Building model <span style=\"font-weight: bold\">Attention_MIL</span> (n_in=768, n_out=2)                                               \n",
       "</pre>\n"
      ],
      "text/plain": [
       "\u001b[2;36m          \u001b[0m\u001b[2;36m \u001b[0m\u001b[34mINFO    \u001b[0m Building model \u001b[1mAttention_MIL\u001b[0m (n_in=768, n_out=2)                                               \n"
      ]
     },
     "metadata": {},
     "output_type": "display_data"
    },
    {
     "data": {
      "text/html": [
       "\n",
       "<style>\n",
       "    /* Turns off some styling */\n",
       "    progress {\n",
       "        /* gets rid of default border in Firefox and Opera. */\n",
       "        border: none;\n",
       "        /* Needs to be in here for Safari polyfill so background images work as expected. */\n",
       "        background-size: auto;\n",
       "    }\n",
       "    progress:not([value]), progress:not([value])::-webkit-progress-bar {\n",
       "        background: repeating-linear-gradient(45deg, #7e7e7e, #7e7e7e 10px, #5c5c5c 10px, #5c5c5c 20px);\n",
       "    }\n",
       "    .progress-bar-interrupted, .progress-bar-interrupted::-webkit-progress-bar {\n",
       "        background: #F44336;\n",
       "    }\n",
       "</style>\n"
      ],
      "text/plain": [
       "<IPython.core.display.HTML object>"
      ]
     },
     "metadata": {},
     "output_type": "display_data"
    },
    {
     "data": {
      "text/html": [],
      "text/plain": [
       "<IPython.core.display.HTML object>"
      ]
     },
     "metadata": {},
     "output_type": "display_data"
    },
    {
     "data": {
      "text/html": [
       "<pre style=\"white-space:pre;overflow-x:auto;line-height:normal;font-family:Menlo,'DejaVu Sans Mono',consolas,'Courier New',monospace\"><span style=\"color: #7fbfbf; text-decoration-color: #7fbfbf\">[10:40:03] </span><span style=\"color: #000080; text-decoration-color: #000080\">INFO    </span> Using auto-detected learning rate: 0.0020892962347716093                                       \n",
       "</pre>\n"
      ],
      "text/plain": [
       "\u001b[2;36m[10:40:03]\u001b[0m\u001b[2;36m \u001b[0m\u001b[34mINFO    \u001b[0m Using auto-detected learning rate: 0.0020892962347716093                                       \n"
      ]
     },
     "metadata": {},
     "output_type": "display_data"
    },
    {
     "data": {
      "text/html": [
       "\n",
       "<style>\n",
       "    /* Turns off some styling */\n",
       "    progress {\n",
       "        /* gets rid of default border in Firefox and Opera. */\n",
       "        border: none;\n",
       "        /* Needs to be in here for Safari polyfill so background images work as expected. */\n",
       "        background-size: auto;\n",
       "    }\n",
       "    progress:not([value]), progress:not([value])::-webkit-progress-bar {\n",
       "        background: repeating-linear-gradient(45deg, #7e7e7e, #7e7e7e 10px, #5c5c5c 10px, #5c5c5c 20px);\n",
       "    }\n",
       "    .progress-bar-interrupted, .progress-bar-interrupted::-webkit-progress-bar {\n",
       "        background: #F44336;\n",
       "    }\n",
       "</style>\n"
      ],
      "text/plain": [
       "<IPython.core.display.HTML object>"
      ]
     },
     "metadata": {},
     "output_type": "display_data"
    },
    {
     "data": {
      "text/html": [
       "<table border=\"1\" class=\"dataframe\">\n",
       "  <thead>\n",
       "    <tr style=\"text-align: left;\">\n",
       "      <th>epoch</th>\n",
       "      <th>train_loss</th>\n",
       "      <th>valid_loss</th>\n",
       "      <th>roc_auc_score</th>\n",
       "      <th>time</th>\n",
       "    </tr>\n",
       "  </thead>\n",
       "  <tbody>\n",
       "    <tr>\n",
       "      <td>0</td>\n",
       "      <td>0.399557</td>\n",
       "      <td>0.392156</td>\n",
       "      <td>0.666667</td>\n",
       "      <td>00:01</td>\n",
       "    </tr>\n",
       "    <tr>\n",
       "      <td>1</td>\n",
       "      <td>0.237676</td>\n",
       "      <td>0.391844</td>\n",
       "      <td>0.666667</td>\n",
       "      <td>00:00</td>\n",
       "    </tr>\n",
       "  </tbody>\n",
       "</table>"
      ],
      "text/plain": [
       "<IPython.core.display.HTML object>"
      ]
     },
     "metadata": {},
     "output_type": "display_data"
    },
    {
     "name": "stdout",
     "output_type": "stream",
     "text": [
      "Better model found at epoch 0 with valid_loss value: 0.39215579628944397.\n",
      "Better model found at epoch 1 with valid_loss value: 0.3918438255786896.\n"
     ]
    },
    {
     "data": {
      "text/html": [
       "<pre style=\"white-space:pre;overflow-x:auto;line-height:normal;font-family:Menlo,'DejaVu Sans Mono',consolas,'Courier New',monospace\"><span style=\"color: #7fbfbf; text-decoration-color: #7fbfbf\">[10:40:06] </span><span style=\"color: #000080; text-decoration-color: #000080\">INFO    </span> Predictions saved to                                                                           \n",
       "<span style=\"color: #7fbfbf; text-decoration-color: #7fbfbf\">           </span>         <span style=\"color: #008000; text-decoration-color: #008000\">/mnt/labshare/DL_OTHER/TEST_PROJECTS/TEST_PROJECT/mil/00020-ctranspath_attention_mil/prediction</span>\n",
       "<span style=\"color: #7fbfbf; text-decoration-color: #7fbfbf\">           </span>         <span style=\"color: #008000; text-decoration-color: #008000\">s.parquet</span>                                                                                      \n",
       "</pre>\n"
      ],
      "text/plain": [
       "\u001b[2;36m[10:40:06]\u001b[0m\u001b[2;36m \u001b[0m\u001b[34mINFO    \u001b[0m Predictions saved to                                                                           \n",
       "\u001b[2;36m           \u001b[0m         \u001b[32m/mnt/labshare/DL_OTHER/TEST_PROJECTS/TEST_PROJECT/mil/00020-ctranspath_attention_mil/prediction\u001b[0m\n",
       "\u001b[2;36m           \u001b[0m         \u001b[32ms.parquet\u001b[0m                                                                                      \n"
      ]
     },
     "metadata": {},
     "output_type": "display_data"
    },
    {
     "data": {
      "text/html": [
       "<pre style=\"white-space:pre;overflow-x:auto;line-height:normal;font-family:Menlo,'DejaVu Sans Mono',consolas,'Courier New',monospace\"><span style=\"color: #7fbfbf; text-decoration-color: #7fbfbf\">           </span><span style=\"color: #000080; text-decoration-color: #000080\">INFO    </span> Validation metrics for outcome <span style=\"color: #008000; text-decoration-color: #008000\">cohort</span>:                                                         \n",
       "</pre>\n"
      ],
      "text/plain": [
       "\u001b[2;36m          \u001b[0m\u001b[2;36m \u001b[0m\u001b[34mINFO    \u001b[0m Validation metrics for outcome \u001b[32mcohort\u001b[0m:                                                         \n"
      ]
     },
     "metadata": {},
     "output_type": "display_data"
    },
    {
     "data": {
      "text/html": [
       "<pre style=\"white-space:pre;overflow-x:auto;line-height:normal;font-family:Menlo,'DejaVu Sans Mono',consolas,'Courier New',monospace\"><span style=\"color: #7fbfbf; text-decoration-color: #7fbfbf\">           </span><span style=\"color: #000080; text-decoration-color: #000080\">INFO    </span> slide-level AUC (cat # 0): 0.667 AP: 0.917 (opt. threshold: 0.521)                             \n",
       "</pre>\n"
      ],
      "text/plain": [
       "\u001b[2;36m          \u001b[0m\u001b[2;36m \u001b[0m\u001b[34mINFO    \u001b[0m slide-level AUC (cat # 0): 0.667 AP: 0.917 (opt. threshold: 0.521)                             \n"
      ]
     },
     "metadata": {},
     "output_type": "display_data"
    },
    {
     "data": {
      "text/html": [
       "<pre style=\"white-space:pre;overflow-x:auto;line-height:normal;font-family:Menlo,'DejaVu Sans Mono',consolas,'Courier New',monospace\"><span style=\"color: #7fbfbf; text-decoration-color: #7fbfbf\">           </span><span style=\"color: #000080; text-decoration-color: #000080\">INFO    </span> slide-level AUC (cat # 1): 0.667 AP: 0.500 (opt. threshold: 0.507)                             \n",
       "</pre>\n"
      ],
      "text/plain": [
       "\u001b[2;36m          \u001b[0m\u001b[2;36m \u001b[0m\u001b[34mINFO    \u001b[0m slide-level AUC (cat # 1): 0.667 AP: 0.500 (opt. threshold: 0.507)                             \n"
      ]
     },
     "metadata": {},
     "output_type": "display_data"
    },
    {
     "data": {
      "text/html": [
       "<pre style=\"white-space:pre;overflow-x:auto;line-height:normal;font-family:Menlo,'DejaVu Sans Mono',consolas,'Courier New',monospace\"><span style=\"color: #7fbfbf; text-decoration-color: #7fbfbf\">           </span><span style=\"color: #000080; text-decoration-color: #000080\">INFO    </span> Category 0 acc: 66.7% (2/3)                                                                    \n",
       "</pre>\n"
      ],
      "text/plain": [
       "\u001b[2;36m          \u001b[0m\u001b[2;36m \u001b[0m\u001b[34mINFO    \u001b[0m Category 0 acc: 66.7% (2/3)                                                                    \n"
      ]
     },
     "metadata": {},
     "output_type": "display_data"
    },
    {
     "data": {
      "text/html": [
       "<pre style=\"white-space:pre;overflow-x:auto;line-height:normal;font-family:Menlo,'DejaVu Sans Mono',consolas,'Courier New',monospace\"><span style=\"color: #7fbfbf; text-decoration-color: #7fbfbf\">           </span><span style=\"color: #000080; text-decoration-color: #000080\">INFO    </span> Category 1 acc: 100.0% (1/1)                                                                   \n",
       "</pre>\n"
      ],
      "text/plain": [
       "\u001b[2;36m          \u001b[0m\u001b[2;36m \u001b[0m\u001b[34mINFO    \u001b[0m Category 1 acc: 100.0% (1/1)                                                                   \n"
      ]
     },
     "metadata": {},
     "output_type": "display_data"
    },
    {
     "data": {
      "text/html": [
       "<pre style=\"white-space:pre;overflow-x:auto;line-height:normal;font-family:Menlo,'DejaVu Sans Mono',consolas,'Courier New',monospace\"><span style=\"color: #7fbfbf; text-decoration-color: #7fbfbf\">           </span><span style=\"color: #000080; text-decoration-color: #000080\">INFO    </span> Attention scores exported to                                                                   \n",
       "<span style=\"color: #7fbfbf; text-decoration-color: #7fbfbf\">           </span>         <span style=\"color: #008000; text-decoration-color: #008000\">/mnt/labshare/DL_OTHER/TEST_PROJECTS/TEST_PROJECT/mil/00020-ctranspath_attention_mil/attention/</span>\n",
       "<span style=\"color: #7fbfbf; text-decoration-color: #7fbfbf\">           </span>         <span style=\"color: #008000; text-decoration-color: #008000\">TCGA-NC-A5HG-01Z-00-DX1.129E83E5-1C4D-4B31-8750-64D10A65267F_att.npz</span>                           \n",
       "</pre>\n"
      ],
      "text/plain": [
       "\u001b[2;36m          \u001b[0m\u001b[2;36m \u001b[0m\u001b[34mINFO    \u001b[0m Attention scores exported to                                                                   \n",
       "\u001b[2;36m           \u001b[0m         \u001b[32m/mnt/labshare/DL_OTHER/TEST_PROJECTS/TEST_PROJECT/mil/00020-ctranspath_attention_mil/attention/\u001b[0m\n",
       "\u001b[2;36m           \u001b[0m         \u001b[32mTCGA-NC-A5HG-01Z-00-DX1.129E83E5-1C4D-4B31-8750-64D10A65267F_att.npz\u001b[0m                           \n"
      ]
     },
     "metadata": {},
     "output_type": "display_data"
    }
   ],
   "source": [
    "models = ['transmil', 'attention_mil']\n",
    "\n",
    "for model in models:\n",
    "    config = mil_config(model, bag_size=4, batch_size=2, epochs=2)\n",
    "    P.train_mil(\n",
    "        config=config,\n",
    "        exp_label=f'{extractor}_{model}',\n",
    "        outcomes='cohort',\n",
    "        train_dataset=train_dataset,\n",
    "        val_dataset=val_dataset,\n",
    "        bags=project_root + f'/features/{extractor}/torch'\n",
    "    )"
   ]
  },
  {
   "cell_type": "markdown",
   "metadata": {},
   "source": [
    "## Aggregation Level\n",
    "\n",
    "The `aggregation_level` parameter determines how the bags are formed and how outcomes are assigned:\n",
    "\n",
    "- If `aggregation_level` is 'slide' (default), the bags are comprised of tiles from one slide, and there will be an outcome for each slide.\n",
    "- If `aggregation_level` is 'patient', the bags are comprised of tiles from all slides belonging to a patient, and there will be a single outcome for each patient. This only has an effect when all or some patients have multiple slides.\n",
    "\n",
    "\n",
    "\n",
    "## Save Monitor\n",
    "\n",
    "We can also change the `save_monitor` from the default 'loss' to 'roc_auc_score', in which case the model with the best AUC will be saved."
   ]
  },
  {
   "cell_type": "code",
   "execution_count": 8,
   "metadata": {},
   "outputs": [
    {
     "data": {
      "text/html": [
       "<pre style=\"white-space:pre;overflow-x:auto;line-height:normal;font-family:Menlo,'DejaVu Sans Mono',consolas,'Courier New',monospace\"><span style=\"color: #7fbfbf; text-decoration-color: #7fbfbf\">           </span><span style=\"color: #000080; text-decoration-color: #000080\">INFO    </span> Training FastAI MIL model with config:                                                         \n",
       "</pre>\n"
      ],
      "text/plain": [
       "\u001b[2;36m          \u001b[0m\u001b[2;36m \u001b[0m\u001b[34mINFO    \u001b[0m Training FastAI MIL model with config:                                                         \n"
      ]
     },
     "metadata": {},
     "output_type": "display_data"
    },
    {
     "data": {
      "text/html": [
       "<pre style=\"white-space:pre;overflow-x:auto;line-height:normal;font-family:Menlo,'DejaVu Sans Mono',consolas,'Courier New',monospace\"><span style=\"color: #7fbfbf; text-decoration-color: #7fbfbf\">           </span><span style=\"color: #000080; text-decoration-color: #000080\">INFO    </span> TrainerConfig(                                                                                 \n",
       "<span style=\"color: #7fbfbf; text-decoration-color: #7fbfbf\">           </span>           lr=None                                                                                      \n",
       "<span style=\"color: #7fbfbf; text-decoration-color: #7fbfbf\">           </span>           wd=1e-05                                                                                     \n",
       "<span style=\"color: #7fbfbf; text-decoration-color: #7fbfbf\">           </span>           bag_size=4                                                                                   \n",
       "<span style=\"color: #7fbfbf; text-decoration-color: #7fbfbf\">           </span>           max_val_bag_size=None                                                                        \n",
       "<span style=\"color: #7fbfbf; text-decoration-color: #7fbfbf\">           </span>           fit_one_cycle=True                                                                           \n",
       "<span style=\"color: #7fbfbf; text-decoration-color: #7fbfbf\">           </span>           epochs=2                                                                                     \n",
       "<span style=\"color: #7fbfbf; text-decoration-color: #7fbfbf\">           </span>           batch_size=2                                                                                 \n",
       "<span style=\"color: #7fbfbf; text-decoration-color: #7fbfbf\">           </span>           drop_last=True                                                                               \n",
       "<span style=\"color: #7fbfbf; text-decoration-color: #7fbfbf\">           </span>           save_monitor='roc_auc_score'                                                                 \n",
       "<span style=\"color: #7fbfbf; text-decoration-color: #7fbfbf\">           </span>           weighted_loss=True                                                                           \n",
       "<span style=\"color: #7fbfbf; text-decoration-color: #7fbfbf\">           </span>           model='attention_mil'                                                                        \n",
       "<span style=\"color: #7fbfbf; text-decoration-color: #7fbfbf\">           </span>           model_kwargs=None                                                                            \n",
       "<span style=\"color: #7fbfbf; text-decoration-color: #7fbfbf\">           </span>           loss='cross_entropy'                                                                         \n",
       "<span style=\"color: #7fbfbf; text-decoration-color: #7fbfbf\">           </span>           use_lens=True                                                                                \n",
       "<span style=\"color: #7fbfbf; text-decoration-color: #7fbfbf\">           </span>         )                                                                                              \n",
       "</pre>\n"
      ],
      "text/plain": [
       "\u001b[2;36m          \u001b[0m\u001b[2;36m \u001b[0m\u001b[34mINFO    \u001b[0m TrainerConfig(                                                                                 \n",
       "\u001b[2;36m           \u001b[0m           lr=None                                                                                      \n",
       "\u001b[2;36m           \u001b[0m           wd=1e-05                                                                                     \n",
       "\u001b[2;36m           \u001b[0m           bag_size=4                                                                                   \n",
       "\u001b[2;36m           \u001b[0m           max_val_bag_size=None                                                                        \n",
       "\u001b[2;36m           \u001b[0m           fit_one_cycle=True                                                                           \n",
       "\u001b[2;36m           \u001b[0m           epochs=2                                                                                     \n",
       "\u001b[2;36m           \u001b[0m           batch_size=2                                                                                 \n",
       "\u001b[2;36m           \u001b[0m           drop_last=True                                                                               \n",
       "\u001b[2;36m           \u001b[0m           save_monitor='roc_auc_score'                                                                 \n",
       "\u001b[2;36m           \u001b[0m           weighted_loss=True                                                                           \n",
       "\u001b[2;36m           \u001b[0m           model='attention_mil'                                                                        \n",
       "\u001b[2;36m           \u001b[0m           model_kwargs=None                                                                            \n",
       "\u001b[2;36m           \u001b[0m           loss='cross_entropy'                                                                         \n",
       "\u001b[2;36m           \u001b[0m           use_lens=True                                                                                \n",
       "\u001b[2;36m           \u001b[0m         )                                                                                              \n"
      ]
     },
     "metadata": {},
     "output_type": "display_data"
    },
    {
     "data": {
      "text/html": [
       "<pre style=\"white-space:pre;overflow-x:auto;line-height:normal;font-family:Menlo,'DejaVu Sans Mono',consolas,'Courier New',monospace\"><span style=\"color: #7fbfbf; text-decoration-color: #7fbfbf\">           </span><span style=\"color: #000080; text-decoration-color: #000080\">INFO    </span> Training dataset: 6 merged bags (from 6 possible slides)                                       \n",
       "</pre>\n"
      ],
      "text/plain": [
       "\u001b[2;36m          \u001b[0m\u001b[2;36m \u001b[0m\u001b[34mINFO    \u001b[0m Training dataset: 6 merged bags (from 6 possible slides)                                       \n"
      ]
     },
     "metadata": {},
     "output_type": "display_data"
    },
    {
     "data": {
      "text/html": [
       "<pre style=\"white-space:pre;overflow-x:auto;line-height:normal;font-family:Menlo,'DejaVu Sans Mono',consolas,'Courier New',monospace\"><span style=\"color: #7fbfbf; text-decoration-color: #7fbfbf\">           </span><span style=\"color: #000080; text-decoration-color: #000080\">INFO    </span> Validation dataset: 4 merged bags (from 4 possible slides)                                     \n",
       "</pre>\n"
      ],
      "text/plain": [
       "\u001b[2;36m          \u001b[0m\u001b[2;36m \u001b[0m\u001b[34mINFO    \u001b[0m Validation dataset: 4 merged bags (from 4 possible slides)                                     \n"
      ]
     },
     "metadata": {},
     "output_type": "display_data"
    },
    {
     "data": {
      "text/html": [
       "<pre style=\"white-space:pre;overflow-x:auto;line-height:normal;font-family:Menlo,'DejaVu Sans Mono',consolas,'Courier New',monospace\"><span style=\"color: #7fbfbf; text-decoration-color: #7fbfbf\">           </span><span style=\"color: #000080; text-decoration-color: #000080\">INFO    </span> Building model <span style=\"font-weight: bold\">Attention_MIL</span> (n_in=768, n_out=2)                                               \n",
       "</pre>\n"
      ],
      "text/plain": [
       "\u001b[2;36m          \u001b[0m\u001b[2;36m \u001b[0m\u001b[34mINFO    \u001b[0m Building model \u001b[1mAttention_MIL\u001b[0m (n_in=768, n_out=2)                                               \n"
      ]
     },
     "metadata": {},
     "output_type": "display_data"
    },
    {
     "data": {
      "text/html": [
       "\n",
       "<style>\n",
       "    /* Turns off some styling */\n",
       "    progress {\n",
       "        /* gets rid of default border in Firefox and Opera. */\n",
       "        border: none;\n",
       "        /* Needs to be in here for Safari polyfill so background images work as expected. */\n",
       "        background-size: auto;\n",
       "    }\n",
       "    progress:not([value]), progress:not([value])::-webkit-progress-bar {\n",
       "        background: repeating-linear-gradient(45deg, #7e7e7e, #7e7e7e 10px, #5c5c5c 10px, #5c5c5c 20px);\n",
       "    }\n",
       "    .progress-bar-interrupted, .progress-bar-interrupted::-webkit-progress-bar {\n",
       "        background: #F44336;\n",
       "    }\n",
       "</style>\n"
      ],
      "text/plain": [
       "<IPython.core.display.HTML object>"
      ]
     },
     "metadata": {},
     "output_type": "display_data"
    },
    {
     "data": {
      "text/html": [],
      "text/plain": [
       "<IPython.core.display.HTML object>"
      ]
     },
     "metadata": {},
     "output_type": "display_data"
    },
    {
     "data": {
      "text/html": [
       "<pre style=\"white-space:pre;overflow-x:auto;line-height:normal;font-family:Menlo,'DejaVu Sans Mono',consolas,'Courier New',monospace\"><span style=\"color: #7fbfbf; text-decoration-color: #7fbfbf\">[10:40:20] </span><span style=\"color: #000080; text-decoration-color: #000080\">INFO    </span> Using auto-detected learning rate: 0.0012022644514217973                                       \n",
       "</pre>\n"
      ],
      "text/plain": [
       "\u001b[2;36m[10:40:20]\u001b[0m\u001b[2;36m \u001b[0m\u001b[34mINFO    \u001b[0m Using auto-detected learning rate: 0.0012022644514217973                                       \n"
      ]
     },
     "metadata": {},
     "output_type": "display_data"
    },
    {
     "data": {
      "text/html": [
       "\n",
       "<style>\n",
       "    /* Turns off some styling */\n",
       "    progress {\n",
       "        /* gets rid of default border in Firefox and Opera. */\n",
       "        border: none;\n",
       "        /* Needs to be in here for Safari polyfill so background images work as expected. */\n",
       "        background-size: auto;\n",
       "    }\n",
       "    progress:not([value]), progress:not([value])::-webkit-progress-bar {\n",
       "        background: repeating-linear-gradient(45deg, #7e7e7e, #7e7e7e 10px, #5c5c5c 10px, #5c5c5c 20px);\n",
       "    }\n",
       "    .progress-bar-interrupted, .progress-bar-interrupted::-webkit-progress-bar {\n",
       "        background: #F44336;\n",
       "    }\n",
       "</style>\n"
      ],
      "text/plain": [
       "<IPython.core.display.HTML object>"
      ]
     },
     "metadata": {},
     "output_type": "display_data"
    },
    {
     "data": {
      "text/html": [
       "<table border=\"1\" class=\"dataframe\">\n",
       "  <thead>\n",
       "    <tr style=\"text-align: left;\">\n",
       "      <th>epoch</th>\n",
       "      <th>train_loss</th>\n",
       "      <th>valid_loss</th>\n",
       "      <th>roc_auc_score</th>\n",
       "      <th>time</th>\n",
       "    </tr>\n",
       "  </thead>\n",
       "  <tbody>\n",
       "    <tr>\n",
       "      <td>0</td>\n",
       "      <td>0.339066</td>\n",
       "      <td>0.397487</td>\n",
       "      <td>1.000000</td>\n",
       "      <td>00:00</td>\n",
       "    </tr>\n",
       "    <tr>\n",
       "      <td>1</td>\n",
       "      <td>0.320226</td>\n",
       "      <td>0.398026</td>\n",
       "      <td>1.000000</td>\n",
       "      <td>00:00</td>\n",
       "    </tr>\n",
       "  </tbody>\n",
       "</table>"
      ],
      "text/plain": [
       "<IPython.core.display.HTML object>"
      ]
     },
     "metadata": {},
     "output_type": "display_data"
    },
    {
     "name": "stdout",
     "output_type": "stream",
     "text": [
      "Better model found at epoch 0 with roc_auc_score value: 1.0.\n"
     ]
    },
    {
     "data": {
      "text/html": [
       "<pre style=\"white-space:pre;overflow-x:auto;line-height:normal;font-family:Menlo,'DejaVu Sans Mono',consolas,'Courier New',monospace\"><span style=\"color: #7fbfbf; text-decoration-color: #7fbfbf\">[10:40:22] </span><span style=\"color: #000080; text-decoration-color: #000080\">INFO    </span> Predictions saved to                                                                           \n",
       "<span style=\"color: #7fbfbf; text-decoration-color: #7fbfbf\">           </span>         <span style=\"color: #008000; text-decoration-color: #008000\">/mnt/labshare/DL_OTHER/TEST_PROJECTS/TEST_PROJECT/mil/00021-ctranspath_attention_mil_patient_au</span>\n",
       "<span style=\"color: #7fbfbf; text-decoration-color: #7fbfbf\">           </span>         <span style=\"color: #008000; text-decoration-color: #008000\">c/predictions.parquet</span>                                                                          \n",
       "</pre>\n"
      ],
      "text/plain": [
       "\u001b[2;36m[10:40:22]\u001b[0m\u001b[2;36m \u001b[0m\u001b[34mINFO    \u001b[0m Predictions saved to                                                                           \n",
       "\u001b[2;36m           \u001b[0m         \u001b[32m/mnt/labshare/DL_OTHER/TEST_PROJECTS/TEST_PROJECT/mil/00021-ctranspath_attention_mil_patient_au\u001b[0m\n",
       "\u001b[2;36m           \u001b[0m         \u001b[32mc/predictions.parquet\u001b[0m                                                                          \n"
      ]
     },
     "metadata": {},
     "output_type": "display_data"
    },
    {
     "data": {
      "text/html": [
       "<pre style=\"white-space:pre;overflow-x:auto;line-height:normal;font-family:Menlo,'DejaVu Sans Mono',consolas,'Courier New',monospace\"><span style=\"color: #7fbfbf; text-decoration-color: #7fbfbf\">           </span><span style=\"color: #000080; text-decoration-color: #000080\">INFO    </span> Validation metrics for outcome <span style=\"color: #008000; text-decoration-color: #008000\">cohort</span>:                                                         \n",
       "</pre>\n"
      ],
      "text/plain": [
       "\u001b[2;36m          \u001b[0m\u001b[2;36m \u001b[0m\u001b[34mINFO    \u001b[0m Validation metrics for outcome \u001b[32mcohort\u001b[0m:                                                         \n"
      ]
     },
     "metadata": {},
     "output_type": "display_data"
    },
    {
     "data": {
      "text/html": [
       "<pre style=\"white-space:pre;overflow-x:auto;line-height:normal;font-family:Menlo,'DejaVu Sans Mono',consolas,'Courier New',monospace\"><span style=\"color: #7fbfbf; text-decoration-color: #7fbfbf\">           </span><span style=\"color: #000080; text-decoration-color: #000080\">INFO    </span> slide-level AUC (cat # 0): 1.000 AP: 1.000 (opt. threshold: 0.504)                             \n",
       "</pre>\n"
      ],
      "text/plain": [
       "\u001b[2;36m          \u001b[0m\u001b[2;36m \u001b[0m\u001b[34mINFO    \u001b[0m slide-level AUC (cat # 0): 1.000 AP: 1.000 (opt. threshold: 0.504)                             \n"
      ]
     },
     "metadata": {},
     "output_type": "display_data"
    },
    {
     "data": {
      "text/html": [
       "<pre style=\"white-space:pre;overflow-x:auto;line-height:normal;font-family:Menlo,'DejaVu Sans Mono',consolas,'Courier New',monospace\"><span style=\"color: #7fbfbf; text-decoration-color: #7fbfbf\">           </span><span style=\"color: #000080; text-decoration-color: #000080\">INFO    </span> slide-level AUC (cat # 1): 1.000 AP: 1.000 (opt. threshold: 0.501)                             \n",
       "</pre>\n"
      ],
      "text/plain": [
       "\u001b[2;36m          \u001b[0m\u001b[2;36m \u001b[0m\u001b[34mINFO    \u001b[0m slide-level AUC (cat # 1): 1.000 AP: 1.000 (opt. threshold: 0.501)                             \n"
      ]
     },
     "metadata": {},
     "output_type": "display_data"
    },
    {
     "data": {
      "text/html": [
       "<pre style=\"white-space:pre;overflow-x:auto;line-height:normal;font-family:Menlo,'DejaVu Sans Mono',consolas,'Courier New',monospace\"><span style=\"color: #7fbfbf; text-decoration-color: #7fbfbf\">           </span><span style=\"color: #000080; text-decoration-color: #000080\">INFO    </span> Category 0 acc: 100.0% (3/3)                                                                   \n",
       "</pre>\n"
      ],
      "text/plain": [
       "\u001b[2;36m          \u001b[0m\u001b[2;36m \u001b[0m\u001b[34mINFO    \u001b[0m Category 0 acc: 100.0% (3/3)                                                                   \n"
      ]
     },
     "metadata": {},
     "output_type": "display_data"
    },
    {
     "data": {
      "text/html": [
       "<pre style=\"white-space:pre;overflow-x:auto;line-height:normal;font-family:Menlo,'DejaVu Sans Mono',consolas,'Courier New',monospace\"><span style=\"color: #7fbfbf; text-decoration-color: #7fbfbf\">           </span><span style=\"color: #000080; text-decoration-color: #000080\">INFO    </span> Category 1 acc: 100.0% (1/1)                                                                   \n",
       "</pre>\n"
      ],
      "text/plain": [
       "\u001b[2;36m          \u001b[0m\u001b[2;36m \u001b[0m\u001b[34mINFO    \u001b[0m Category 1 acc: 100.0% (1/1)                                                                   \n"
      ]
     },
     "metadata": {},
     "output_type": "display_data"
    },
    {
     "data": {
      "text/html": [
       "<pre style=\"white-space:pre;overflow-x:auto;line-height:normal;font-family:Menlo,'DejaVu Sans Mono',consolas,'Courier New',monospace\"><span style=\"color: #7fbfbf; text-decoration-color: #7fbfbf\">           </span><span style=\"color: #000080; text-decoration-color: #000080\">INFO    </span> Attention scores exported to                                                                   \n",
       "<span style=\"color: #7fbfbf; text-decoration-color: #7fbfbf\">           </span>         <span style=\"color: #008000; text-decoration-color: #008000\">/mnt/labshare/DL_OTHER/TEST_PROJECTS/TEST_PROJECT/mil/00021-ctranspath_attention_mil_patient_au</span>\n",
       "<span style=\"color: #7fbfbf; text-decoration-color: #7fbfbf\">           </span>         <span style=\"color: #008000; text-decoration-color: #008000\">c/attention/TCGA-NC-A5HG-01Z-00-DX1.129E83E5-1C4D-4B31-8750-64D10A65267F_att.npz</span>               \n",
       "</pre>\n"
      ],
      "text/plain": [
       "\u001b[2;36m          \u001b[0m\u001b[2;36m \u001b[0m\u001b[34mINFO    \u001b[0m Attention scores exported to                                                                   \n",
       "\u001b[2;36m           \u001b[0m         \u001b[32m/mnt/labshare/DL_OTHER/TEST_PROJECTS/TEST_PROJECT/mil/00021-ctranspath_attention_mil_patient_au\u001b[0m\n",
       "\u001b[2;36m           \u001b[0m         \u001b[32mc/attention/TCGA-NC-A5HG-01Z-00-DX1.129E83E5-1C4D-4B31-8750-64D10A65267F_att.npz\u001b[0m               \n"
      ]
     },
     "metadata": {},
     "output_type": "display_data"
    },
    {
     "data": {
      "text/plain": [
       "<fastai.learner.Learner at 0x7f2d0ac69850>"
      ]
     },
     "execution_count": 8,
     "metadata": {},
     "output_type": "execute_result"
    }
   ],
   "source": [
    "model = 'attention_mil'\n",
    "config = mil_config(\n",
    "    model, bag_size=4, batch_size=2, epochs=2,\n",
    "\n",
    "    # aggregation_level='patient',\n",
    "    save_monitor='roc_auc_score'\n",
    ")\n",
    "\n",
    "P.train_mil(\n",
    "    config=config,\n",
    "    exp_label=f'{extractor}_{model}_patient_auc',\n",
    "    outcomes='cohort',\n",
    "    train_dataset=train_dataset,\n",
    "    val_dataset=val_dataset,\n",
    "    bags=project_root + f'/features/{extractor}/torch'\n",
    ")\n",
    "\n",
    "# Note: aggregation Level and Save Monitor have nothing to do with each other.\n",
    "#       I just wanted to make the tutorial shorter."
   ]
  },
  {
   "cell_type": "markdown",
   "metadata": {},
   "source": [
    "## Other Configurable Parameters\n",
    "\n",
    "Aside from `epoch`, `bag_size`, `batch_size` - which we have been specifying to \n",
    "have the cell run fast and work on a small test dataset -\n",
    "MIL models have many other parameters that can be adjusted to optimize performance.\n",
    "Here's an example of how to modify some of these parameters:"
   ]
  },
  {
   "cell_type": "code",
   "execution_count": 10,
   "metadata": {},
   "outputs": [
    {
     "data": {
      "text/html": [
       "<pre style=\"white-space:pre;overflow-x:auto;line-height:normal;font-family:Menlo,'DejaVu Sans Mono',consolas,'Courier New',monospace\"><span style=\"color: #7fbfbf; text-decoration-color: #7fbfbf\">[10:44:30] </span><span style=\"color: #000080; text-decoration-color: #000080\">INFO    </span> Training FastAI MIL model with config:                                                         \n",
       "</pre>\n"
      ],
      "text/plain": [
       "\u001b[2;36m[10:44:30]\u001b[0m\u001b[2;36m \u001b[0m\u001b[34mINFO    \u001b[0m Training FastAI MIL model with config:                                                         \n"
      ]
     },
     "metadata": {},
     "output_type": "display_data"
    },
    {
     "data": {
      "text/html": [
       "<pre style=\"white-space:pre;overflow-x:auto;line-height:normal;font-family:Menlo,'DejaVu Sans Mono',consolas,'Courier New',monospace\"><span style=\"color: #7fbfbf; text-decoration-color: #7fbfbf\">           </span><span style=\"color: #000080; text-decoration-color: #000080\">INFO    </span> TrainerConfig(                                                                                 \n",
       "<span style=\"color: #7fbfbf; text-decoration-color: #7fbfbf\">           </span>           lr=0.001                                                                                     \n",
       "<span style=\"color: #7fbfbf; text-decoration-color: #7fbfbf\">           </span>           wd=1e-05                                                                                     \n",
       "<span style=\"color: #7fbfbf; text-decoration-color: #7fbfbf\">           </span>           bag_size=4                                                                                   \n",
       "<span style=\"color: #7fbfbf; text-decoration-color: #7fbfbf\">           </span>           max_val_bag_size=None                                                                        \n",
       "<span style=\"color: #7fbfbf; text-decoration-color: #7fbfbf\">           </span>           fit_one_cycle=True                                                                           \n",
       "<span style=\"color: #7fbfbf; text-decoration-color: #7fbfbf\">           </span>           epochs=3                                                                                     \n",
       "<span style=\"color: #7fbfbf; text-decoration-color: #7fbfbf\">           </span>           batch_size=2                                                                                 \n",
       "<span style=\"color: #7fbfbf; text-decoration-color: #7fbfbf\">           </span>           drop_last=True                                                                               \n",
       "<span style=\"color: #7fbfbf; text-decoration-color: #7fbfbf\">           </span>           save_monitor='valid_loss'                                                                    \n",
       "<span style=\"color: #7fbfbf; text-decoration-color: #7fbfbf\">           </span>           weighted_loss=True                                                                           \n",
       "<span style=\"color: #7fbfbf; text-decoration-color: #7fbfbf\">           </span>           model='attention_mil'                                                                        \n",
       "<span style=\"color: #7fbfbf; text-decoration-color: #7fbfbf\">           </span>           model_kwargs=None                                                                            \n",
       "<span style=\"color: #7fbfbf; text-decoration-color: #7fbfbf\">           </span>           loss='cross_entropy'                                                                         \n",
       "<span style=\"color: #7fbfbf; text-decoration-color: #7fbfbf\">           </span>           use_lens=True                                                                                \n",
       "<span style=\"color: #7fbfbf; text-decoration-color: #7fbfbf\">           </span>         )                                                                                              \n",
       "</pre>\n"
      ],
      "text/plain": [
       "\u001b[2;36m          \u001b[0m\u001b[2;36m \u001b[0m\u001b[34mINFO    \u001b[0m TrainerConfig(                                                                                 \n",
       "\u001b[2;36m           \u001b[0m           lr=0.001                                                                                     \n",
       "\u001b[2;36m           \u001b[0m           wd=1e-05                                                                                     \n",
       "\u001b[2;36m           \u001b[0m           bag_size=4                                                                                   \n",
       "\u001b[2;36m           \u001b[0m           max_val_bag_size=None                                                                        \n",
       "\u001b[2;36m           \u001b[0m           fit_one_cycle=True                                                                           \n",
       "\u001b[2;36m           \u001b[0m           epochs=3                                                                                     \n",
       "\u001b[2;36m           \u001b[0m           batch_size=2                                                                                 \n",
       "\u001b[2;36m           \u001b[0m           drop_last=True                                                                               \n",
       "\u001b[2;36m           \u001b[0m           save_monitor='valid_loss'                                                                    \n",
       "\u001b[2;36m           \u001b[0m           weighted_loss=True                                                                           \n",
       "\u001b[2;36m           \u001b[0m           model='attention_mil'                                                                        \n",
       "\u001b[2;36m           \u001b[0m           model_kwargs=None                                                                            \n",
       "\u001b[2;36m           \u001b[0m           loss='cross_entropy'                                                                         \n",
       "\u001b[2;36m           \u001b[0m           use_lens=True                                                                                \n",
       "\u001b[2;36m           \u001b[0m         )                                                                                              \n"
      ]
     },
     "metadata": {},
     "output_type": "display_data"
    },
    {
     "data": {
      "text/html": [
       "<pre style=\"white-space:pre;overflow-x:auto;line-height:normal;font-family:Menlo,'DejaVu Sans Mono',consolas,'Courier New',monospace\"><span style=\"color: #7fbfbf; text-decoration-color: #7fbfbf\">           </span><span style=\"color: #000080; text-decoration-color: #000080\">INFO    </span> Training dataset: 6 merged bags (from 6 possible slides)                                       \n",
       "</pre>\n"
      ],
      "text/plain": [
       "\u001b[2;36m          \u001b[0m\u001b[2;36m \u001b[0m\u001b[34mINFO    \u001b[0m Training dataset: 6 merged bags (from 6 possible slides)                                       \n"
      ]
     },
     "metadata": {},
     "output_type": "display_data"
    },
    {
     "data": {
      "text/html": [
       "<pre style=\"white-space:pre;overflow-x:auto;line-height:normal;font-family:Menlo,'DejaVu Sans Mono',consolas,'Courier New',monospace\"><span style=\"color: #7fbfbf; text-decoration-color: #7fbfbf\">           </span><span style=\"color: #000080; text-decoration-color: #000080\">INFO    </span> Validation dataset: 4 merged bags (from 4 possible slides)                                     \n",
       "</pre>\n"
      ],
      "text/plain": [
       "\u001b[2;36m          \u001b[0m\u001b[2;36m \u001b[0m\u001b[34mINFO    \u001b[0m Validation dataset: 4 merged bags (from 4 possible slides)                                     \n"
      ]
     },
     "metadata": {},
     "output_type": "display_data"
    },
    {
     "data": {
      "text/html": [
       "<pre style=\"white-space:pre;overflow-x:auto;line-height:normal;font-family:Menlo,'DejaVu Sans Mono',consolas,'Courier New',monospace\"><span style=\"color: #7fbfbf; text-decoration-color: #7fbfbf\">           </span><span style=\"color: #000080; text-decoration-color: #000080\">INFO    </span> Building model <span style=\"font-weight: bold\">Attention_MIL</span> (n_in=768, n_out=2)                                               \n",
       "</pre>\n"
      ],
      "text/plain": [
       "\u001b[2;36m          \u001b[0m\u001b[2;36m \u001b[0m\u001b[34mINFO    \u001b[0m Building model \u001b[1mAttention_MIL\u001b[0m (n_in=768, n_out=2)                                               \n"
      ]
     },
     "metadata": {},
     "output_type": "display_data"
    },
    {
     "data": {
      "text/html": [
       "\n",
       "<style>\n",
       "    /* Turns off some styling */\n",
       "    progress {\n",
       "        /* gets rid of default border in Firefox and Opera. */\n",
       "        border: none;\n",
       "        /* Needs to be in here for Safari polyfill so background images work as expected. */\n",
       "        background-size: auto;\n",
       "    }\n",
       "    progress:not([value]), progress:not([value])::-webkit-progress-bar {\n",
       "        background: repeating-linear-gradient(45deg, #7e7e7e, #7e7e7e 10px, #5c5c5c 10px, #5c5c5c 20px);\n",
       "    }\n",
       "    .progress-bar-interrupted, .progress-bar-interrupted::-webkit-progress-bar {\n",
       "        background: #F44336;\n",
       "    }\n",
       "</style>\n"
      ],
      "text/plain": [
       "<IPython.core.display.HTML object>"
      ]
     },
     "metadata": {},
     "output_type": "display_data"
    },
    {
     "data": {
      "text/html": [
       "<table border=\"1\" class=\"dataframe\">\n",
       "  <thead>\n",
       "    <tr style=\"text-align: left;\">\n",
       "      <th>epoch</th>\n",
       "      <th>train_loss</th>\n",
       "      <th>valid_loss</th>\n",
       "      <th>roc_auc_score</th>\n",
       "      <th>time</th>\n",
       "    </tr>\n",
       "  </thead>\n",
       "  <tbody>\n",
       "    <tr>\n",
       "      <td>0</td>\n",
       "      <td>0.467339</td>\n",
       "      <td>0.385258</td>\n",
       "      <td>0.666667</td>\n",
       "      <td>00:00</td>\n",
       "    </tr>\n",
       "    <tr>\n",
       "      <td>1</td>\n",
       "      <td>0.366860</td>\n",
       "      <td>0.383177</td>\n",
       "      <td>1.000000</td>\n",
       "      <td>00:00</td>\n",
       "    </tr>\n",
       "    <tr>\n",
       "      <td>2</td>\n",
       "      <td>0.285895</td>\n",
       "      <td>0.382503</td>\n",
       "      <td>0.666667</td>\n",
       "      <td>00:00</td>\n",
       "    </tr>\n",
       "  </tbody>\n",
       "</table>"
      ],
      "text/plain": [
       "<IPython.core.display.HTML object>"
      ]
     },
     "metadata": {},
     "output_type": "display_data"
    },
    {
     "name": "stdout",
     "output_type": "stream",
     "text": [
      "Better model found at epoch 0 with valid_loss value: 0.38525834679603577.\n",
      "Better model found at epoch 1 with valid_loss value: 0.3831765651702881.\n",
      "Better model found at epoch 2 with valid_loss value: 0.38250330090522766.\n"
     ]
    },
    {
     "data": {
      "text/html": [
       "<pre style=\"white-space:pre;overflow-x:auto;line-height:normal;font-family:Menlo,'DejaVu Sans Mono',consolas,'Courier New',monospace\"><span style=\"color: #7fbfbf; text-decoration-color: #7fbfbf\">[10:44:34] </span><span style=\"color: #000080; text-decoration-color: #000080\">INFO    </span> Predictions saved to                                                                           \n",
       "<span style=\"color: #7fbfbf; text-decoration-color: #7fbfbf\">           </span>         <span style=\"color: #008000; text-decoration-color: #008000\">/mnt/labshare/DL_OTHER/TEST_PROJECTS/TEST_PROJECT/mil/00023-ctranspath_attention_mil_custom/pre</span>\n",
       "<span style=\"color: #7fbfbf; text-decoration-color: #7fbfbf\">           </span>         <span style=\"color: #008000; text-decoration-color: #008000\">dictions.parquet</span>                                                                               \n",
       "</pre>\n"
      ],
      "text/plain": [
       "\u001b[2;36m[10:44:34]\u001b[0m\u001b[2;36m \u001b[0m\u001b[34mINFO    \u001b[0m Predictions saved to                                                                           \n",
       "\u001b[2;36m           \u001b[0m         \u001b[32m/mnt/labshare/DL_OTHER/TEST_PROJECTS/TEST_PROJECT/mil/00023-ctranspath_attention_mil_custom/pre\u001b[0m\n",
       "\u001b[2;36m           \u001b[0m         \u001b[32mdictions.parquet\u001b[0m                                                                               \n"
      ]
     },
     "metadata": {},
     "output_type": "display_data"
    },
    {
     "data": {
      "text/html": [
       "<pre style=\"white-space:pre;overflow-x:auto;line-height:normal;font-family:Menlo,'DejaVu Sans Mono',consolas,'Courier New',monospace\"><span style=\"color: #7fbfbf; text-decoration-color: #7fbfbf\">           </span><span style=\"color: #000080; text-decoration-color: #000080\">INFO    </span> Validation metrics for outcome <span style=\"color: #008000; text-decoration-color: #008000\">cohort</span>:                                                         \n",
       "</pre>\n"
      ],
      "text/plain": [
       "\u001b[2;36m          \u001b[0m\u001b[2;36m \u001b[0m\u001b[34mINFO    \u001b[0m Validation metrics for outcome \u001b[32mcohort\u001b[0m:                                                         \n"
      ]
     },
     "metadata": {},
     "output_type": "display_data"
    },
    {
     "data": {
      "text/html": [
       "<pre style=\"white-space:pre;overflow-x:auto;line-height:normal;font-family:Menlo,'DejaVu Sans Mono',consolas,'Courier New',monospace\"><span style=\"color: #7fbfbf; text-decoration-color: #7fbfbf\">           </span><span style=\"color: #000080; text-decoration-color: #000080\">INFO    </span> slide-level AUC (cat # 0): 0.667 AP: 0.917 (opt. threshold: 0.527)                             \n",
       "</pre>\n"
      ],
      "text/plain": [
       "\u001b[2;36m          \u001b[0m\u001b[2;36m \u001b[0m\u001b[34mINFO    \u001b[0m slide-level AUC (cat # 0): 0.667 AP: 0.917 (opt. threshold: 0.527)                             \n"
      ]
     },
     "metadata": {},
     "output_type": "display_data"
    },
    {
     "data": {
      "text/html": [
       "<pre style=\"white-space:pre;overflow-x:auto;line-height:normal;font-family:Menlo,'DejaVu Sans Mono',consolas,'Courier New',monospace\"><span style=\"color: #7fbfbf; text-decoration-color: #7fbfbf\">           </span><span style=\"color: #000080; text-decoration-color: #000080\">INFO    </span> slide-level AUC (cat # 1): 0.667 AP: 0.500 (opt. threshold: 0.480)                             \n",
       "</pre>\n"
      ],
      "text/plain": [
       "\u001b[2;36m          \u001b[0m\u001b[2;36m \u001b[0m\u001b[34mINFO    \u001b[0m slide-level AUC (cat # 1): 0.667 AP: 0.500 (opt. threshold: 0.480)                             \n"
      ]
     },
     "metadata": {},
     "output_type": "display_data"
    },
    {
     "data": {
      "text/html": [
       "<pre style=\"white-space:pre;overflow-x:auto;line-height:normal;font-family:Menlo,'DejaVu Sans Mono',consolas,'Courier New',monospace\"><span style=\"color: #7fbfbf; text-decoration-color: #7fbfbf\">           </span><span style=\"color: #000080; text-decoration-color: #000080\">INFO    </span> Category 0 acc: 100.0% (3/3)                                                                   \n",
       "</pre>\n"
      ],
      "text/plain": [
       "\u001b[2;36m          \u001b[0m\u001b[2;36m \u001b[0m\u001b[34mINFO    \u001b[0m Category 0 acc: 100.0% (3/3)                                                                   \n"
      ]
     },
     "metadata": {},
     "output_type": "display_data"
    },
    {
     "data": {
      "text/html": [
       "<pre style=\"white-space:pre;overflow-x:auto;line-height:normal;font-family:Menlo,'DejaVu Sans Mono',consolas,'Courier New',monospace\"><span style=\"color: #7fbfbf; text-decoration-color: #7fbfbf\">           </span><span style=\"color: #000080; text-decoration-color: #000080\">INFO    </span> Category 1 acc: 0.0% (0/1)                                                                     \n",
       "</pre>\n"
      ],
      "text/plain": [
       "\u001b[2;36m          \u001b[0m\u001b[2;36m \u001b[0m\u001b[34mINFO    \u001b[0m Category 1 acc: 0.0% (0/1)                                                                     \n"
      ]
     },
     "metadata": {},
     "output_type": "display_data"
    },
    {
     "data": {
      "text/html": [
       "<pre style=\"white-space:pre;overflow-x:auto;line-height:normal;font-family:Menlo,'DejaVu Sans Mono',consolas,'Courier New',monospace\"><span style=\"color: #7fbfbf; text-decoration-color: #7fbfbf\">           </span><span style=\"color: #000080; text-decoration-color: #000080\">INFO    </span> Attention scores exported to                                                                   \n",
       "<span style=\"color: #7fbfbf; text-decoration-color: #7fbfbf\">           </span>         <span style=\"color: #008000; text-decoration-color: #008000\">/mnt/labshare/DL_OTHER/TEST_PROJECTS/TEST_PROJECT/mil/00023-ctranspath_attention_mil_custom/att</span>\n",
       "<span style=\"color: #7fbfbf; text-decoration-color: #7fbfbf\">           </span>         <span style=\"color: #008000; text-decoration-color: #008000\">ention/TCGA-NC-A5HG-01Z-00-DX1.129E83E5-1C4D-4B31-8750-64D10A65267F_att.npz</span>                    \n",
       "</pre>\n"
      ],
      "text/plain": [
       "\u001b[2;36m          \u001b[0m\u001b[2;36m \u001b[0m\u001b[34mINFO    \u001b[0m Attention scores exported to                                                                   \n",
       "\u001b[2;36m           \u001b[0m         \u001b[32m/mnt/labshare/DL_OTHER/TEST_PROJECTS/TEST_PROJECT/mil/00023-ctranspath_attention_mil_custom/att\u001b[0m\n",
       "\u001b[2;36m           \u001b[0m         \u001b[32mention/TCGA-NC-A5HG-01Z-00-DX1.129E83E5-1C4D-4B31-8750-64D10A65267F_att.npz\u001b[0m                    \n"
      ]
     },
     "metadata": {},
     "output_type": "display_data"
    },
    {
     "data": {
      "text/plain": [
       "<fastai.learner.Learner at 0x7f2ceaee3820>"
      ]
     },
     "execution_count": 10,
     "metadata": {},
     "output_type": "execute_result"
    }
   ],
   "source": [
    "config = mil_config(\n",
    "    model,\n",
    "    lr=1e-3,\n",
    "    bag_size=4,\n",
    "    epochs=3,\n",
    "    batch_size=2\n",
    ")\n",
    "\n",
    "P.train_mil(\n",
    "    config=config,\n",
    "    exp_label=f'{extractor}_{model}_custom',\n",
    "    outcomes='cohort',\n",
    "    train_dataset=train_dataset,\n",
    "    val_dataset=val_dataset,\n",
    "    bags=project_root + f'/features/{extractor}/torch'\n",
    ")"
   ]
  },
  {
   "cell_type": "markdown",
   "metadata": {},
   "source": [
    "## Clean up\n",
    "remove all folder in `/mnt/labshare/DL_OTHER/TEST_PROJECTS/TEST_PROJECT/mil` except \n",
    "`00000-ctranspath_attention_mil`"
   ]
  },
  {
   "cell_type": "code",
   "execution_count": 12,
   "metadata": {},
   "outputs": [
    {
     "name": "stdout",
     "output_type": "stream",
     "text": [
      "['00022-ctranspath_attention_mil_custom', '00020-ctranspath_attention_mil', '00019-ctranspath_transmil', '00016-ctranspath_attention_mil_fold0', '00017-ctranspath_attention_mil_fold1', '00000-ctranspath_attention_mil', '00018-ctranspath_attention_mil', '00021-ctranspath_attention_mil_patient_auc', '00023-ctranspath_attention_mil_custom']\n",
      "['00000-ctranspath_attention_mil']\n"
     ]
    }
   ],
   "source": [
    "import shutil\n",
    "\n",
    "# Define the path to the folder\n",
    "folder_path = '/mnt/labshare/DL_OTHER/TEST_PROJECTS/TEST_PROJECT/mil'\n",
    "\n",
    "# List all directories in the folder\n",
    "directories = [d for d in os.listdir(folder_path) if os.path.isdir(os.path.join(folder_path, d))]\n",
    "print(directories)\n",
    "\n",
    "# Remove all directories except the one that has the name '00000-ctranspath_attention_mil'\n",
    "for directory in directories:\n",
    "    if directory != '00000-ctranspath_attention_mil':\n",
    "        shutil.rmtree(os.path.join(folder_path, directory))\n",
    "\n",
    "# print all folders in /mnt/labshare/DL_OTHER/TEST_PROJECTS/TEST_PROJECT/mil\n",
    "print(os.listdir('/mnt/labshare/DL_OTHER/TEST_PROJECTS/TEST_PROJECT/mil')) "
   ]
  }
 ],
 "metadata": {
  "kernelspec": {
   "display_name": "sf",
   "language": "python",
   "name": "python3"
  },
  "language_info": {
   "codemirror_mode": {
    "name": "ipython",
    "version": 3
   },
   "file_extension": ".py",
   "mimetype": "text/x-python",
   "name": "python",
   "nbconvert_exporter": "python",
   "pygments_lexer": "ipython3",
   "version": "3.9.18"
  }
 },
 "nbformat": 4,
 "nbformat_minor": 2
}
