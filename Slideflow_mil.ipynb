{
 "cells": [
  {
   "cell_type": "markdown",
   "metadata": {},
   "source": [
    "# MIL (Multiple Instance Learning) Tutorial\n",
    "\n",
    "This tutorial demonstrates how to use Multiple Instance Learning (MIL) models with Slideflow for digital pathology tasks. \n",
    "\n",
    "## Setting up the environment\n",
    "\n",
    "First, let's import the necessary libraries and set up our project."
   ]
  },
  {
   "cell_type": "code",
   "execution_count": null,
   "metadata": {},
   "outputs": [],
   "source": [
    "# Set environment variables with os package\n",
    "import os\n",
    "import slideflow as sf\n",
    "from slideflow.mil import mil_config\n",
    "\n",
    "# Set verbose logging\n",
    "import logging\n",
    "logging.getLogger('slideflow').setLevel(logging.INFO)\n",
    "os.environ['TF_CPP_MIN_LOG_LEVEL'] = '10'\n",
    "import sys\n",
    "sys.stderr = sys.__stdout__\n",
    "\n",
    "# Check if slideflow was properly installed\n",
    "sf.about()\n",
    "\n",
    "# Initialize the project\n",
    "project_root = '/mnt/labshare/PROJECTS/TEST_PROJECTS/TEST_PROJECT'\n",
    "P = sf.Project(root=project_root)"
   ]
  },
  {
   "cell_type": "markdown",
   "metadata": {},
   "source": [
    "<a id='project'></a>\n",
    "### Getting Started with a Slideflow Project"
   ]
  },
  {
   "cell_type": "code",
   "execution_count": 2,
   "cell_type": "markdown",
   "metadata": {},
   "source": [
    "This tutorial assumes that you have already created a project folder. Once the project has been created and you have specified the paths to datasets, annotation files, etc. we will begin by initializing a Slideflow Project object."
   ]
  },
  {
   "cell_type": "code",
   "execution_count": null,
   "metadata": {},
   "outputs": [],
   "source": [
    "# Set root paths\n",
    "username = \"skochanny\" # change me\n",
    "root_path = f'/scratch/{username}/PROJECTS'\n",
    "labshare_path = '/gpfs/data/pearson-lab/'\n",
    "project_name = \"TEST_PROJECT\"\n",
    "project_root_path = f\"{root_path}/{project_name}\"\n",
    "\n",
    "# Initialize the Project class object\n",
    "P = sf.Project(project_root_path)"
   ]
  },
  {
   "cell_type": "markdown",
   "metadata": {},
   "source": [
    "### Save features bags as torch tensors"
   ]
  },
  {
   "cell_type": "markdown",
   "metadata": {},
   "source": [
    "When generating feature bags, make sure to save them as torch tensors (see `feature_extraction.ipynb` tutorial).\n",
    "\n",
    "I commented out the code because the features should already be saved. "
   ]
  },
  {
   "cell_type": "code",
   "execution_count": 12,
   "metadata": {},
   "outputs": [],
   "source": [
    "# extractor = 'ctranspath' # change me\n",
    "# weights_path = f'/mnt/labshare/MODELS/{extractor}/pytorch_model.bin'\n",
    "# dataset = P.dataset(tile_px=299, tile_um=302) # update to tile size extracted\n",
    "# extractor_model = sf.model.build_feature_extractor(extractor, center_crop=True)\n",
    "# features = sf.DatasetFeatures(extractor_model, dataset=dataset, normalizer='reinhard')\n",
    "# features.to_torch(project_root + f'/features/{extractor}/torch')"
   ]
  },
  {
   "cell_type": "markdown",
   "metadata": {},
   "source": [
    "### Splitting Data for Training and Validation\n",
    "\n",
    "There are different strategies for splitting data between training and validation sets. Here are some common approaches:"
   ]
  },
  {
   "cell_type": "code",
   "execution_count": null,
   "metadata": {},
   "outputs": [],
   "source": [
    "# Create dataset\n",
    "dataset = P.dataset(tile_px=299, tile_um=302)\n",
    "\n",
    "# Option 1: Using filters - assumes you have 'dataset' outcome header in annotations file\n",
    "train_dataset = P.dataset(tile_px=299, tile_um=302, filters={'dataset': 'train'})\n",
    "val_dataset = P.dataset(tile_px=299, tile_um=302, filters={'dataset': 'val'})\n",
    "\n",
    "# Option 2: Using k-fold cross-validation kfold_split()\n",
    "dataset = P.dataset(tile_px=299, tile_um=302)\n",
    "splits = dataset.kfold_split(k=2, splits='./splits.json')\n",
    "\n",
    "# Option 3: \n",
    "# Split a dataset into training and validation using 5-fold cross-validation, with this being the first cross-fold.\n",
    "train_n_val_dataset, test_dataset = dataset.split(\n",
    "    model_type='classification', # Categorical labels\n",
    "    labels='storrc_group',       # Label to balance between datasets\n",
    "    val_fraction=0.1             # fraction to use for testing\n",
    ")\n",
    "\n",
    "train_dataset, val_dataset = dataset.split(\n",
    "    model_type='classification', # Categorical labels\n",
    "    labels='storrc_group',       # Label to balance between datasets\n",
    "    val_fraction=0.3             # fraction to use for testing\n",
    ")\n",
    "\n",
    "\n",
    "\n",
    "\n",
    "# k-fold cross-validation training\n",
    "extractor = 'ctranspath'\n",
    "model = 'attention_mil'\n",
    "config = mil_config(model, bag_size=4, batch_size=2, epochs=2)\n",
    "# FIXME: here bag_size, batch_size, and epochs are hardcoded to low values to \n",
    "#        make the tutorial run fast. Do not use these values.\n",
    "\n",
    "for i, (train, val) in enumerate(splits):\n",
    "    P.train_mil(\n",
    "        config=config,\n",
    "        exp_label=f'{extractor}_{model}',\n",
    "        outcomes='cohort',\n",
    "        train_dataset=train_dataset,\n",
    "        val_dataset=val_dataset,\n",
    "        bags=project_root + f'/features/{extractor}/torch'\n",
    "    )"
   ]
  },
  {
   "cell_type": "markdown",
   "metadata": {},
   "source": [
    "## Training a MIL Model\n",
    "\n",
    "Now, let's train a MIL model using the Attention MIL architecture."
   ]
  },
  {
   "cell_type": "code",
   "execution_count": null,
   "metadata": {},
   "outputs": [],
   "source": [
    "extractor = 'ctranspath'\n",
    "model = 'attention_mil'\n",
    "\n",
    "config = mil_config(model, epochs=2, bag_size=4, batch_size=2)\n",
    "\n",
    "P.train_mil(\n",
    "    config=config,\n",
    "    exp_label=f'{extractor}_{model}_patient_auc',\n",
    "    outcomes='cohort',\n",
    "    train_dataset=train_dataset,\n",
    "    val_dataset=val_dataset,\n",
    "    bags=project_root + f'/features/{extractor}/torch'\n",
    ")\n",
    "\n",
    "# Note: aggregation Level and Save Monitor have nothing to do with each other.\n",
    "#       I just wanted to make the tutorial shorter."
   ]
  },
  {
   "cell_type": "markdown",
   "metadata": {},
   "source": [
    "## Other Configurable Parameters\n",
    "\n",
    "Aside from `epoch`, `bag_size`, `batch_size` - which we have been specifying to \n",
    "have the cell run fast and work on a small test dataset -\n",
    "MIL models have many other parameters that can be adjusted to optimize performance.\n",
    "Here's an example of how to modify some of these parameters:"
   ]
  },
  {
   "cell_type": "code",
   "execution_count": null,
   "metadata": {},
   "outputs": [],
   "source": [
    "test_dataset = P.dataset(tile_px=299, tile_um=302, filters={'dataset': 'test'})\n",
    "\n",
    "df = P.evaluate_mil(\n",
    "    'mil/00000-virchow2_attention_mil', # path to model, or name of model in project/mil\n",
    "    outcomes='cohort',\n",
    "    dataset=test_dataset,\n",
    "    bags=project_root + f'/features/{extractor}/torch'\n",
    ")"
   ]
  },
  {
   "cell_type": "markdown",
   "metadata": {},
   "source": [
    "## Different MIL Model Architectures\n",
    "\n",
    "Slideflow supports various MIL architectures. Here are some examples:\n",
    "\n",
    "- Attention MIL\n",
    "- TransMIL\n",
    "- CLAM-SB\n",
    "\n",
    "Let's train models using different architectures:"
   ]
  },
  {
   "cell_type": "code",
   "execution_count": null,
   "metadata": {},
   "outputs": [],
   "source": [
    "models = ['attention_mil', 'transmil', 'clam_sb']\n",
    "\n",
    "for model in models:\n",
    "    config = mil_config(model, epochs=2)\n",
    "    P.train_mil(\n",
    "        config=config,\n",
    "        exp_label=f'{extractor}_{model}',\n",
    "        outcomes='adsq',\n",
    "        train_dataset=train_dataset,\n",
    "        val_dataset=val_dataset,\n",
    "        bags=project_root + f'/features/{extractor}/torch'\n",
    "    )"
   ]
  },
  {
   "cell_type": "markdown",
   "metadata": {},
   "source": [
    "## Aggregation Level\n",
    "\n",
    "The `aggregation_level` parameter determines how the bags are formed and how outcomes are assigned:\n",
    "\n",
    "- If `aggregation_level` is 'slide' (default), the bags are comprised of tiles from one slide, and there will be an outcome for each slide.\n",
    "- If `aggregation_level` is 'patient', the bags are comprised of tiles from all slides belonging to a patient, and there will be a single outcome for each patient. This only has an effect when all or some patients have multiple slides.\n",
    "\n",
    "## Save Monitor\n",
    "\n",
    "We can also change the `save_monitor` from the default 'loss' to 'roc_auc_score', in which case the model with the best AUC will be saved."
   ]
  },
  {
   "cell_type": "code",
   "execution_count": null,
   "metadata": {},
   "outputs": [],
   "source": [
    "config = mil_config(\n",
    "    model,\n",
    "    epochs=2,\n",
    "    aggregation_level='patient',\n",
    "    save_monitor='roc_auc_score'\n",
    ")\n",
    "\n",
    "P.train_mil(\n",
    "    config=config,\n",
    "    exp_label=f'{extractor}_{model}_patient_auc',\n",
    "    outcomes='adsq',\n",
    "    train_dataset=train_dataset,\n",
    "    val_dataset=val_dataset,\n",
    "    bags=project_root + f'/features/{extractor}/torch'\n",
    ")\n",
    "\n",
    "# Note: aggregation Level and Save Monitor have nothing to do with each other.\n",
    "#       I just wanted to make the tutorial shorter."
   ]
  },
  {
   "cell_type": "markdown",
   "metadata": {},
   "source": [
    "## Other Configurable Parameters\n",
    "\n",
    "Aside from `epoch` - which we have been specifying to have the cell run fast -\n",
    "MIL models have many other parameters that can be adjusted to optimize performance.\n",
    "Here's an example of how to modify some of these parameters:"
   ]
  },
  {
   "cell_type": "code",
   "execution_count": null,
   "metadata": {},
   "outputs": [],
   "source": [
    "config = mil_config(\n",
    "    model,\n",
    "    lr=1e-3,\n",
    "    bag_size=4,\n",
    "    epochs=3,\n",
    "    batch_size=2\n",
    ")\n",
    "\n",
    "P.train_mil(\n",
    "    config=config,\n",
    "    exp_label=f'{extractor}_{model}_custom',\n",
    "    outcomes='cohort',\n",
    "    train_dataset=train_dataset,\n",
    "    val_dataset=val_dataset,\n",
    "    bags=project_root + f'/features/{extractor}/torch'\n",
    ")"
   ]
  },
  {
   "cell_type": "markdown",
   "metadata": {},
   "source": [
    "## Clean up\n",
    "remove all folder in `/mnt/labshare/DL_OTHER/TEST_PROJECTS/TEST_PROJECT/mil` except \n",
    "`00000-ctranspath_attention_mil`"
   ]
  },
  {
   "cell_type": "code",
   "execution_count": 12,
   "metadata": {},
   "outputs": [
    {
     "name": "stdout",
     "output_type": "stream",
     "text": [
      "['00022-ctranspath_attention_mil_custom', '00020-ctranspath_attention_mil', '00019-ctranspath_transmil', '00016-ctranspath_attention_mil_fold0', '00017-ctranspath_attention_mil_fold1', '00000-ctranspath_attention_mil', '00018-ctranspath_attention_mil', '00021-ctranspath_attention_mil_patient_auc', '00023-ctranspath_attention_mil_custom']\n",
      "['00000-ctranspath_attention_mil']\n"
     ]
    }
   ],
   "source": [
    "import shutil\n",
    "\n",
    "# Define the path to the folder\n",
    "folder_path = '/mnt/labshare/DL_OTHER/TEST_PROJECTS/TEST_PROJECT/mil'\n",
    "\n",
    "# List all directories in the folder\n",
    "directories = [d for d in os.listdir(folder_path) if os.path.isdir(os.path.join(folder_path, d))]\n",
    "print(directories)\n",
    "\n",
    "# Remove all directories except the one that has the name '00000-ctranspath_attention_mil'\n",
    "for directory in directories:\n",
    "    if directory != '00000-ctranspath_attention_mil':\n",
    "        shutil.rmtree(os.path.join(folder_path, directory))\n",
    "\n",
    "# print all folders in /mnt/labshare/DL_OTHER/TEST_PROJECTS/TEST_PROJECT/mil\n",
    "print(os.listdir('/mnt/labshare/DL_OTHER/TEST_PROJECTS/TEST_PROJECT/mil')) "
   ]
  }
 ],
 "metadata": {
  "kernelspec": {
   "display_name": "sf",
   "language": "python",
   "name": "python3"
  },
  "language_info": {
   "codemirror_mode": {
    "name": "ipython",
    "version": 3
   },
   "file_extension": ".py",
   "mimetype": "text/x-python",
   "name": "python",
   "nbconvert_exporter": "python",
   "pygments_lexer": "ipython3",
   "version": "3.9.18"
  }
 },
 "nbformat": 4,
 "nbformat_minor": 2
}
