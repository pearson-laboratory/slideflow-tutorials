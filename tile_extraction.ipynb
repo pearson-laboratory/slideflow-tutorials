{
 "cells": [
  {
   "cell_type": "markdown",
   "metadata": {},
   "source": [
    "# Tile extraction"
   ]
  },
  {
   "cell_type": "markdown",
   "metadata": {},
   "source": [
    "### Import libraries"
   ]
  },
  {
   "cell_type": "markdown",
   "metadata": {},
   "source": [
    "Always the first step."
   ]
  },
  {
   "cell_type": "code",
   "execution_count": null,
   "metadata": {},
   "outputs": [],
   "source": [
    "# Set environment variables with os package\n",
    "import os\n",
    "os.environ['SF_BACKEND'] = 'torch' # Alternative is 'tensorflow'\n",
    "os.environ['SF_SLIDE_BACKEND'] = 'cucim' # Alternative is 'libvips'\n",
    "os.environ['CUDA_VISIBLE_DEVICES'] = '0' # Set which GPU(s) to use \n",
    "os.environ['CUDA_LAUNCH_BLOCKING'] = '1' # Make sure CUDA kernel doesn't asynchronously start\n",
    "os.environ['TORCH_USE_CUDA_DSA'] = '1' # Extra CUDA error logging\n",
    "\n",
    "\n",
    "# Check if GPU is available\n",
    "if os.environ['SF_BACKEND']=='torch':\n",
    "    import torch\n",
    "    print('GPU available: ', torch.cuda.is_available())\n",
    "    print('GPU count: ', torch.cuda.device_count())\n",
    "    print('GPU current: ', torch.cuda.current_device())\n",
    "    print('GPU name: ', torch.cuda.get_device_name(torch.cuda.current_device()))\n",
    "elif os.environ['SF_BACKEND']=='tensorflow':\n",
    "    import tensorflow as tf\n",
    "    print(\"GPU: \", len(tf.config.list_physical_devices('GPU')))\n",
    "\n",
    "# import slideflow\n",
    "import slideflow as sf\n",
    "\n",
    "# Set verbose logging\n",
    "import logging\n",
    "logging.getLogger('slideflow').setLevel(logging.INFO)\n",
    "os.environ['TF_CPP_MIN_LOG_LEVEL'] = '10'\n",
    "import sys\n",
    "sys.stderr = sys.__stdout__\n",
    "\n",
    "# Check if slideflow was properly installed\n",
    "sf.about()"
   ]
  },
  {
   "cell_type": "markdown",
   "metadata": {},
   "source": [
    "<a id='import'></a>\n",
    "### Getting Started with a Slideflow Project\n",
    "We are starting this tutorial under the assumption that you have already initialized a slideflow project. Once the project has been created and you have specified the paths to datasets, annotation files, etc. we will begin by initializing a Slideflow Project object."
   ]
  },
  {
   "cell_type": "code",
   "execution_count": null,
   "metadata": {},
   "outputs": [],
   "source": [
    "# Set root paths\n",
    "username = \"skochanny\" # change me\n",
    "root_path = f'/scratch/{username}/PROJECTS'\n",
    "labshare_path = '/gpfs/data/pearson-lab'\n",
    "project_name = \"TEST_PROJECT\"\n",
    "project_root_path = f\"{root_path}/{project_name}\""
   ]
  },
  {
   "cell_type": "markdown",
   "metadata": {},
   "source": [
    "Make the Project class object. "
   ]
  },
  {
   "cell_type": "code",
   "execution_count": null,
   "metadata": {},
   "outputs": [],
   "source": [
    "# Be sure to check that the project path is correct\n",
    "P = sf.Project(project_root_path)"
   ]
  },
  {
   "cell_type": "markdown",
   "metadata": {},
   "source": [
    "## Generate ROIs"
   ]
  },
  {
   "cell_type": "markdown",
   "metadata": {},
   "source": [
    "Normally, we get a pathologist to annotate the regions of interest (ROIs) using QuPath or Slideflow Studio. Alternatively, you can automatically generate ROIs using a tumor vs. normal pancancer model that we trained on all of TCGA and segmenting the slide for tumor areas. \n",
    "\n",
    "The pancancer tumor vs. normal model is on the labshare at: `/MODELS/pancan_segmentation`\n",
    "\n",
    "ROIs will be saved in the ROIs directory as configured in the dataset settings. Alternatively, ROIs can be exported to a user-defined directory using the `dest` argument.\n",
    "\n",
    "By default, ROIs will be generated for all slides in the dataset, skipping slides with existing ROIs. To overwrite any existing ROIs, use the `overwrite=True` argument."
   ]
  },
  {
   "cell_type": "code",
   "execution_count": null,
   "metadata": {},
   "outputs": [],
   "source": [
    "# Set model path\n",
    "model_path = f'{labshare_path}/MODELS/pancan_segmentation'\n",
    "\n",
    "# create a dataset object\n",
    "dataset = P.dataset()\n",
    "\n",
    "# Generate ROIs for all slides in the dataset.\n",
    "dataset.generate_rois(model_path)"
   ]
  },
  {
   "cell_type": "markdown",
   "metadata": {},
   "source": [
    "You can verify which slides have ROIs by using `dataset.summary()`."
   ]
  },
  {
   "cell_type": "code",
   "execution_count": null,
   "metadata": {},
   "outputs": [],
   "source": [
    "dataset.summary()"
   ]
  },
  {
   "cell_type": "markdown",
   "metadata": {},
   "source": [
    "## Tile extraction"
   ]
  },
  {
   "cell_type": "markdown",
   "metadata": {},
   "source": [
    "Once the project and dataset have been specified, we can extract tiles from the whole slide images. If this step has already been completed, you can skip this section.<br><br>\n",
    "Notes regarding tile extraction:<br>\n",
    "- If you do not have manually annotated ROIs, the image will be tiled. If taking this route, be sure to edit the `whitespace_fraction` parameter such that tiles that are mostly white space are not included in the analysis. You can check the extraction report to see this. \n",
    "- If you do have manually annotated ROIs, you can force the tile extration to be only within the ROIs by setting `roi_method='inside'` \n",
    "- `qc` is a quality control parameter that will remove tiles based on Gaussian blur detection and/or Otsu's method<br>\n",
    "\n",
    "Additional parameters for tile extraction can be found in the [Slideflow documentation here](https://slideflow.dev/dataset/#slideflow.Dataset.extract_tiles). \n"
   ]
  },
  {
   "cell_type": "code",
   "execution_count": null,
   "metadata": {},
   "outputs": [],
   "source": [
    "from slideflow.slide import qc\n",
    "P.extract_tiles(tile_px=299, # can resize to 224x224 pixel tiles later, which is default for most feature extractors\n",
    "                tile_um=302, \n",
    "                whitespace_fraction=0.95,\n",
    "                roi_method='inside',\n",
    "                source = ['LUADvsLUSC'],\n",
    "                #skip_existing=False,\n",
    "                qc=[qc.GaussianV2(), qc.Otsu()]) # also can set qc='both'"
   ]
  },
  {
   "cell_type": "markdown",
   "metadata": {},
   "source": [
    "Make sure to examine the Extraction Report PDF to ensure that your extracted tiles look good. It is saved in the `tfrecords/{tile_px}px_{tile_um}um/` directory. "
   ]
  },
  {
   "cell_type": "markdown",
   "metadata": {},
   "source": []
  }
 ],
 "metadata": {
  "language_info": {
   "name": "python"
  }
 },
 "nbformat": 4,
 "nbformat_minor": 2
}
